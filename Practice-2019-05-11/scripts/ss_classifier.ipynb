{
 "cells": [
  {
   "cell_type": "code",
   "execution_count": 3,
   "metadata": {},
   "outputs": [],
   "source": [
    "import sys\n",
    "sys.path.append('..')"
   ]
  },
  {
   "cell_type": "code",
   "execution_count": 7,
   "metadata": {},
   "outputs": [],
   "source": [
    "from sklearn.metrics import classification_report\n",
    "\n",
    "from baseline_logisticregression import readInData\n",
    "from typing import NamedTuple, List\n",
    "from bert_utils import calc_entailment_prob\n",
    "from sklearn.ensemble import RandomForestClassifier\n",
    "from tqdm.auto import tqdm"
   ]
  },
  {
   "cell_type": "code",
   "execution_count": 5,
   "metadata": {},
   "outputs": [],
   "source": [
    "class RawInput(NamedTuple):\n",
    "    twit0: str\n",
    "    twit1: str"
   ]
  },
  {
   "cell_type": "code",
   "execution_count": 6,
   "metadata": {},
   "outputs": [],
   "source": [
    "def load_data(fn: str)->(List[RawInput],List[bool]):\n",
    "    print(f\"Start to read '{fn}'\")\n",
    "    data, trends = readInData(fn)\n",
    "    print(\"Total records:\", len(data))\n",
    "    print(\"True samples:\", sum([1 for r in data if r[1]]))\n",
    "    print(\"False samples:\", sum([1 for r in data if not r[1]]))\n",
    "    return [RawInput(r[2], r[2]) for r in data], [r[1] for r in data]"
   ]
  },
  {
   "cell_type": "code",
   "execution_count": 8,
   "metadata": {},
   "outputs": [],
   "source": [
    "def featurize(x_raw: List[RawInput])->List[List[float]]:\n",
    "    res = []\n",
    "    for r in tqdm(x_raw):\n",
    "        p = calc_entailment_prob(r.twit0, r.twit1)\n",
    "        pb = calc_entailment_prob(r.twit1, r.twit0)\n",
    "        res.append([p[0], p[1], pb[0], pb[1]])\n",
    "    return res"
   ]
  },
  {
   "cell_type": "code",
   "execution_count": 9,
   "metadata": {},
   "outputs": [
    {
     "name": "stdout",
     "output_type": "stream",
     "text": [
      "Start to read '../data/train.data'\n",
      "Total records: 11530\n",
      "True samples: 3996\n",
      "False samples: 7534\n",
      "Start to read '../data/dev.data'\n",
      "Total records: 4142\n",
      "True samples: 1470\n",
      "False samples: 2672\n",
      "Start to read '../data/test.data'\n",
      "Total records: 972\n",
      "True samples: 175\n",
      "False samples: 797\n"
     ]
    }
   ],
   "source": [
    "x_train_raw, y_train = load_data('../data/train.data')\n",
    "x_dev_raw, y_dev = load_data('../data/dev.data')\n",
    "x_test_raw, y_test = load_data('../data/test.data')"
   ]
  },
  {
   "cell_type": "code",
   "execution_count": 10,
   "metadata": {},
   "outputs": [
    {
     "name": "stdout",
     "output_type": "stream",
     "text": [
      "Start featurizing...\n"
     ]
    },
    {
     "data": {
      "application/vnd.jupyter.widget-view+json": {
       "model_id": "d91a773888964afe906bd2b147106586",
       "version_major": 2,
       "version_minor": 0
      },
      "text/plain": [
       "HBox(children=(IntProgress(value=0, max=11530), HTML(value='')))"
      ]
     },
     "metadata": {},
     "output_type": "display_data"
    },
    {
     "name": "stdout",
     "output_type": "stream",
     "text": [
      "\n"
     ]
    },
    {
     "data": {
      "application/vnd.jupyter.widget-view+json": {
       "model_id": "6c8bae4f688243beafc13a5ba6dfae98",
       "version_major": 2,
       "version_minor": 0
      },
      "text/plain": [
       "HBox(children=(IntProgress(value=0, max=4142), HTML(value='')))"
      ]
     },
     "metadata": {},
     "output_type": "display_data"
    },
    {
     "name": "stdout",
     "output_type": "stream",
     "text": [
      "\n"
     ]
    },
    {
     "data": {
      "application/vnd.jupyter.widget-view+json": {
       "model_id": "e45aee3e25374fe39c3cc791716e03a1",
       "version_major": 2,
       "version_minor": 0
      },
      "text/plain": [
       "HBox(children=(IntProgress(value=0, max=972), HTML(value='')))"
      ]
     },
     "metadata": {},
     "output_type": "display_data"
    },
    {
     "name": "stdout",
     "output_type": "stream",
     "text": [
      "\n",
      "Done!\n"
     ]
    }
   ],
   "source": [
    "print(\"Start featurizing...\")\n",
    "x_train_features = featurize(x_train_raw)\n",
    "x_dev_features = featurize(x_dev_raw)\n",
    "x_test_features = featurize(x_test_raw)\n",
    "print(\"Done!\")"
   ]
  },
  {
   "cell_type": "code",
   "execution_count": 19,
   "metadata": {},
   "outputs": [],
   "source": [
    "def save_bert_features(x, filename):\n",
    "    with open(filename, 'wt', encoding='utf-8') as f:\n",
    "        lines = ['\\t'.join([str(row[0]),str(row[1]),str(row[2]),str(row[3])]) for row in x]\n",
    "        tsv_str = '\\n'.join(lines)\n",
    "        f.write(tsv_str)"
   ]
  },
  {
   "cell_type": "code",
   "execution_count": 20,
   "metadata": {},
   "outputs": [],
   "source": [
    "save_bert_features(x_train_features, '../data/bert.train.data')"
   ]
  },
  {
   "cell_type": "code",
   "execution_count": 21,
   "metadata": {},
   "outputs": [],
   "source": [
    "save_bert_features(x_dev_features, '../data/bert.dev.data')"
   ]
  },
  {
   "cell_type": "code",
   "execution_count": 22,
   "metadata": {},
   "outputs": [],
   "source": [
    "save_bert_features(x_test_features, '../data/bert.test.data')"
   ]
  },
  {
   "cell_type": "code",
   "execution_count": null,
   "metadata": {},
   "outputs": [],
   "source": []
  },
  {
   "cell_type": "code",
   "execution_count": 34,
   "metadata": {},
   "outputs": [],
   "source": [
    "def report(y_true, y_pred):\n",
    "    y_true_cleaned, y_pred_cleaned = [], []\n",
    "    for t, p in zip(y_true, y_pred):\n",
    "        if t is not None:\n",
    "            y_true_cleaned.append(t)\n",
    "            y_pred_cleaned.append(p)\n",
    "    print(classification_report(y_true_cleaned, y_pred_cleaned))"
   ]
  },
  {
   "cell_type": "code",
   "execution_count": 45,
   "metadata": {},
   "outputs": [
    {
     "name": "stdout",
     "output_type": "stream",
     "text": [
      "Start learning classifier...\n",
      "Done!\n"
     ]
    },
    {
     "name": "stderr",
     "output_type": "stream",
     "text": [
      "[Parallel(n_jobs=1)]: Using backend SequentialBackend with 1 concurrent workers.\n"
     ]
    },
    {
     "name": "stdout",
     "output_type": "stream",
     "text": [
      "convergence after 49 epochs took 0 seconds\n"
     ]
    },
    {
     "name": "stderr",
     "output_type": "stream",
     "text": [
      "[Parallel(n_jobs=1)]: Done   1 out of   1 | elapsed:    0.1s finished\n",
      "C:\\Users\\ssotn\\Anaconda3\\envs\\nlp\\lib\\site-packages\\sklearn\\metrics\\classification.py:1143: UndefinedMetricWarning: Precision and F-score are ill-defined and being set to 0.0 in labels with no predicted samples.\n",
      "  'precision', 'predicted', average, warn_for)\n"
     ]
    },
    {
     "name": "stdout",
     "output_type": "stream",
     "text": [
      "              precision    recall  f1-score   support\n",
      "\n",
      "       False       0.79      1.00      0.88       663\n",
      "        True       0.00      0.00      0.00       175\n",
      "\n",
      "   micro avg       0.79      0.79      0.79       838\n",
      "   macro avg       0.40      0.50      0.44       838\n",
      "weighted avg       0.63      0.79      0.70       838\n",
      "\n",
      "None\n"
     ]
    }
   ],
   "source": [
    "from sklearn.linear_model import LogisticRegression\n",
    "print(\"Start learning classifier...\")\n",
    "#clf = RandomForestClassifier(n_estimators=2, random_state=1974, verbose=True)\n",
    "clf = LogisticRegression(random_state=1974, verbose=True, solver='saga')\n",
    "print(\"Done!\")\n",
    "clf.fit(x_train_features, y_train)\n",
    "y_pred = clf.predict(x_test_features)\n",
    "print(report(y_test, y_pred))"
   ]
  },
  {
   "cell_type": "code",
   "execution_count": 46,
   "metadata": {},
   "outputs": [
    {
     "name": "stderr",
     "output_type": "stream",
     "text": [
      "C:\\Users\\ssotn\\Anaconda3\\envs\\nlp\\lib\\site-packages\\sklearn\\metrics\\classification.py:1143: UndefinedMetricWarning: Precision and F-score are ill-defined and being set to 0.0 in labels with no predicted samples.\n",
      "  'precision', 'predicted', average, warn_for)\n"
     ]
    },
    {
     "name": "stdout",
     "output_type": "stream",
     "text": [
      "              precision    recall  f1-score   support\n",
      "\n",
      "       False       0.65      1.00      0.79      7534\n",
      "        True       0.00      0.00      0.00      3996\n",
      "\n",
      "   micro avg       0.65      0.65      0.65     11530\n",
      "   macro avg       0.33      0.50      0.40     11530\n",
      "weighted avg       0.43      0.65      0.52     11530\n",
      "\n",
      "None\n"
     ]
    }
   ],
   "source": [
    "y_pred_tr = clf.predict(x_train_features)\n",
    "print(report(y_train, y_pred_tr))"
   ]
  },
  {
   "cell_type": "code",
   "execution_count": null,
   "metadata": {},
   "outputs": [],
   "source": []
  }
 ],
 "metadata": {
  "kernelspec": {
   "display_name": "nlp",
   "language": "python",
   "name": "nlp"
  },
  "language_info": {
   "codemirror_mode": {
    "name": "ipython",
    "version": 3
   },
   "file_extension": ".py",
   "mimetype": "text/x-python",
   "name": "python",
   "nbconvert_exporter": "python",
   "pygments_lexer": "ipython3",
   "version": "3.6.8"
  }
 },
 "nbformat": 4,
 "nbformat_minor": 2
}
