{
 "cells": [
  {
   "cell_type": "markdown",
   "metadata": {},
   "source": [
    "https://keras.io/examples/lstm_seq2seq/"
   ]
  },
  {
   "cell_type": "markdown",
   "metadata": {},
   "source": [
    "## Sequence to sequence example in Keras (character-level).\n",
    "\n",
    "This script demonstrates how to implement a basic character-level sequence-to-sequence model. We apply it to translating short English sentences into short French sentences, character-by-character. Note that it is fairly unusual to do character-level machine translation, as word-level models are more common in this domain."
   ]
  },
  {
   "cell_type": "code",
   "execution_count": 1,
   "metadata": {},
   "outputs": [
    {
     "name": "stderr",
     "output_type": "stream",
     "text": [
      "Using TensorFlow backend.\n"
     ]
    }
   ],
   "source": [
    "from keras.models import Model\n",
    "from keras.layers import Input, LSTM, Dense\n",
    "from keras.utils import Sequence\n",
    "import numpy as np\n",
    "import random\n",
    "from typing import List, Dict, Tuple"
   ]
  },
  {
   "cell_type": "code",
   "execution_count": 2,
   "metadata": {},
   "outputs": [],
   "source": [
    "def read_pairs(fn: str)-> List[Tuple]:\n",
    "    res = []\n",
    "    with open(fn, 'rt', encoding='utf-8') as f:\n",
    "        next(f)  # skip header\n",
    "        for line in f:\n",
    "            line = line.strip()\n",
    "            original, compressed = line.split('\\t')\n",
    "            res.append((original,compressed))\n",
    "    return res"
   ]
  },
  {
   "cell_type": "code",
   "execution_count": 3,
   "metadata": {},
   "outputs": [
    {
     "name": "stdout",
     "output_type": "stream",
     "text": [
      "Total samples: 200000\n",
      "('Serge Ibaka -- the Oklahoma City Thunder forward who was born in the Congo but played in Spain -- has been granted Spanish citizenship and will play for the country in EuroBasket this summer, the event where spots in the 2012 Olympics will be decided.', 'Serge Ibaka has been granted Spanish citizenship and will play in EuroBasket.')\n",
      "('MILAN -Catania held Roma to a 1-1 draw in Serie A on Wednesday as the teams played out the remaining 25 minutes of a game that was called off last month.', 'Catania held Roma to a 1 1 draw in Serie A.')\n",
      "('State Street Corporation, a provider of investment servicing, investment management and investment research and trading services, has launched a new investment servicing solution to support small to mid-sized asset managers with their investment operations needs.', 'State Street Corporation, has launched a new investment servicing solution.')\n"
     ]
    }
   ],
   "source": [
    "train_samples = read_pairs('sent-comp.train.tsv')\n",
    "print(f\"Total samples: {len(train_samples)}\")\n",
    "for s in train_samples[:3]:\n",
    "    print(s)"
   ]
  },
  {
   "cell_type": "code",
   "execution_count": 4,
   "metadata": {},
   "outputs": [
    {
     "name": "stdout",
     "output_type": "stream",
     "text": [
      "Total samples: 10000\n",
      "('Five people have been taken to hospital with minor injuries following a crash on the A17 near Sleaford this morning.', 'Five people have been taken to hospital with minor injuries following a crash on the A17 near Sleaford.')\n",
      "(\"Several school districts in Hampton Roads are holding classes this Presidents' Day to make up for days missed because of the snow.\", \"Several school districts are holding classes this Presidents ' Day to make up for days missed.\")\n",
      "('Luis Suarez was spotted in London this afternoon and this has led the Daily Star to link the Liverpool striker to a potential move to Chelsea or Arsenal.', 'Luis Suarez was spotted in London.')\n"
     ]
    }
   ],
   "source": [
    "eval_samples = read_pairs('comp-data.eval.tsv')\n",
    "print(f\"Total samples: {len(eval_samples)}\")\n",
    "for s in eval_samples[:3]:\n",
    "    print(s)"
   ]
  },
  {
   "cell_type": "code",
   "execution_count": 5,
   "metadata": {},
   "outputs": [],
   "source": [
    "batch_size = 64  # Batch size for training.\n",
    "epochs = 100  # Number of epochs to train for.\n",
    "latent_dim = 256  # Latent dimensionality of the encoding space."
   ]
  },
  {
   "cell_type": "code",
   "execution_count": 6,
   "metadata": {},
   "outputs": [
    {
     "name": "stdout",
     "output_type": "stream",
     "text": [
      "Number of samples: 210000\n",
      "Number of unique input tokens: 250\n",
      "Number of unique output tokens: 181\n",
      "Max sequence length for inputs: 4769\n",
      "Max sequence length for outputs: 245\n"
     ]
    }
   ],
   "source": [
    "# Vectorize the data.\n",
    "input_texts = []\n",
    "target_texts = []\n",
    "input_characters = set()\n",
    "target_characters = set()\n",
    "for s in train_samples+eval_samples:\n",
    "    input_text, target_text = s\n",
    "    # We use \"tab\" as the \"start sequence\" character\n",
    "    # for the targets, and \"\\n\" as \"end sequence\" character.\n",
    "    target_text = '\\t' + target_text + '\\n'\n",
    "    input_texts.append(input_text)\n",
    "    target_texts.append(target_text)\n",
    "    for char in input_text:\n",
    "        if char not in input_characters:\n",
    "            input_characters.add(char)\n",
    "    for char in target_text:\n",
    "        if char not in target_characters:\n",
    "            target_characters.add(char)\n",
    "\n",
    "input_characters = sorted(list(input_characters))\n",
    "target_characters = sorted(list(target_characters))\n",
    "num_encoder_tokens = len(input_characters)\n",
    "num_decoder_tokens = len(target_characters)\n",
    "max_encoder_seq_length = max([len(txt) for txt in input_texts])\n",
    "max_decoder_seq_length = max([len(txt) for txt in target_texts])\n",
    "\n",
    "print('Number of samples:', len(input_texts))\n",
    "print('Number of unique input tokens:', num_encoder_tokens)\n",
    "print('Number of unique output tokens:', num_decoder_tokens)\n",
    "print('Max sequence length for inputs:', max_encoder_seq_length)\n",
    "print('Max sequence length for outputs:', max_decoder_seq_length)"
   ]
  },
  {
   "cell_type": "code",
   "execution_count": 7,
   "metadata": {},
   "outputs": [],
   "source": [
    "train_input_texts = input_texts[0:-len(eval_samples)]\n",
    "train_target_texts = target_texts[0:-len(eval_samples)]\n",
    "eval_input_texts = input_texts[-len(eval_samples):]\n",
    "eval_target_texts = target_texts[-len(eval_samples):]"
   ]
  },
  {
   "cell_type": "code",
   "execution_count": 8,
   "metadata": {},
   "outputs": [],
   "source": [
    "input_token_index = dict(\n",
    "    [(char, i) for i, char in enumerate(input_characters)])\n",
    "target_token_index = dict(\n",
    "    [(char, i) for i, char in enumerate(target_characters)])"
   ]
  },
  {
   "cell_type": "code",
   "execution_count": 17,
   "metadata": {},
   "outputs": [],
   "source": [
    "class DataGenerator(Sequence):\n",
    "    'Generates data for Keras'\n",
    "    def __init__(self, input_texts, target_texts, batch_size=batch_size, shuffle=True):\n",
    "        'Initialization'\n",
    "        self.input_texts = input_texts\n",
    "        self.target_texts = target_texts\n",
    "        self.batch_size = batch_size\n",
    "        self.shuffle = shuffle\n",
    "        self.on_epoch_end()\n",
    "\n",
    "    def __len__(self):\n",
    "        'Denotes the number of batches per epoch'\n",
    "        return int(np.floor(len(self.input_texts) / self.batch_size))\n",
    "\n",
    "    def __getitem__(self, index):        \n",
    "        'Generate one batch of data'\n",
    "        encoder_input_data = np.zeros(\n",
    "            (self.batch_size, max_encoder_seq_length, num_encoder_tokens),\n",
    "            dtype='float32')\n",
    "        decoder_input_data = np.zeros(\n",
    "            (self.batch_size, max_decoder_seq_length, num_decoder_tokens),\n",
    "            dtype='float32')\n",
    "        decoder_target_data = np.zeros(\n",
    "            (self.batch_size, max_decoder_seq_length, num_decoder_tokens),\n",
    "            dtype='float32')\n",
    "\n",
    "        from_ind = index*self.batch_size\n",
    "        to_ind = from_ind+self.batch_size\n",
    "        for i, (input_text, target_text) in enumerate(zip(self.input_texts[from_ind:to_ind], self.target_texts[from_ind:to_ind])):\n",
    "            for t, char in enumerate(input_text):\n",
    "                encoder_input_data[i, t, input_token_index[char]] = 1.\n",
    "            for t, char in enumerate(target_text):\n",
    "                # decoder_target_data is ahead of decoder_input_data by one timestep\n",
    "                decoder_input_data[i, t, target_token_index[char]] = 1.\n",
    "                if t > 0:\n",
    "                    # decoder_target_data will be ahead by one timestep\n",
    "                    # and will not include the start character.\n",
    "                    decoder_target_data[i, t - 1, target_token_index[char]] = 1.\n",
    "        \n",
    "        return [encoder_input_data, decoder_input_data], decoder_target_data\n",
    "\n",
    "    def on_epoch_end(self):\n",
    "        'Updates indexes after each epoch'\n",
    "        if self.shuffle == True:\n",
    "            c = list(zip(self.input_texts, self.target_texts))\n",
    "            random.shuffle(c)\n",
    "            self.input_texts, self.target_texts = zip(*c)\n"
   ]
  },
  {
   "cell_type": "code",
   "execution_count": 18,
   "metadata": {},
   "outputs": [],
   "source": [
    "training_generator = DataGenerator(train_input_texts, train_target_texts)\n",
    "val_generator = DataGenerator(eval_input_texts, eval_target_texts)"
   ]
  },
  {
   "cell_type": "code",
   "execution_count": 11,
   "metadata": {
    "scrolled": false
   },
   "outputs": [
    {
     "name": "stdout",
     "output_type": "stream",
     "text": [
      "WARNING:tensorflow:From C:\\Users\\ssotn\\Anaconda3\\envs\\nlp\\lib\\site-packages\\tensorflow\\python\\framework\\op_def_library.py:263: colocate_with (from tensorflow.python.framework.ops) is deprecated and will be removed in a future version.\n",
      "Instructions for updating:\n",
      "Colocations handled automatically by placer.\n",
      "WARNING:tensorflow:From C:\\Users\\ssotn\\Anaconda3\\envs\\nlp\\lib\\site-packages\\tensorflow\\python\\ops\\math_ops.py:3066: to_int32 (from tensorflow.python.ops.math_ops) is deprecated and will be removed in a future version.\n",
      "Instructions for updating:\n",
      "Use tf.cast instead.\n",
      "WARNING:tensorflow:From C:\\Users\\ssotn\\Anaconda3\\envs\\nlp\\lib\\site-packages\\tensorflow\\python\\ops\\math_grad.py:102: div (from tensorflow.python.ops.math_ops) is deprecated and will be removed in a future version.\n",
      "Instructions for updating:\n",
      "Deprecated in favor of operator or tf.math.divide.\n",
      "Epoch 1/5\n",
      "3125/3125 [==============================] - 31950s 10s/step - loss: 0.4713 - val_loss: 0.3874\n",
      "Epoch 2/5\n",
      " 545/3125 [====>.........................] - ETA: 7:11:29 - loss: 0.3783"
     ]
    },
    {
     "ename": "KeyboardInterrupt",
     "evalue": "",
     "output_type": "error",
     "traceback": [
      "\u001b[1;31m---------------------------------------------------------------------------\u001b[0m",
      "\u001b[1;31mKeyboardInterrupt\u001b[0m                         Traceback (most recent call last)",
      "\u001b[1;32m<ipython-input-11-89910bb80d7c>\u001b[0m in \u001b[0;36m<module>\u001b[1;34m\u001b[0m\n\u001b[0;32m     25\u001b[0m model.fit_generator(generator=training_generator,\n\u001b[0;32m     26\u001b[0m                     \u001b[0mvalidation_data\u001b[0m\u001b[1;33m=\u001b[0m\u001b[0mval_generator\u001b[0m\u001b[1;33m,\u001b[0m\u001b[1;33m\u001b[0m\u001b[1;33m\u001b[0m\u001b[0m\n\u001b[1;32m---> 27\u001b[1;33m                     epochs=5)\n\u001b[0m\u001b[0;32m     28\u001b[0m \u001b[1;31m# Save model\u001b[0m\u001b[1;33m\u001b[0m\u001b[1;33m\u001b[0m\u001b[1;33m\u001b[0m\u001b[0m\n\u001b[0;32m     29\u001b[0m \u001b[1;31m# model.save('data/s2s.h5')\u001b[0m\u001b[1;33m\u001b[0m\u001b[1;33m\u001b[0m\u001b[1;33m\u001b[0m\u001b[0m\n",
      "\u001b[1;32m~\\Anaconda3\\envs\\nlp\\lib\\site-packages\\keras\\legacy\\interfaces.py\u001b[0m in \u001b[0;36mwrapper\u001b[1;34m(*args, **kwargs)\u001b[0m\n\u001b[0;32m     89\u001b[0m                 warnings.warn('Update your `' + object_name + '` call to the ' +\n\u001b[0;32m     90\u001b[0m                               'Keras 2 API: ' + signature, stacklevel=2)\n\u001b[1;32m---> 91\u001b[1;33m             \u001b[1;32mreturn\u001b[0m \u001b[0mfunc\u001b[0m\u001b[1;33m(\u001b[0m\u001b[1;33m*\u001b[0m\u001b[0margs\u001b[0m\u001b[1;33m,\u001b[0m \u001b[1;33m**\u001b[0m\u001b[0mkwargs\u001b[0m\u001b[1;33m)\u001b[0m\u001b[1;33m\u001b[0m\u001b[1;33m\u001b[0m\u001b[0m\n\u001b[0m\u001b[0;32m     92\u001b[0m         \u001b[0mwrapper\u001b[0m\u001b[1;33m.\u001b[0m\u001b[0m_original_function\u001b[0m \u001b[1;33m=\u001b[0m \u001b[0mfunc\u001b[0m\u001b[1;33m\u001b[0m\u001b[1;33m\u001b[0m\u001b[0m\n\u001b[0;32m     93\u001b[0m         \u001b[1;32mreturn\u001b[0m \u001b[0mwrapper\u001b[0m\u001b[1;33m\u001b[0m\u001b[1;33m\u001b[0m\u001b[0m\n",
      "\u001b[1;32m~\\Anaconda3\\envs\\nlp\\lib\\site-packages\\keras\\engine\\training.py\u001b[0m in \u001b[0;36mfit_generator\u001b[1;34m(self, generator, steps_per_epoch, epochs, verbose, callbacks, validation_data, validation_steps, class_weight, max_queue_size, workers, use_multiprocessing, shuffle, initial_epoch)\u001b[0m\n\u001b[0;32m   1416\u001b[0m             \u001b[0muse_multiprocessing\u001b[0m\u001b[1;33m=\u001b[0m\u001b[0muse_multiprocessing\u001b[0m\u001b[1;33m,\u001b[0m\u001b[1;33m\u001b[0m\u001b[1;33m\u001b[0m\u001b[0m\n\u001b[0;32m   1417\u001b[0m             \u001b[0mshuffle\u001b[0m\u001b[1;33m=\u001b[0m\u001b[0mshuffle\u001b[0m\u001b[1;33m,\u001b[0m\u001b[1;33m\u001b[0m\u001b[1;33m\u001b[0m\u001b[0m\n\u001b[1;32m-> 1418\u001b[1;33m             initial_epoch=initial_epoch)\n\u001b[0m\u001b[0;32m   1419\u001b[0m \u001b[1;33m\u001b[0m\u001b[0m\n\u001b[0;32m   1420\u001b[0m     \u001b[1;33m@\u001b[0m\u001b[0minterfaces\u001b[0m\u001b[1;33m.\u001b[0m\u001b[0mlegacy_generator_methods_support\u001b[0m\u001b[1;33m\u001b[0m\u001b[1;33m\u001b[0m\u001b[0m\n",
      "\u001b[1;32m~\\Anaconda3\\envs\\nlp\\lib\\site-packages\\keras\\engine\\training_generator.py\u001b[0m in \u001b[0;36mfit_generator\u001b[1;34m(model, generator, steps_per_epoch, epochs, verbose, callbacks, validation_data, validation_steps, class_weight, max_queue_size, workers, use_multiprocessing, shuffle, initial_epoch)\u001b[0m\n\u001b[0;32m    215\u001b[0m                 outs = model.train_on_batch(x, y,\n\u001b[0;32m    216\u001b[0m                                             \u001b[0msample_weight\u001b[0m\u001b[1;33m=\u001b[0m\u001b[0msample_weight\u001b[0m\u001b[1;33m,\u001b[0m\u001b[1;33m\u001b[0m\u001b[1;33m\u001b[0m\u001b[0m\n\u001b[1;32m--> 217\u001b[1;33m                                             class_weight=class_weight)\n\u001b[0m\u001b[0;32m    218\u001b[0m \u001b[1;33m\u001b[0m\u001b[0m\n\u001b[0;32m    219\u001b[0m                 \u001b[0mouts\u001b[0m \u001b[1;33m=\u001b[0m \u001b[0mto_list\u001b[0m\u001b[1;33m(\u001b[0m\u001b[0mouts\u001b[0m\u001b[1;33m)\u001b[0m\u001b[1;33m\u001b[0m\u001b[1;33m\u001b[0m\u001b[0m\n",
      "\u001b[1;32m~\\Anaconda3\\envs\\nlp\\lib\\site-packages\\keras\\engine\\training.py\u001b[0m in \u001b[0;36mtrain_on_batch\u001b[1;34m(self, x, y, sample_weight, class_weight)\u001b[0m\n\u001b[0;32m   1215\u001b[0m             \u001b[0mins\u001b[0m \u001b[1;33m=\u001b[0m \u001b[0mx\u001b[0m \u001b[1;33m+\u001b[0m \u001b[0my\u001b[0m \u001b[1;33m+\u001b[0m \u001b[0msample_weights\u001b[0m\u001b[1;33m\u001b[0m\u001b[1;33m\u001b[0m\u001b[0m\n\u001b[0;32m   1216\u001b[0m         \u001b[0mself\u001b[0m\u001b[1;33m.\u001b[0m\u001b[0m_make_train_function\u001b[0m\u001b[1;33m(\u001b[0m\u001b[1;33m)\u001b[0m\u001b[1;33m\u001b[0m\u001b[1;33m\u001b[0m\u001b[0m\n\u001b[1;32m-> 1217\u001b[1;33m         \u001b[0moutputs\u001b[0m \u001b[1;33m=\u001b[0m \u001b[0mself\u001b[0m\u001b[1;33m.\u001b[0m\u001b[0mtrain_function\u001b[0m\u001b[1;33m(\u001b[0m\u001b[0mins\u001b[0m\u001b[1;33m)\u001b[0m\u001b[1;33m\u001b[0m\u001b[1;33m\u001b[0m\u001b[0m\n\u001b[0m\u001b[0;32m   1218\u001b[0m         \u001b[1;32mreturn\u001b[0m \u001b[0munpack_singleton\u001b[0m\u001b[1;33m(\u001b[0m\u001b[0moutputs\u001b[0m\u001b[1;33m)\u001b[0m\u001b[1;33m\u001b[0m\u001b[1;33m\u001b[0m\u001b[0m\n\u001b[0;32m   1219\u001b[0m \u001b[1;33m\u001b[0m\u001b[0m\n",
      "\u001b[1;32m~\\Anaconda3\\envs\\nlp\\lib\\site-packages\\keras\\backend\\tensorflow_backend.py\u001b[0m in \u001b[0;36m__call__\u001b[1;34m(self, inputs)\u001b[0m\n\u001b[0;32m   2713\u001b[0m                 \u001b[1;32mreturn\u001b[0m \u001b[0mself\u001b[0m\u001b[1;33m.\u001b[0m\u001b[0m_legacy_call\u001b[0m\u001b[1;33m(\u001b[0m\u001b[0minputs\u001b[0m\u001b[1;33m)\u001b[0m\u001b[1;33m\u001b[0m\u001b[1;33m\u001b[0m\u001b[0m\n\u001b[0;32m   2714\u001b[0m \u001b[1;33m\u001b[0m\u001b[0m\n\u001b[1;32m-> 2715\u001b[1;33m             \u001b[1;32mreturn\u001b[0m \u001b[0mself\u001b[0m\u001b[1;33m.\u001b[0m\u001b[0m_call\u001b[0m\u001b[1;33m(\u001b[0m\u001b[0minputs\u001b[0m\u001b[1;33m)\u001b[0m\u001b[1;33m\u001b[0m\u001b[1;33m\u001b[0m\u001b[0m\n\u001b[0m\u001b[0;32m   2716\u001b[0m         \u001b[1;32melse\u001b[0m\u001b[1;33m:\u001b[0m\u001b[1;33m\u001b[0m\u001b[1;33m\u001b[0m\u001b[0m\n\u001b[0;32m   2717\u001b[0m             \u001b[1;32mif\u001b[0m \u001b[0mpy_any\u001b[0m\u001b[1;33m(\u001b[0m\u001b[0mis_tensor\u001b[0m\u001b[1;33m(\u001b[0m\u001b[0mx\u001b[0m\u001b[1;33m)\u001b[0m \u001b[1;32mfor\u001b[0m \u001b[0mx\u001b[0m \u001b[1;32min\u001b[0m \u001b[0minputs\u001b[0m\u001b[1;33m)\u001b[0m\u001b[1;33m:\u001b[0m\u001b[1;33m\u001b[0m\u001b[1;33m\u001b[0m\u001b[0m\n",
      "\u001b[1;32m~\\Anaconda3\\envs\\nlp\\lib\\site-packages\\keras\\backend\\tensorflow_backend.py\u001b[0m in \u001b[0;36m_call\u001b[1;34m(self, inputs)\u001b[0m\n\u001b[0;32m   2673\u001b[0m             \u001b[0mfetched\u001b[0m \u001b[1;33m=\u001b[0m \u001b[0mself\u001b[0m\u001b[1;33m.\u001b[0m\u001b[0m_callable_fn\u001b[0m\u001b[1;33m(\u001b[0m\u001b[1;33m*\u001b[0m\u001b[0marray_vals\u001b[0m\u001b[1;33m,\u001b[0m \u001b[0mrun_metadata\u001b[0m\u001b[1;33m=\u001b[0m\u001b[0mself\u001b[0m\u001b[1;33m.\u001b[0m\u001b[0mrun_metadata\u001b[0m\u001b[1;33m)\u001b[0m\u001b[1;33m\u001b[0m\u001b[1;33m\u001b[0m\u001b[0m\n\u001b[0;32m   2674\u001b[0m         \u001b[1;32melse\u001b[0m\u001b[1;33m:\u001b[0m\u001b[1;33m\u001b[0m\u001b[1;33m\u001b[0m\u001b[0m\n\u001b[1;32m-> 2675\u001b[1;33m             \u001b[0mfetched\u001b[0m \u001b[1;33m=\u001b[0m \u001b[0mself\u001b[0m\u001b[1;33m.\u001b[0m\u001b[0m_callable_fn\u001b[0m\u001b[1;33m(\u001b[0m\u001b[1;33m*\u001b[0m\u001b[0marray_vals\u001b[0m\u001b[1;33m)\u001b[0m\u001b[1;33m\u001b[0m\u001b[1;33m\u001b[0m\u001b[0m\n\u001b[0m\u001b[0;32m   2676\u001b[0m         \u001b[1;32mreturn\u001b[0m \u001b[0mfetched\u001b[0m\u001b[1;33m[\u001b[0m\u001b[1;33m:\u001b[0m\u001b[0mlen\u001b[0m\u001b[1;33m(\u001b[0m\u001b[0mself\u001b[0m\u001b[1;33m.\u001b[0m\u001b[0moutputs\u001b[0m\u001b[1;33m)\u001b[0m\u001b[1;33m]\u001b[0m\u001b[1;33m\u001b[0m\u001b[1;33m\u001b[0m\u001b[0m\n\u001b[0;32m   2677\u001b[0m \u001b[1;33m\u001b[0m\u001b[0m\n",
      "\u001b[1;32m~\\Anaconda3\\envs\\nlp\\lib\\site-packages\\tensorflow\\python\\client\\session.py\u001b[0m in \u001b[0;36m__call__\u001b[1;34m(self, *args, **kwargs)\u001b[0m\n\u001b[0;32m   1437\u001b[0m           ret = tf_session.TF_SessionRunCallable(\n\u001b[0;32m   1438\u001b[0m               \u001b[0mself\u001b[0m\u001b[1;33m.\u001b[0m\u001b[0m_session\u001b[0m\u001b[1;33m.\u001b[0m\u001b[0m_session\u001b[0m\u001b[1;33m,\u001b[0m \u001b[0mself\u001b[0m\u001b[1;33m.\u001b[0m\u001b[0m_handle\u001b[0m\u001b[1;33m,\u001b[0m \u001b[0margs\u001b[0m\u001b[1;33m,\u001b[0m \u001b[0mstatus\u001b[0m\u001b[1;33m,\u001b[0m\u001b[1;33m\u001b[0m\u001b[1;33m\u001b[0m\u001b[0m\n\u001b[1;32m-> 1439\u001b[1;33m               run_metadata_ptr)\n\u001b[0m\u001b[0;32m   1440\u001b[0m         \u001b[1;32mif\u001b[0m \u001b[0mrun_metadata\u001b[0m\u001b[1;33m:\u001b[0m\u001b[1;33m\u001b[0m\u001b[1;33m\u001b[0m\u001b[0m\n\u001b[0;32m   1441\u001b[0m           \u001b[0mproto_data\u001b[0m \u001b[1;33m=\u001b[0m \u001b[0mtf_session\u001b[0m\u001b[1;33m.\u001b[0m\u001b[0mTF_GetBuffer\u001b[0m\u001b[1;33m(\u001b[0m\u001b[0mrun_metadata_ptr\u001b[0m\u001b[1;33m)\u001b[0m\u001b[1;33m\u001b[0m\u001b[1;33m\u001b[0m\u001b[0m\n",
      "\u001b[1;31mKeyboardInterrupt\u001b[0m: "
     ]
    }
   ],
   "source": [
    "# Define an input sequence and process it.\n",
    "encoder_inputs = Input(shape=(None, num_encoder_tokens))\n",
    "encoder = LSTM(latent_dim, return_state=True)\n",
    "encoder_outputs, state_h, state_c = encoder(encoder_inputs)\n",
    "# We discard `encoder_outputs` and only keep the states.\n",
    "encoder_states = [state_h, state_c]\n",
    "\n",
    "# Set up the decoder, using `encoder_states` as initial state.\n",
    "decoder_inputs = Input(shape=(None, num_decoder_tokens))\n",
    "# We set up our decoder to return full output sequences,\n",
    "# and to return internal states as well. We don't use the\n",
    "# return states in the training model, but we will use them in inference.\n",
    "decoder_lstm = LSTM(latent_dim, return_sequences=True, return_state=True)\n",
    "decoder_outputs, _, _ = decoder_lstm(decoder_inputs,\n",
    "                                     initial_state=encoder_states)\n",
    "decoder_dense = Dense(num_decoder_tokens, activation='softmax')\n",
    "decoder_outputs = decoder_dense(decoder_outputs)\n",
    "\n",
    "# Define the model that will turn\n",
    "# `encoder_input_data` & `decoder_input_data` into `decoder_target_data`\n",
    "model = Model([encoder_inputs, decoder_inputs], decoder_outputs)\n",
    "\n",
    "# Run training\n",
    "model.compile(optimizer='rmsprop', loss='categorical_crossentropy')\n",
    "model.fit_generator(generator=training_generator,\n",
    "                    validation_data=val_generator,\n",
    "                    epochs=5)\n",
    "# Save model\n",
    "# model.save('data/s2s.h5')"
   ]
  },
  {
   "cell_type": "code",
   "execution_count": 12,
   "metadata": {},
   "outputs": [],
   "source": [
    "# Next: inference mode (sampling).\n",
    "# Here's the drill:\n",
    "# 1) encode input and retrieve initial decoder state\n",
    "# 2) run one step of decoder with this initial state\n",
    "# and a \"start of sequence\" token as target.\n",
    "# Output will be the next target token\n",
    "# 3) Repeat with the current target token and current states\n",
    "\n",
    "# Define sampling models\n",
    "encoder_model = Model(encoder_inputs, encoder_states)\n",
    "\n",
    "decoder_state_input_h = Input(shape=(latent_dim,))\n",
    "decoder_state_input_c = Input(shape=(latent_dim,))\n",
    "decoder_states_inputs = [decoder_state_input_h, decoder_state_input_c]\n",
    "decoder_outputs, state_h, state_c = decoder_lstm(\n",
    "    decoder_inputs, initial_state=decoder_states_inputs)\n",
    "decoder_states = [state_h, state_c]\n",
    "decoder_outputs = decoder_dense(decoder_outputs)\n",
    "decoder_model = Model(\n",
    "    [decoder_inputs] + decoder_states_inputs,\n",
    "    [decoder_outputs] + decoder_states)\n",
    "\n",
    "# Reverse-lookup token index to decode sequences back to\n",
    "# something readable.\n",
    "reverse_input_char_index = dict(\n",
    "    (i, char) for char, i in input_token_index.items())\n",
    "reverse_target_char_index = dict(\n",
    "    (i, char) for char, i in target_token_index.items())\n",
    "\n",
    "\n",
    "def decode_sequence(input_seq):\n",
    "    # Encode the input as state vectors.\n",
    "    states_value = encoder_model.predict(input_seq)\n",
    "\n",
    "    # Generate empty target sequence of length 1.\n",
    "    target_seq = np.zeros((1, 1, num_decoder_tokens))\n",
    "    # Populate the first character of target sequence with the start character.\n",
    "    target_seq[0, 0, target_token_index['\\t']] = 1.\n",
    "\n",
    "    # Sampling loop for a batch of sequences\n",
    "    # (to simplify, here we assume a batch of size 1).\n",
    "    stop_condition = False\n",
    "    decoded_sentence = ''\n",
    "    while not stop_condition:\n",
    "        output_tokens, h, c = decoder_model.predict(\n",
    "            [target_seq] + states_value)\n",
    "\n",
    "        # Sample a token\n",
    "        sampled_token_index = np.argmax(output_tokens[0, -1, :])\n",
    "        sampled_char = reverse_target_char_index[sampled_token_index]\n",
    "        decoded_sentence += sampled_char\n",
    "\n",
    "        # Exit condition: either hit max length\n",
    "        # or find stop character.\n",
    "        if (sampled_char == '\\n' or\n",
    "           len(decoded_sentence) > max_decoder_seq_length):\n",
    "            stop_condition = True\n",
    "\n",
    "        # Update the target sequence (of length 1).\n",
    "        target_seq = np.zeros((1, 1, num_decoder_tokens))\n",
    "        target_seq[0, 0, sampled_token_index] = 1.\n",
    "\n",
    "        # Update states\n",
    "        states_value = [h, c]\n",
    "\n",
    "    return decoded_sentence"
   ]
  },
  {
   "cell_type": "code",
   "execution_count": 19,
   "metadata": {},
   "outputs": [],
   "source": [
    "inp_data, _ = val_generator[0]\n",
    "encoder_input_data = inp_data[0]"
   ]
  },
  {
   "cell_type": "code",
   "execution_count": 20,
   "metadata": {
    "scrolled": true
   },
   "outputs": [
    {
     "name": "stdout",
     "output_type": "stream",
     "text": [
      "-\n",
      "Input sentence: Serge Ibaka -- the Oklahoma City Thunder forward who was born in the Congo but played in Spain -- has been granted Spanish citizenship and will play for the country in EuroBasket this summer, the event where spots in the 2012 Olympics will be decided.\n",
      "Decoded sentence: The country said it will be a crash death.\n",
      "\n",
      "-\n",
      "Input sentence: MILAN -Catania held Roma to a 1-1 draw in Serie A on Wednesday as the teams played out the remaining 25 minutes of a game that was called off last month.\n",
      "Decoded sentence: A man was charged with a strike the commention of the state of the state of the state of the state of the state of the state of the state of the state of the state of the state of the state of the state of the state of the state of the state of t\n",
      "-\n",
      "Input sentence: State Street Corporation, a provider of investment servicing, investment management and investment research and trading services, has launched a new investment servicing solution to support small to mid-sized asset managers with their investment operations needs.\n",
      "Decoded sentence: A man was charged with a strike the commention of the state of the state of the state of the state of the state of the state of the state of the state of the state of the state of the state of the state of the state of the state of the state of t\n",
      "-\n",
      "Input sentence: Massey Energy, the fourth largest coal company in the country, could have its corporate charter revoked if public interest organizations have their way.\n",
      "Decoded sentence: The State County will be a crash death of the state of the state of the state of the state of the state of the state of the state of the state of the state of the state of the state of the state of the state of the state of the state of the state\n",
      "-\n",
      "Input sentence: Foundation for MetroWest has awarded $55,000 in grants to 37 food pantries across the region, drawing on two of its funds that provide winter assistance to families in need.\n",
      "Decoded sentence: Steven Marria will be a company to the company.\n",
      "\n",
      "-\n",
      "Input sentence: Wong won't rule out super raid Updated: 08:17, Tuesday March 26, 2013 Finance Minister Penny Wong has declined to rule out axing tax concessions for superannuation in the May budget.\n",
      "Decoded sentence: The country said it will be a crash death.\n",
      "\n",
      "-\n",
      "Input sentence: TINY 'robots' that can be dropped into an industrial process to report any problems are being developed by a Woolston company.\n",
      "Decoded sentence: She is the protest of the state of the state of the state of the state of the state of the state of the state of the state of the state of the state of the state of the state of the state of the state of the state of the state of the state of the\n",
      "-\n",
      "Input sentence: Jordan and South Korea have pledged to cooperate on nuclear regulatory issues as part of an agreement signed on Saturday.\n",
      "Decoded sentence: State Maran will be a company to the company.\n",
      "\n",
      "-\n",
      "Input sentence: Just after the Fourth of July holiday, and only a week after the city's budget has been completed, City Council Member Robert Jackson will hold two town hall meetings in cooperation with several other Northern Manhattan elected officials.\n",
      "Decoded sentence: The State County will be a crash death of the state of the state of the state of the state of the state of the state of the state of the state of the state of the state of the state of the state of the state of the state of the state of the state\n",
      "-\n",
      "Input sentence: Tim Cowlishaw made a bad joke and now the MMA blogosphere is lighting torches and sharpening pitchforks.\n",
      "Decoded sentence: A man was charged with a strike the commention of the state of the state of the state of the state of the state of the state of the state of the state of the state of the state of the state of the state of the state of the state of the state of t\n",
      "-\n",
      "Input sentence: Prime Minister Gordon Brown said Monday he had discussed the car industry crisis with German Chancellor Angela Merkel, but had not talked about any specific amount of aid for General Motors.\n",
      "Decoded sentence: Steven Marria will be a company to the company.\n",
      "\n",
      "-\n",
      "Input sentence: Fun and food are two ways to help Children's Hospital of Illinois during the month of July.\n",
      "Decoded sentence: Steven Marria will be a company to the company.\n",
      "\n",
      "-\n",
      "Input sentence: Police have denied fears that emergency response times will increase due to a forthcoming restructure.\n",
      "Decoded sentence: A man was charged with a strike the commention of the state of the state of the state of the state of the state of the state of the state of the state of the state of the state of the state of the state of the state of the state of the state of t\n",
      "-\n",
      "Input sentence: Little Rock - Governor Mike Beebe today announced his intent to grant six pardons.\n",
      "Decoded sentence: She is the protest of the state of the state of the state of the state of the state of the state of the state of the state of the state of the state of the state of the state of the state of the state of the state of the state of the state of the\n",
      "-\n",
      "Input sentence: Andrzej Fonfara defeated Glen Johnson with a unanimous decision victory, which was enough to convince Johnson that he should retire from the sport of boxing.\n",
      "Decoded sentence: Steven Marria will be a company to the company.\n",
      "\n",
      "-\n",
      "Input sentence: England manager Fabio Capello is refusing to get carried away with thoughts of qualifying for the 2010 World Cup finals despite watching his side record a fourth successive victory.\n",
      "Decoded sentence: The country said it will be a crash death.\n",
      "\n",
      "-\n",
      "Input sentence: A former Gulf Breeze Police officer is being arrested this morning on sexual battery and unlawful compensation charges, according to Gulf Breeze Deputy Chief of Police Robert Randle.\n",
      "Decoded sentence: Steven Marria will be a company to the company.\n",
      "\n",
      "-\n",
      "Input sentence: An Abilene teenager was killed early Sunday in a one-car wreck just east of Chapman.\n",
      "Decoded sentence: A man was charged with a strike the commention of the state of the state of the state of the state of the state of the state of the state of the state of the state of the state of the state of the state of the state of the state of the state of t\n",
      "-\n",
      "Input sentence: The screenings identify people at high risk for stroke, abdominal aortic aneurysm, peripheral vascular disease, and osteoporosis.\n",
      "Decoded sentence: A man was charged with a strike the commention of the state of the state of the state of the state of the state of the state of the state of the state of the state of the state of the state of the state of the state of the state of the state of t\n",
      "-\n",
      "Input sentence: West Indies spinner Sulieman Benn bowled a marathon, uninterrupted spell of 33 overs on the first day of the first Test against England on Wednesday to dispel many of the question marks over his ability.\n",
      "Decoded sentence: State Maran will be a company to the company.\n",
      "\n",
      "-\n",
      "Input sentence: A Dutch physiotherapist has claimed that he uses two miniature pigs to help his patients in Germany.\n",
      "Decoded sentence: The State County will be a crash death of the state of the state of the state of the state of the state of the state of the state of the state of the state of the state of the state of the state of the state of the state of the state of the state\n",
      "-\n",
      "Input sentence: Strictly Come Dancing increased its lead over The X Factor in the Saturday night day ratings last night.\n",
      "Decoded sentence: The State County will be a crash death of the state of the state of the state of the state of the state of the state of the state of the state of the state of the state of the state of the state of the state of the state of the state of the state\n",
      "-\n",
      "Input sentence: The Times Square bombing suspect pleaded guilty Monday to a terror plot hoping to maim and kill those in the international tourist destination and American landmark.\n",
      "Decoded sentence: A man was charged with a strike the commention of the state of the state of the state of the state of the state of the state of the state of the state of the state of the state of the state of the state of the state of the state of the state of t\n",
      "-\n",
      "Input sentence: Boxer Lamont Peterson failed a drug test, putting a May 19 light-welterweight rematch in Las Vegas against former title holder Amir Khan in doubt, a Nevada boxing official said Tuesday.\n",
      "Decoded sentence: Saman has been charged with a strike the commention of the state of the state of the state of the state of the state of the state of the state of the state of the state of the state of the state of the state of the state of the state of the state\n"
     ]
    },
    {
     "name": "stdout",
     "output_type": "stream",
     "text": [
      "-\n",
      "Input sentence: Britain would be justified to withdraw the Royal wedding invitation that has been extended to a representative of Robert Mugabe√¢‚Ç¨‚Ñ¢s regime as the Evening Standard has revealed.\n",
      "Decoded sentence: A man was charged with a strike the commention of the state of the state of the state of the state of the state of the state of the state of the state of the state of the state of the state of the state of the state of the state of the state of t\n",
      "-\n",
      "Input sentence: Intermec Inc., which makes electronic devices for tracking inventory, plans to cut 150 jobs, or 7 percent of its work force.\n",
      "Decoded sentence: The State County will be a crash death of the state of the state of the state of the state of the state of the state of the state of the state of the state of the state of the state of the state of the state of the state of the state of the state\n",
      "-\n",
      "Input sentence: Narain Karthikeyan of Team India finished 10th in both sprint and features at the A1 Grand Prix motorsport race here Sunday.\n",
      "Decoded sentence: Steven Marria will be a company to the company.\n",
      "\n",
      "-\n",
      "Input sentence: Today's celebrity pictures include a demure Rita Ora in a white halter-neck gown as she attends the Bergdorf Goodman 111th anniversary celebration in New York.\n",
      "Decoded sentence: A man was charged with a strike the commention of the state of the state of the state of the state of the state of the state of the state of the state of the state of the state of the state of the state of the state of the state of the state of t\n",
      "-\n",
      "Input sentence: South Africa must continue with the stimulus package it has adopted as a response to the financial crisis, Minister of Finance Pravin Gordhan said on Sunday.\n",
      "Decoded sentence: A man was charged with a strike the commention of the state of the state of the state of the state of the state of the state of the state of the state of the state of the state of the state of the state of the state of the state of the state of t\n",
      "-\n",
      "Input sentence: State Representative Dan Gattis has proposed a law that would allow police officers to draw the blood of suspected drunk drivers without a warrant.\n",
      "Decoded sentence: A man was charged with a strike the commention of the state of the state of the state of the state of the state of the state of the state of the state of the state of the state of the state of the state of the state of the state of the state of t\n",
      "-\n",
      "Input sentence: Roger Chapin, the self-described ``nonprofit entrepreneur'' whose four-decade career pushing numerous, widely disparate causes has drawn controversy and Congressional scrutiny, has struck again.\n",
      "Decoded sentence: A man was charged with a strike the commention of the state of the state of the state of the state of the state of the state of the state of the state of the state of the state of the state of the state of the state of the state of the state of t\n",
      "-\n",
      "Input sentence: What ever happened to David Archuleta?\n",
      "Decoded sentence: The country said it will be a crash death.\n",
      "\n",
      "-\n",
      "Input sentence: South African boxer Francois Botha will undergo a public drug test in the wake of doping allegations against him made by the connections of Sonny Bill Williams.\n",
      "Decoded sentence: A man was charged with a strike the commention of the state of the state of the state of the state of the state of the state of the state of the state of the state of the state of the state of the state of the state of the state of the state of t\n",
      "-\n",
      "Input sentence: President Barack Obama took the first steps on the road to the 2012 elections on Friday, presiding over the first of many fund-raising events to ensure his Democrats can compete against the Republicans.\n",
      "Decoded sentence: State Maran will be a company to the company.\n",
      "\n",
      "-\n",
      "Input sentence: American and Russian military leaders met Tuesday for unannounced talks in Finland, discussing Georgia, the Black Sea and Afghanistan, officials said.\n",
      "Decoded sentence: State Maran will be a company to the company.\n",
      "\n",
      "-\n",
      "Input sentence: The Kentucky Speedway says it has sold out of grandstand tickets for its inaugural Sprint Cup race on July 9.\n",
      "Decoded sentence: A man was charged with a strike the commention of the state of the state of the state of the state of the state of the state of the state of the state of the state of the state of the state of the state of the state of the state of the state of t\n",
      "-\n",
      "Input sentence: Former Irish prime minister Garret FitzGerald, who signed a landmark agreement on Northern Ireland in the 1980s, has died in a Dublin hospital after a short illness, his family have announced.\n",
      "Decoded sentence: A man was charged with a strike the commention of the state of the state of the state of the state of the state of the state of the state of the state of the state of the state of the state of the state of the state of the state of the state of t\n",
      "-\n",
      "Input sentence: The family of three tried to cross a flooded road, but ended up dying.\n",
      "Decoded sentence: State Maran will be a company to the company.\n",
      "\n",
      "-\n",
      "Input sentence: A Christian body in Kolkata will probe the Rouvanjit Rawla suicide case by setting an independent enquiry to ascertain truth behind the entire murky episode.\n",
      "Decoded sentence: A man was charged with a strike the commention of the state of the state of the state of the state of the state of the state of the state of the state of the state of the state of the state of the state of the state of the state of the state of t\n",
      "-\n",
      "Input sentence: Some 81% of adult Bulgarians oppose the legalization of soft drugs, including marijuana, according to a survey conducted by the National Center for Study of Public Opinion.\n",
      "Decoded sentence: A man was charged with a strike the commention of the state of the state of the state of the state of the state of the state of the state of the state of the state of the state of the state of the state of the state of the state of the state of t\n",
      "-\n",
      "Input sentence: Bombay Talkies, the much celebrated movie by Ashi Dua, that claimed to celebrates 100 years of cinema has earned a total of Rs. 5.05 crore in the opening weekend.\n",
      "Decoded sentence: Steven Marria will be a company to the company.\n",
      "\n",
      "-\n",
      "Input sentence: TRIALLIST Peter Gilbert is this week hoping to earn a contract with Coventry City FC.\n",
      "Decoded sentence: A man was charged with a strike the commention of the state of the state of the state of the state of the state of the state of the state of the state of the state of the state of the state of the state of the state of the state of the state of t\n",
      "-\n",
      "Input sentence: SnoringIsntSexy.com, a patient information site and directory of dentists who provide oral appliance therapy for snoring and sleep apnea, has added sleep health professional listings to its directory.\n",
      "Decoded sentence: State Maran will be a company to the company.\n",
      "\n",
      "-\n",
      "Input sentence: In a victory for the video game industry and free speech advocates, the Supreme Court has struck down a California law banning the sale of ``violent'' video games to minors.\n",
      "Decoded sentence: A man was charged with a strike the commention of the state of the state of the state of the state of the state of the state of the state of the state of the state of the state of the state of the state of the state of the state of the state of t\n",
      "-\n",
      "Input sentence: A WOMAN accused of stalking James and Erica Packer will face court later this year over allegations she twice breached an interim Apprehended Violence Order.\n",
      "Decoded sentence: Steven Marria will be a company to the company.\n",
      "\n",
      "-\n",
      "Input sentence: Cardinals reliever Ryan Franklin has apologized for criticizing St. Louis fans after they booed him.\n",
      "Decoded sentence: She is the protest of the state of the state of the state of the state of the state of the state of the state of the state of the state of the state of the state of the state of the state of the state of the state of the state of the state of the\n",
      "-\n",
      "Input sentence: President Mahmoud Abbas proposed cancelling the Oslo Accords with Israel at a weekend meeting of the Palestinian leadership, a senior member of the Palestine Liberation Organization told AFP on Tuesday.\n",
      "Decoded sentence: State Maran will be a company to the company.\n",
      "\n",
      "-\n",
      "Input sentence: A CHEF who kicked a child in the head has been given a community order.\n",
      "Decoded sentence: A man was charged with a strike the commention of the state of the state of the state of the state of the state of the state of the state of the state of the state of the state of the state of the state of the state of the state of the state of t\n"
     ]
    },
    {
     "name": "stdout",
     "output_type": "stream",
     "text": [
      "-\n",
      "Input sentence: Business Process Outsourcing company Adventity has partnered another BPO firm Fostera, promoted to set up a rural BPO unit in Krishnagiri in Tamil Nadu.\n",
      "Decoded sentence: Steven Marria will be a company to the company.\n",
      "\n",
      "-\n",
      "Input sentence: Genpact Limited, a leader in the globalization of services and technology and a pioneer in managing business processes for companies around the world, has announced that it acquired a delivery center in Guatemala City from GE Money, a division of the General Electric Company on August 14, 2008.\n",
      "Decoded sentence: Saman has been charged with a strike the commention of the state of the state of the state of the state of the state of the state of the state of the state of the state of the state of the state of the state of the state of the state of the state\n",
      "-\n",
      "Input sentence: COBBLERS boss Aidy Boothroyd has praised chairman David Cardoza for 'pushing the boat out' to secure the recent acquisitions of Clive Platt and Alex Nicholls.\n",
      "Decoded sentence: State Maran will be a company to the company.\n",
      "\n",
      "-\n",
      "Input sentence: Dedham Square business owners want open communication with town officials and the project's contractor once construction begins on the multimillion-dollar Dedham Square Improvements Project.\n",
      "Decoded sentence: A man was charged with a strike the commention of the state of the state of the state of the state of the state of the state of the state of the state of the state of the state of the state of the state of the state of the state of the state of t\n",
      "-\n",
      "Input sentence: Former NSW health minister Reba Meagher has formally resigned from her seat of Cabramatta, paving the way for a by-election next month.\n",
      "Decoded sentence: The State County will be a crash death of the state of the state of the state of the state of the state of the state of the state of the state of the state of the state of the state of the state of the state of the state of the state of the state\n",
      "-\n",
      "Input sentence: Home sales fell 17 percent in the Riverside/San Bernardino area in February, compared with the same period a year ago, and the median home price fell 27.2 percent to $289,660, according to figures released today.\n",
      "Decoded sentence: A man was charged with a strike the commention of the state of the state of the state of the state of the state of the state of the state of the state of the state of the state of the state of the state of the state of the state of the state of t\n",
      "-\n",
      "Input sentence: Duke University is holding a lecture, panel discussion and master class about the art of flamenco, which has a history that involves more than its Spanish influence.\n",
      "Decoded sentence: Steven Marria will be a company to the company.\n",
      "\n",
      "-\n",
      "Input sentence: Toktogul reservoir water volume accumulated remains stable, according to the press service of Electric Stations Company.\n",
      "Decoded sentence: Saman has been charged with a strike the commention of the state of the state of the state of the state of the state of the state of the state of the state of the state of the state of the state of the state of the state of the state of the state\n",
      "-\n",
      "Input sentence: Riverdance creator and movie actress Jean Butler is set to launch her new debut jewellery collection in Dublin this weekend.\n",
      "Decoded sentence: The State County will be a crash death of the state of the state of the state of the state of the state of the state of the state of the state of the state of the state of the state of the state of the state of the state of the state of the state\n",
      "-\n",
      "Input sentence: Islands made out thick, tall reeds are surfacing on Saguaro Lake northeast of Phoenix creating hazardous conditions for boaters.\n",
      "Decoded sentence: A man was charged with a strike the commention of the state of the state of the state of the state of the state of the state of the state of the state of the state of the state of the state of the state of the state of the state of the state of t\n",
      "-\n",
      "Input sentence: Greenpeace has just released the ninth edition of its Guide to Greener Electronics, revealing that toxic elements still exist in new computers despite manufacturers' abilities to produce smaller instruments without the offending materials.\n",
      "Decoded sentence: Steven Marria will be a company to the company.\n",
      "\n",
      "-\n",
      "Input sentence: The City and Borough of Juneau Assembly may give the library its own department tonight.\n",
      "Decoded sentence: A man was charged with a strike the commention of the state of the state of the state of the state of the state of the state of the state of the state of the state of the state of the state of the state of the state of the state of the state of t\n",
      "-\n",
      "Input sentence: Scientists at Newcastle University claim they have created human sperm using embryonic stem cells..\n",
      "Decoded sentence: A man was charged with a strike the commention of the state of the state of the state of the state of the state of the state of the state of the state of the state of the state of the state of the state of the state of the state of the state of t\n",
      "-\n",
      "Input sentence: A 45-year-old Whitehouse man has been sentenced to federal prison for firearms violations in the Eastern District of Texas announced US Attorney John M. Bales today.\n",
      "Decoded sentence: The State County will be a crash death of the state of the state of the state of the state of the state of the state of the state of the state of the state of the state of the state of the state of the state of the state of the state of the state\n",
      "-\n",
      "Input sentence: Tata Motors Ltd. has cut production of some vehicle models due to lower demand, but expects sales to rebound after September, a senior company executive said Wednesday.\n",
      "Decoded sentence: An and contract was shot dead in the state of the state of the state of the state of the state of the state of the state of the state of the state of the state of the state of the state of the state of the state of the state of the state of the s\n",
      "-\n",
      "Input sentence: There's a good match in the World Cup today, so you need to make sure you check out Netherlands vs Denmark streaming online free if you want to see a great game!\n",
      "Decoded sentence: She is the protest of the state of the state of the state of the state of the state of the state of the state of the state of the state of the state of the state of the state of the state of the state of the state of the state of the state of the\n"
     ]
    }
   ],
   "source": [
    "for seq_index in range(len(encoder_input_data)):\n",
    "    # Take one sequence (part of the training set)\n",
    "    # for trying out decoding.\n",
    "    input_seq = encoder_input_data[seq_index: seq_index + 1]\n",
    "    decoded_sentence = decode_sequence(input_seq)\n",
    "    print('-')\n",
    "    print('Input sentence:', input_texts[seq_index])\n",
    "    print('Decoded sentence:', decoded_sentence)"
   ]
  },
  {
   "cell_type": "code",
   "execution_count": null,
   "metadata": {},
   "outputs": [],
   "source": [
    "for seq_index in range(100):\n",
    "    # Take one sequence (part of the training set)\n",
    "    # for trying out decoding.\n",
    "    input_seq = encoder_input_data[-seq_index-2: -seq_index-1]\n",
    "    decoded_sentence = decode_sequence(input_seq)\n",
    "    print('-')\n",
    "    print('Input sentence:', input_texts[-seq_index-2])\n",
    "    print('Decoded sentence:', decoded_sentence)"
   ]
  },
  {
   "cell_type": "code",
   "execution_count": null,
   "metadata": {},
   "outputs": [],
   "source": [
    "model.fit([encoder_input_data, decoder_input_data], decoder_target_data,\n",
    "          batch_size=batch_size,\n",
    "          epochs=5,\n",
    "          validation_split=0.2)"
   ]
  },
  {
   "cell_type": "code",
   "execution_count": null,
   "metadata": {},
   "outputs": [],
   "source": [
    "for seq_index in range(100):\n",
    "    # Take one sequence (part of the training set)\n",
    "    # for trying out decoding.\n",
    "    input_seq = encoder_input_data[-seq_index-2: -seq_index-1]\n",
    "    decoded_sentence = decode_sequence(input_seq)\n",
    "    print('-')\n",
    "    print('Input sentence:', input_texts[-seq_index-2])\n",
    "    print('Decoded sentence:', decoded_sentence)"
   ]
  },
  {
   "cell_type": "code",
   "execution_count": null,
   "metadata": {},
   "outputs": [],
   "source": [
    "model.fit([encoder_input_data, decoder_input_data], decoder_target_data,\n",
    "          batch_size=batch_size,\n",
    "          epochs=5,\n",
    "          validation_split=0.2)"
   ]
  },
  {
   "cell_type": "code",
   "execution_count": null,
   "metadata": {},
   "outputs": [],
   "source": [
    "for seq_index in range(100):\n",
    "    # Take one sequence (part of the training set)\n",
    "    # for trying out decoding.\n",
    "    input_seq = encoder_input_data[-seq_index-2: -seq_index-1]\n",
    "    decoded_sentence = decode_sequence(input_seq)\n",
    "    print('-')\n",
    "    print('Input sentence:', input_texts[-seq_index-2])\n",
    "    print('Decoded sentence:', decoded_sentence)"
   ]
  },
  {
   "cell_type": "code",
   "execution_count": 21,
   "metadata": {},
   "outputs": [
    {
     "name": "stderr",
     "output_type": "stream",
     "text": [
      "C:\\Users\\ssotn\\Anaconda3\\envs\\nlp\\lib\\site-packages\\keras\\engine\\network.py:877: UserWarning: Layer lstm_2 was passed non-serializable keyword arguments: {'initial_state': [<tf.Tensor 'lstm_1/while/Exit_2:0' shape=(?, 256) dtype=float32>, <tf.Tensor 'lstm_1/while/Exit_3:0' shape=(?, 256) dtype=float32>]}. They will not be included in the serialized model (and thus will be missing at deserialization time).\n",
      "  '. They will not be included '\n"
     ]
    }
   ],
   "source": [
    "# Save model\n",
    "model.save('data/s2s.h5')"
   ]
  },
  {
   "cell_type": "code",
   "execution_count": null,
   "metadata": {},
   "outputs": [],
   "source": []
  }
 ],
 "metadata": {
  "kernelspec": {
   "display_name": "nlp",
   "language": "python",
   "name": "nlp"
  },
  "language_info": {
   "codemirror_mode": {
    "name": "ipython",
    "version": 3
   },
   "file_extension": ".py",
   "mimetype": "text/x-python",
   "name": "python",
   "nbconvert_exporter": "python",
   "pygments_lexer": "ipython3",
   "version": "3.6.8"
  }
 },
 "nbformat": 4,
 "nbformat_minor": 2
}
