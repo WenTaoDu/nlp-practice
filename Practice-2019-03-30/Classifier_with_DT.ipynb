{
 "cells": [
  {
   "cell_type": "code",
   "execution_count": 1,
   "metadata": {},
   "outputs": [],
   "source": [
    "from collections import namedtuple\n",
    "\n",
    "LineStat = namedtuple('LineStat', 'source cleaned line_num total_lines_in_text is_header')"
   ]
  },
  {
   "cell_type": "code",
   "execution_count": 19,
   "metadata": {},
   "outputs": [],
   "source": [
    "import csv\n",
    "\n",
    "def load_stats(filename):\n",
    "    with open(filename, newline='', encoding='utf-8') as csvfile:\n",
    "        reader = csv.DictReader(csvfile)\n",
    "        # print(next(reader))\n",
    "        res = []\n",
    "        for row in reader:\n",
    "            # print(row)\n",
    "            res.append(LineStat(**row))\n",
    "    return res"
   ]
  },
  {
   "cell_type": "code",
   "execution_count": 21,
   "metadata": {},
   "outputs": [
    {
     "name": "stdout",
     "output_type": "stream",
     "text": [
      "Records in the learn set: 146192\n",
      "Records in the test set: 62654\n"
     ]
    }
   ],
   "source": [
    "csv.field_size_limit(1000000)\n",
    "\n",
    "lines_learn = load_stats('learn.csv')\n",
    "print(f\"Records in the learn set: {len(lines_learn)}\")\n",
    "lines_test = load_stats('test.csv')\n",
    "print(f\"Records in the test set: {len(lines_test)}\")\n"
   ]
  },
  {
   "cell_type": "code",
   "execution_count": 68,
   "metadata": {},
   "outputs": [],
   "source": [
    "def features_and_result_from_stats(data):\n",
    "    bad_chars = set('#=./<>|(){}:[];')\n",
    "    x, y = [], []\n",
    "    for row in data:\n",
    "        yy = row.is_header == 'True'\n",
    "        text = row.cleaned\n",
    "        row_length = len(text)\n",
    "        line_num = int(row.line_num)\n",
    "        total_lines_in_text = int(row.total_lines_in_text)\n",
    "        relative_pos = line_num / total_lines_in_text\n",
    "        started_from_alphanum = text[0].isalnum()\n",
    "        started_from_lowercase = text[0].islower()\n",
    "        has_bad_chars = any((c in bad_chars) for c in text)\n",
    "        is_title = text.istitle()\n",
    "        xx = [row_length,\n",
    "              line_num,\n",
    "              total_lines_in_text,\n",
    "              relative_pos,\n",
    "              started_from_alphanum,\n",
    "              started_from_lowercase,\n",
    "              is_title,\n",
    "              has_bad_chars\n",
    "             ]\n",
    "        x.append(xx)\n",
    "        y.append(yy)\n",
    "    return x, y"
   ]
  },
  {
   "cell_type": "code",
   "execution_count": 69,
   "metadata": {},
   "outputs": [],
   "source": [
    "X_train, y_train = features_and_result_from_stats(lines_learn)\n",
    "X_test, y_test = features_and_result_from_stats(lines_test)"
   ]
  },
  {
   "cell_type": "code",
   "execution_count": 70,
   "metadata": {},
   "outputs": [
    {
     "name": "stdout",
     "output_type": "stream",
     "text": [
      "[[3, 275, 397, 0.6926952141057935, False, False, False, False], [62, 971, 1006, 0.9652087475149106, False, False, False, True], [3, 1340, 2945, 0.45500848896434637, False, False, False, False], [10, 130, 235, 0.5531914893617021, False, False, True, True], [85, 2002, 2855, 0.7012259194395797, False, False, False, True], [85, 295, 304, 0.9703947368421053, False, False, False, True], [3, 91, 179, 0.5083798882681564, False, False, False, False], [26, 48, 467, 0.10278372591006424, True, False, False, False], [66, 179, 199, 0.8994974874371859, True, False, False, False], [156, 212, 350, 0.6057142857142858, False, False, False, True]]\n",
      "[False, False, False, False, False, False, False, True, False, False]\n",
      "[[63, 12, 29, 0.41379310344827586, False, False, False, True], [15, 465, 754, 0.616710875331565, False, False, False, True], [114, 544, 609, 0.8932676518883416, False, False, False, True], [65, 9, 24, 0.375, True, False, False, True], [63, 41, 60, 0.6833333333333333, False, False, False, True], [11, 66, 87, 0.7586206896551724, False, False, False, True], [20, 398, 510, 0.7803921568627451, True, True, False, True], [83, 726, 1520, 0.4776315789473684, False, False, False, True], [207, 295, 647, 0.4559505409582689, False, False, False, True], [16, 22, 131, 0.16793893129770993, True, True, False, False]]\n",
      "[False, False, False, False, False, False, False, False, False, False]\n"
     ]
    }
   ],
   "source": [
    "print(X_train[:10])\n",
    "print(y_train[:10])\n",
    "print(X_test[:10])\n",
    "print(y_test[:10])"
   ]
  },
  {
   "cell_type": "code",
   "execution_count": 71,
   "metadata": {},
   "outputs": [],
   "source": [
    "from sklearn.ensemble import RandomForestClassifier\n",
    "\n",
    "clf=RandomForestClassifier(n_estimators=100)"
   ]
  },
  {
   "cell_type": "code",
   "execution_count": 72,
   "metadata": {},
   "outputs": [],
   "source": [
    "clf.fit(X_train,y_train)\n",
    "\n",
    "y_pred=clf.predict(X_test)"
   ]
  },
  {
   "cell_type": "code",
   "execution_count": 73,
   "metadata": {},
   "outputs": [
    {
     "name": "stdout",
     "output_type": "stream",
     "text": [
      "Accuracy: 0.9751013502729275\n",
      "Precision: 0.8495630461922596\n",
      "Recall: 0.7163157894736842\n",
      "F1: 0.7772701313535122\n"
     ]
    }
   ],
   "source": [
    "from sklearn import metrics\n",
    "# Model Accuracy, how often is the classifier correct?\n",
    "print(\"Accuracy:\",metrics.accuracy_score(y_test, y_pred))\n",
    "print(\"Precision:\",metrics.precision_score(y_test, y_pred))\n",
    "print(\"Recall:\",metrics.recall_score(y_test, y_pred))\n",
    "print(\"F1:\",metrics.f1_score(y_test, y_pred))\n"
   ]
  },
  {
   "cell_type": "code",
   "execution_count": 46,
   "metadata": {},
   "outputs": [
    {
     "data": {
      "text/plain": [
       "True"
      ]
     },
     "execution_count": 46,
     "metadata": {},
     "output_type": "execute_result"
    }
   ],
   "source": []
  },
  {
   "cell_type": "code",
   "execution_count": null,
   "metadata": {},
   "outputs": [],
   "source": []
  }
 ],
 "metadata": {
  "kernelspec": {
   "display_name": "Python [conda env:nlp]",
   "language": "python",
   "name": "conda-env-nlp-py"
  },
  "language_info": {
   "codemirror_mode": {
    "name": "ipython",
    "version": 3
   },
   "file_extension": ".py",
   "mimetype": "text/x-python",
   "name": "python",
   "nbconvert_exporter": "python",
   "pygments_lexer": "ipython3",
   "version": "3.6.8"
  }
 },
 "nbformat": 4,
 "nbformat_minor": 2
}
