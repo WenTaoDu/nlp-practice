{
 "cells": [
  {
   "cell_type": "markdown",
   "metadata": {},
   "source": [
    "# Transition-based arc-eager unlabeled dependency parser for Ukrainian"
   ]
  },
  {
   "cell_type": "markdown",
   "metadata": {},
   "source": [
    "## Read the data\n",
    "\n",
    "Useful links:\n",
    "* [UD corpus for Ukrainian](https://github.com/UniversalDependencies/UD_Ukrainian-IU/)\n",
    "* [Easy-to-use library for parsing UD](https://github.com/EmilStenstrom/conllu)"
   ]
  },
  {
   "cell_type": "code",
   "execution_count": 102,
   "metadata": {},
   "outputs": [],
   "source": [
    "try:\n",
    "  import google.colab\n",
    "  IN_COLAB = True\n",
    "except:\n",
    "  IN_COLAB = False"
   ]
  },
  {
   "cell_type": "code",
   "execution_count": 103,
   "metadata": {},
   "outputs": [],
   "source": [
    "if IN_COLAB:\n",
    "    !pip install wget conllu"
   ]
  },
  {
   "cell_type": "code",
   "execution_count": 1,
   "metadata": {},
   "outputs": [],
   "source": [
    "from enum import Enum\n",
    "from os.path import join, isfile, isdir\n",
    "from os import mkdir\n",
    "from random import Random\n",
    "from typing import List, Dict\n",
    "from collections import OrderedDict"
   ]
  },
  {
   "cell_type": "code",
   "execution_count": 2,
   "metadata": {},
   "outputs": [],
   "source": [
    "import wget\n",
    "from conllu import parse, TokenList\n",
    "\n",
    "_url_prefix = \"https://github.com/UniversalDependencies/UD_Ukrainian-IU/blob/master/\"\n",
    "DEV_FILENAME = \"uk_iu-ud-dev.conllu\"\n",
    "TEST_FILENAME = \"uk_iu-ud-test.conllu\"\n",
    "TRAIN_FILENAME = \"uk_iu-ud-train.conllu\"\n",
    "\n",
    "_PATH = \"data/\"\n",
    "\n",
    "_rnd = Random(1974)\n",
    "\n",
    "\n",
    "def load_trees(filename: str) -> List[TokenList]:\n",
    "    if not isdir(_PATH):\n",
    "        mkdir(_PATH)\n",
    "\n",
    "    full_name = join(_PATH, filename)\n",
    "    if not isfile(full_name):\n",
    "        wget.download(_url_prefix + filename + '?raw=true', full_name)\n",
    "\n",
    "    with open(full_name, \"r\", encoding='utf-8') as f:\n",
    "        data = f.read()\n",
    "    result = parse(data)\n",
    "    return result"
   ]
  },
  {
   "cell_type": "code",
   "execution_count": 3,
   "metadata": {},
   "outputs": [
    {
     "name": "stdout",
     "output_type": "stream",
     "text": [
      "Dev set contains 11899 tokens in 647 sentences\n",
      "Test set contains 16293 tokens in 864 sentences\n",
      "Train set contains 88252 tokens in 5290 sentences\n",
      "OrderedDict([('id', 1), ('form', 'У'), ('lemma', 'у'), ('upostag', 'ADP'), ('xpostag', 'Spsl'), ('feats', OrderedDict([('Case', 'Loc')])), ('head', 2), ('deprel', 'case'), ('deps', [('case', 2)]), ('misc', OrderedDict([('Id', '0003'), ('LTranslit', 'u'), ('Translit', 'U')]))])\n",
      "У <-- домі\n",
      "домі <-- була\n",
      "римського <-- патриція\n",
      "патриція <-- домі\n",
      "Руфіна <-- патриція\n",
      "була <-- root\n",
      "прегарна <-- фреска\n",
      "фреска <-- була\n",
      ", <-- зображення\n",
      "зображення <-- фреска\n",
      "Венери <-- зображення\n",
      "та <-- Адоніса\n",
      "Адоніса <-- Венери\n",
      ". <-- була\n"
     ]
    }
   ],
   "source": [
    "trees = load_trees(DEV_FILENAME)\n",
    "tokens = sum(len(tree) for tree in trees)\n",
    "print(f\"Dev set contains {tokens} tokens in {len(trees)} sentences\")\n",
    "trees = load_trees(TEST_FILENAME)\n",
    "tokens = sum(len(tree) for tree in trees)\n",
    "print(f\"Test set contains {tokens} tokens in {len(trees)} sentences\")\n",
    "trees = load_trees(TRAIN_FILENAME)\n",
    "tokens = sum(len(tree) for tree in trees)\n",
    "print(f\"Train set contains {tokens} tokens in {len(trees)} sentences\")\n",
    "tree = trees[0]\n",
    "print(tree[0])\n",
    "for node in tree:\n",
    "    head = node[\"head\"]\n",
    "    print(\"{} <-- {}\".format(node[\"form\"],\n",
    "                         tree[head - 1][\"form\"]\n",
    "                             if head > 0 else \"root\"))\n"
   ]
  },
  {
   "cell_type": "code",
   "execution_count": 4,
   "metadata": {},
   "outputs": [
    {
     "name": "stdout",
     "output_type": "stream",
     "text": [
      "OrderedDict([('id', 1), ('form', 'У'), ('lemma', 'у'), ('upostag', 'ADP'), ('xpostag', 'Spsl'), ('feats', OrderedDict([('Case', 'Loc')])), ('head', 2), ('deprel', 'case'), ('deps', [('case', 2)]), ('misc', OrderedDict([('Id', '0003'), ('LTranslit', 'u'), ('Translit', 'U')]))])\n"
     ]
    }
   ],
   "source": [
    "tree = trees[0]\n",
    "print(tree[0])"
   ]
  },
  {
   "cell_type": "code",
   "execution_count": 5,
   "metadata": {},
   "outputs": [
    {
     "name": "stdout",
     "output_type": "stream",
     "text": [
      "У <-- домі\n",
      "домі <-- була\n",
      "римського <-- патриція\n",
      "патриція <-- домі\n",
      "Руфіна <-- патриція\n",
      "була <-- root\n",
      "прегарна <-- фреска\n",
      "фреска <-- була\n",
      ", <-- зображення\n",
      "зображення <-- фреска\n",
      "Венери <-- зображення\n",
      "та <-- Адоніса\n",
      "Адоніса <-- Венери\n",
      ". <-- була\n"
     ]
    }
   ],
   "source": [
    "for node in tree:\n",
    "    head = node[\"head\"]\n",
    "    print(\"{} <-- {}\".format(node[\"form\"],\n",
    "                             tree[head - 1][\"form\"]\n",
    "                             if head > 0 else \"root\"))"
   ]
  },
  {
   "cell_type": "markdown",
   "metadata": {},
   "source": [
    "## Design actions and the oracle\n",
    "\n",
    "We will be using a static oracle that reproduces a single valid order of actions."
   ]
  },
  {
   "cell_type": "code",
   "execution_count": 6,
   "metadata": {},
   "outputs": [],
   "source": [
    "class Actions(str, Enum):\n",
    "    SHIFT = \"shift\"\n",
    "    REDUCE = \"reduce\"\n",
    "    RIGHT = \"right\"\n",
    "    LEFT = \"left\""
   ]
  },
  {
   "cell_type": "code",
   "execution_count": 7,
   "metadata": {},
   "outputs": [],
   "source": [
    "def oracle(stack, top_queue, relations):\n",
    "    \"\"\"\n",
    "    Make a decision on the right action to do.\n",
    "    \"\"\"\n",
    "    top_stack = stack[-1]\n",
    "    # check if both stack and queue are non-empty\n",
    "    if top_stack and not top_queue:\n",
    "        return Actions.REDUCE\n",
    "    # check if there are any clear dependencies\n",
    "    elif top_queue[\"head\"] == top_stack[\"id\"]:\n",
    "        return Actions.RIGHT\n",
    "    elif top_stack[\"head\"] == top_queue[\"id\"]:\n",
    "        return Actions.LEFT\n",
    "    # check if we can reduce the top of the stack\n",
    "    elif top_stack[\"id\"] in [i[0] for i in relations] and \\\n",
    "         (top_queue[\"head\"] < top_stack[\"id\"] or \\\n",
    "          [s for s in stack if s[\"head\"] == top_queue[\"id\"]]):\n",
    "        return Actions.REDUCE\n",
    "    # default option\n",
    "    else:\n",
    "        return Actions.SHIFT"
   ]
  },
  {
   "cell_type": "code",
   "execution_count": 8,
   "metadata": {},
   "outputs": [
    {
     "name": "stdout",
     "output_type": "stream",
     "text": [
      "Stack: ['ROOT_0']\n",
      "Queue: ['У_1', 'домі_2', 'римського_3', 'патриція_4', 'Руфіна_5', 'була_6', 'прегарна_7', 'фреска_8', ',_9', 'зображення_10', 'Венери_11', 'та_12', 'Адоніса_13', '._14']\n",
      "Relations: []\n",
      "Actions.SHIFT\n",
      "========================\n",
      "Stack: ['ROOT_0', 'У_1']\n",
      "Queue: ['домі_2', 'римського_3', 'патриція_4', 'Руфіна_5', 'була_6', 'прегарна_7', 'фреска_8', ',_9', 'зображення_10', 'Венери_11', 'та_12', 'Адоніса_13', '._14']\n",
      "Relations: []\n",
      "Actions.LEFT\n",
      "========================\n",
      "Stack: ['ROOT_0']\n",
      "Queue: ['домі_2', 'римського_3', 'патриція_4', 'Руфіна_5', 'була_6', 'прегарна_7', 'фреска_8', ',_9', 'зображення_10', 'Венери_11', 'та_12', 'Адоніса_13', '._14']\n",
      "Relations: [(1, 2)]\n",
      "Actions.SHIFT\n",
      "========================\n",
      "Stack: ['ROOT_0', 'домі_2']\n",
      "Queue: ['римського_3', 'патриція_4', 'Руфіна_5', 'була_6', 'прегарна_7', 'фреска_8', ',_9', 'зображення_10', 'Венери_11', 'та_12', 'Адоніса_13', '._14']\n",
      "Relations: [(1, 2)]\n",
      "Actions.SHIFT\n",
      "========================\n",
      "Stack: ['ROOT_0', 'домі_2', 'римського_3']\n",
      "Queue: ['патриція_4', 'Руфіна_5', 'була_6', 'прегарна_7', 'фреска_8', ',_9', 'зображення_10', 'Венери_11', 'та_12', 'Адоніса_13', '._14']\n",
      "Relations: [(1, 2)]\n",
      "Actions.LEFT\n",
      "========================\n",
      "Stack: ['ROOT_0', 'домі_2']\n",
      "Queue: ['патриція_4', 'Руфіна_5', 'була_6', 'прегарна_7', 'фреска_8', ',_9', 'зображення_10', 'Венери_11', 'та_12', 'Адоніса_13', '._14']\n",
      "Relations: [(1, 2), (3, 4)]\n",
      "Actions.RIGHT\n",
      "========================\n",
      "Stack: ['ROOT_0', 'домі_2', 'патриція_4']\n",
      "Queue: ['Руфіна_5', 'була_6', 'прегарна_7', 'фреска_8', ',_9', 'зображення_10', 'Венери_11', 'та_12', 'Адоніса_13', '._14']\n",
      "Relations: [(1, 2), (3, 4), (4, 2)]\n",
      "Actions.RIGHT\n",
      "========================\n",
      "Stack: ['ROOT_0', 'домі_2', 'патриція_4', 'Руфіна_5']\n",
      "Queue: ['була_6', 'прегарна_7', 'фреска_8', ',_9', 'зображення_10', 'Венери_11', 'та_12', 'Адоніса_13', '._14']\n",
      "Relations: [(1, 2), (3, 4), (4, 2), (5, 4)]\n",
      "Actions.REDUCE\n",
      "========================\n",
      "Stack: ['ROOT_0', 'домі_2', 'патриція_4']\n",
      "Queue: ['була_6', 'прегарна_7', 'фреска_8', ',_9', 'зображення_10', 'Венери_11', 'та_12', 'Адоніса_13', '._14']\n",
      "Relations: [(1, 2), (3, 4), (4, 2), (5, 4)]\n",
      "Actions.REDUCE\n",
      "========================\n",
      "Stack: ['ROOT_0', 'домі_2']\n",
      "Queue: ['була_6', 'прегарна_7', 'фреска_8', ',_9', 'зображення_10', 'Венери_11', 'та_12', 'Адоніса_13', '._14']\n",
      "Relations: [(1, 2), (3, 4), (4, 2), (5, 4)]\n",
      "Actions.LEFT\n",
      "========================\n",
      "Stack: ['ROOT_0']\n",
      "Queue: ['була_6', 'прегарна_7', 'фреска_8', ',_9', 'зображення_10', 'Венери_11', 'та_12', 'Адоніса_13', '._14']\n",
      "Relations: [(1, 2), (3, 4), (4, 2), (5, 4), (2, 6)]\n",
      "Actions.RIGHT\n",
      "========================\n",
      "Stack: ['ROOT_0', 'була_6']\n",
      "Queue: ['прегарна_7', 'фреска_8', ',_9', 'зображення_10', 'Венери_11', 'та_12', 'Адоніса_13', '._14']\n",
      "Relations: [(1, 2), (3, 4), (4, 2), (5, 4), (2, 6), (6, 0)]\n",
      "Actions.SHIFT\n",
      "========================\n",
      "Stack: ['ROOT_0', 'була_6', 'прегарна_7']\n",
      "Queue: ['фреска_8', ',_9', 'зображення_10', 'Венери_11', 'та_12', 'Адоніса_13', '._14']\n",
      "Relations: [(1, 2), (3, 4), (4, 2), (5, 4), (2, 6), (6, 0)]\n",
      "Actions.LEFT\n",
      "========================\n",
      "Stack: ['ROOT_0', 'була_6']\n",
      "Queue: ['фреска_8', ',_9', 'зображення_10', 'Венери_11', 'та_12', 'Адоніса_13', '._14']\n",
      "Relations: [(1, 2), (3, 4), (4, 2), (5, 4), (2, 6), (6, 0), (7, 8)]\n",
      "Actions.RIGHT\n",
      "========================\n",
      "Stack: ['ROOT_0', 'була_6', 'фреска_8']\n",
      "Queue: [',_9', 'зображення_10', 'Венери_11', 'та_12', 'Адоніса_13', '._14']\n",
      "Relations: [(1, 2), (3, 4), (4, 2), (5, 4), (2, 6), (6, 0), (7, 8), (8, 6)]\n",
      "Actions.SHIFT\n",
      "========================\n",
      "Stack: ['ROOT_0', 'була_6', 'фреска_8', ',_9']\n",
      "Queue: ['зображення_10', 'Венери_11', 'та_12', 'Адоніса_13', '._14']\n",
      "Relations: [(1, 2), (3, 4), (4, 2), (5, 4), (2, 6), (6, 0), (7, 8), (8, 6)]\n",
      "Actions.LEFT\n",
      "========================\n",
      "Stack: ['ROOT_0', 'була_6', 'фреска_8']\n",
      "Queue: ['зображення_10', 'Венери_11', 'та_12', 'Адоніса_13', '._14']\n",
      "Relations: [(1, 2), (3, 4), (4, 2), (5, 4), (2, 6), (6, 0), (7, 8), (8, 6), (9, 10)]\n",
      "Actions.RIGHT\n",
      "========================\n",
      "Stack: ['ROOT_0', 'була_6', 'фреска_8', 'зображення_10']\n",
      "Queue: ['Венери_11', 'та_12', 'Адоніса_13', '._14']\n",
      "Relations: [(1, 2), (3, 4), (4, 2), (5, 4), (2, 6), (6, 0), (7, 8), (8, 6), (9, 10), (10, 8)]\n",
      "Actions.RIGHT\n",
      "========================\n",
      "Stack: ['ROOT_0', 'була_6', 'фреска_8', 'зображення_10', 'Венери_11']\n",
      "Queue: ['та_12', 'Адоніса_13', '._14']\n",
      "Relations: [(1, 2), (3, 4), (4, 2), (5, 4), (2, 6), (6, 0), (7, 8), (8, 6), (9, 10), (10, 8), (11, 10)]\n",
      "Actions.SHIFT\n",
      "========================\n",
      "Stack: ['ROOT_0', 'була_6', 'фреска_8', 'зображення_10', 'Венери_11', 'та_12']\n",
      "Queue: ['Адоніса_13', '._14']\n",
      "Relations: [(1, 2), (3, 4), (4, 2), (5, 4), (2, 6), (6, 0), (7, 8), (8, 6), (9, 10), (10, 8), (11, 10)]\n",
      "Actions.LEFT\n",
      "========================\n",
      "Stack: ['ROOT_0', 'була_6', 'фреска_8', 'зображення_10', 'Венери_11']\n",
      "Queue: ['Адоніса_13', '._14']\n",
      "Relations: [(1, 2), (3, 4), (4, 2), (5, 4), (2, 6), (6, 0), (7, 8), (8, 6), (9, 10), (10, 8), (11, 10), (12, 13)]\n",
      "Actions.RIGHT\n",
      "========================\n",
      "Stack: ['ROOT_0', 'була_6', 'фреска_8', 'зображення_10', 'Венери_11', 'Адоніса_13']\n",
      "Queue: ['._14']\n",
      "Relations: [(1, 2), (3, 4), (4, 2), (5, 4), (2, 6), (6, 0), (7, 8), (8, 6), (9, 10), (10, 8), (11, 10), (12, 13), (13, 11)]\n",
      "Actions.REDUCE\n",
      "========================\n",
      "Stack: ['ROOT_0', 'була_6', 'фреска_8', 'зображення_10', 'Венери_11']\n",
      "Queue: ['._14']\n",
      "Relations: [(1, 2), (3, 4), (4, 2), (5, 4), (2, 6), (6, 0), (7, 8), (8, 6), (9, 10), (10, 8), (11, 10), (12, 13), (13, 11)]\n",
      "Actions.REDUCE\n",
      "========================\n",
      "Stack: ['ROOT_0', 'була_6', 'фреска_8', 'зображення_10']\n",
      "Queue: ['._14']\n",
      "Relations: [(1, 2), (3, 4), (4, 2), (5, 4), (2, 6), (6, 0), (7, 8), (8, 6), (9, 10), (10, 8), (11, 10), (12, 13), (13, 11)]\n",
      "Actions.REDUCE\n",
      "========================\n",
      "Stack: ['ROOT_0', 'була_6', 'фреска_8']\n",
      "Queue: ['._14']\n",
      "Relations: [(1, 2), (3, 4), (4, 2), (5, 4), (2, 6), (6, 0), (7, 8), (8, 6), (9, 10), (10, 8), (11, 10), (12, 13), (13, 11)]\n",
      "Actions.REDUCE\n",
      "========================\n",
      "Stack: ['ROOT_0', 'була_6']\n",
      "Queue: ['._14']\n",
      "Relations: [(1, 2), (3, 4), (4, 2), (5, 4), (2, 6), (6, 0), (7, 8), (8, 6), (9, 10), (10, 8), (11, 10), (12, 13), (13, 11)]\n",
      "Actions.RIGHT\n",
      "========================\n",
      "Stack: ['ROOT_0', 'була_6', '._14']\n",
      "Queue: []\n",
      "Relations: [(1, 2), (3, 4), (4, 2), (5, 4), (2, 6), (6, 0), (7, 8), (8, 6), (9, 10), (10, 8), (11, 10), (12, 13), (13, 11), (14, 6)]\n",
      "Actions.REDUCE\n",
      "========================\n",
      "Stack: ['ROOT_0', 'була_6']\n",
      "Queue: []\n",
      "Relations: [(1, 2), (3, 4), (4, 2), (5, 4), (2, 6), (6, 0), (7, 8), (8, 6), (9, 10), (10, 8), (11, 10), (12, 13), (13, 11), (14, 6)]\n",
      "Actions.REDUCE\n",
      "========================\n",
      "Stack: ['ROOT_0']\n",
      "Queue: []\n",
      "Relations: [(1, 2), (3, 4), (4, 2), (5, 4), (2, 6), (6, 0), (7, 8), (8, 6), (9, 10), (10, 8), (11, 10), (12, 13), (13, 11), (14, 6)]\n",
      "Actions.REDUCE\n",
      "========================\n",
      "Gold relations:\n",
      "[(1, 2), (2, 6), (3, 4), (4, 2), (5, 4), (6, 0), (7, 8), (8, 6), (9, 10), (10, 8), (11, 10), (12, 13), (13, 11), (14, 6)]\n",
      "Retrieved relations:\n",
      "[(1, 2), (2, 6), (3, 4), (4, 2), (5, 4), (6, 0), (7, 8), (8, 6), (9, 10), (10, 8), (11, 10), (12, 13), (13, 11), (14, 6)]\n"
     ]
    }
   ],
   "source": [
    "ROOT = OrderedDict([('id', 0), ('form', 'ROOT'), ('lemma', 'ROOT'), ('upostag', 'ROOT'),\n",
    "                    ('xpostag', None), ('feats', None), ('head', None), ('deprel', None),\n",
    "                    ('deps', None), ('misc', None)])\n",
    "\n",
    "def trace_actions(tree, log=True):\n",
    "    \"\"\"\n",
    "    Try out the oracle to verify it's returning the right actions.\n",
    "    \"\"\"\n",
    "    stack, queue, relations = [ROOT], tree[:], []\n",
    "    while queue or stack:\n",
    "        action = oracle(stack if len(stack) > 0 else None,\n",
    "                        queue[0] if len(queue) > 0 else None,\n",
    "                        relations)\n",
    "        if log:\n",
    "            print(\"Stack:\", [i[\"form\"]+\"_\"+str(i[\"id\"]) for i in stack])\n",
    "            print(\"Queue:\", [i[\"form\"]+\"_\"+str(i[\"id\"]) for i in queue])\n",
    "            print(\"Relations:\", relations)\n",
    "            print(action)\n",
    "            print(\"========================\")\n",
    "        if action == Actions.SHIFT:\n",
    "            stack.append(queue.pop(0))\n",
    "        elif action == Actions.REDUCE:\n",
    "            stack.pop()\n",
    "        elif action == Actions.LEFT:\n",
    "            relations.append((stack[-1][\"id\"], queue[0][\"id\"]))\n",
    "            stack.pop()\n",
    "        elif action == Actions.RIGHT:\n",
    "            relations.append((queue[0][\"id\"], stack[-1][\"id\"]))\n",
    "            stack.append(queue.pop(0))\n",
    "        else:\n",
    "            print(\"Unknown action.\")\n",
    "    if log:\n",
    "        print(\"Gold relations:\")\n",
    "        print([(node[\"id\"], node[\"head\"]) for node in tree])\n",
    "        print(\"Retrieved relations:\")\n",
    "        print(sorted(relations))\n",
    "\n",
    "trace_actions(tree)"
   ]
  },
  {
   "cell_type": "markdown",
   "metadata": {},
   "source": [
    "## Feature extraction\n",
    "\n",
    "Reference: [Dependency Parsing by Kübler, McDonald, and Nivre](https://books.google.com.ua/books?id=k3iiup7HB9UC&pg=PA21&hl=uk&source=gbs_toc_r&cad=4#v=onepage&q&f=false)"
   ]
  },
  {
   "cell_type": "code",
   "execution_count": 9,
   "metadata": {},
   "outputs": [],
   "source": [
    "def extract_features(stack, queue):\n",
    "    features = dict()\n",
    "    if len(stack) > 0:\n",
    "        stack_top = stack[-1]\n",
    "        features[\"s0-word\"] = stack_top[\"form\"]\n",
    "        features[\"s0-lemma\"] = stack_top[\"lemma\"]\n",
    "        features[\"s0-tag\"] = stack_top[\"upostag\"]\n",
    "        if stack_top[\"feats\"]:\n",
    "            for k, v in stack_top[\"feats\"].items():\n",
    "                features[\"s0-\" + k] = v\n",
    "    if len(stack) > 1:\n",
    "        features[\"s1-tag\"] = stack_top[\"upostag\"]\n",
    "    if queue:\n",
    "        queue_top = queue[0]\n",
    "        features[\"q0-word\"] = queue_top[\"form\"]\n",
    "        features[\"q0-lemma\"] = queue_top[\"lemma\"]\n",
    "        features[\"q0-tag\"] = queue_top[\"upostag\"]\n",
    "        if queue_top[\"feats\"]:\n",
    "            for k, v in queue_top[\"feats\"].items():\n",
    "                features[\"q0-\" + k] = v\n",
    "    if len(queue) > 1:\n",
    "        queue_next = queue[1]\n",
    "        features[\"q1-word\"] = queue_next[\"form\"]\n",
    "        features[\"q1-tag\"] = queue_next[\"upostag\"]\n",
    "    if len(queue) > 2:\n",
    "        features[\"q2-tag\"] = queue[2][\"upostag\"]\n",
    "    if len(queue) > 3:\n",
    "        features[\"q3-tag\"] = queue[3][\"upostag\"]\n",
    "    if stack and queue:\n",
    "        features[\"distance\"] = queue[0][\"id\"] - stack[-1][\"id\"]\n",
    "    return features"
   ]
  },
  {
   "cell_type": "markdown",
   "metadata": {},
   "source": [
    "## Prepare train and test data"
   ]
  },
  {
   "cell_type": "code",
   "execution_count": 10,
   "metadata": {},
   "outputs": [],
   "source": [
    "def get_data(tree):\n",
    "    features, labels = [], []\n",
    "    stack, queue, relations = [ROOT], tree[:], []\n",
    "\n",
    "    while queue or stack:\n",
    "        action = oracle(stack if len(stack) > 0 else None,\n",
    "                        queue[0] if len(queue) > 0 else None,\n",
    "                        relations)\n",
    "        features.append(extract_features(stack, queue))\n",
    "        labels.append(action.value)\n",
    "        if action == Actions.SHIFT:\n",
    "            stack.append(queue.pop(0))\n",
    "        elif action == Actions.REDUCE:\n",
    "            stack.pop()\n",
    "        elif action == Actions.LEFT:\n",
    "            relations.append((stack[-1][\"id\"], queue[0][\"id\"]))\n",
    "            stack.pop()\n",
    "        elif action == Actions.RIGHT:\n",
    "            relations.append((queue[0][\"id\"], stack[-1][\"id\"]))\n",
    "            stack.append(queue.pop(0))\n",
    "        else:\n",
    "            print(\"Unknown action.\")\n",
    "    return features, labels"
   ]
  },
  {
   "cell_type": "code",
   "execution_count": 11,
   "metadata": {
    "scrolled": true
   },
   "outputs": [
    {
     "name": "stdout",
     "output_type": "stream",
     "text": [
      "Number of words: 14\n",
      "Number of actions: 29\n",
      "List of actions taken: ['shift', 'left', 'shift', 'shift', 'left', 'right', 'right', 'reduce', 'reduce', 'left', 'right', 'shift', 'left', 'right', 'shift', 'left', 'right', 'right', 'shift', 'left', 'right', 'reduce', 'reduce', 'reduce', 'reduce', 'right', 'reduce', 'reduce', 'reduce']\n",
      "Features:\n",
      "{'s0-word': 'ROOT', 's0-lemma': 'ROOT', 's0-tag': 'ROOT', 'q0-word': 'У', 'q0-lemma': 'у', 'q0-tag': 'ADP', 'q0-Case': 'Loc', 'q1-word': 'домі', 'q1-tag': 'NOUN', 'q2-tag': 'ADJ', 'q3-tag': 'NOUN', 'distance': 1}\n",
      "{'s0-word': 'У', 's0-lemma': 'у', 's0-tag': 'ADP', 's0-Case': 'Loc', 's1-tag': 'ADP', 'q0-word': 'домі', 'q0-lemma': 'дім', 'q0-tag': 'NOUN', 'q0-Animacy': 'Inan', 'q0-Case': 'Loc', 'q0-Gender': 'Masc', 'q0-Number': 'Sing', 'q1-word': 'римського', 'q1-tag': 'ADJ', 'q2-tag': 'NOUN', 'q3-tag': 'PROPN', 'distance': 1}\n",
      "{'s0-word': 'ROOT', 's0-lemma': 'ROOT', 's0-tag': 'ROOT', 'q0-word': 'домі', 'q0-lemma': 'дім', 'q0-tag': 'NOUN', 'q0-Animacy': 'Inan', 'q0-Case': 'Loc', 'q0-Gender': 'Masc', 'q0-Number': 'Sing', 'q1-word': 'римського', 'q1-tag': 'ADJ', 'q2-tag': 'NOUN', 'q3-tag': 'PROPN', 'distance': 2}\n",
      "{'s0-word': 'домі', 's0-lemma': 'дім', 's0-tag': 'NOUN', 's0-Animacy': 'Inan', 's0-Case': 'Loc', 's0-Gender': 'Masc', 's0-Number': 'Sing', 's1-tag': 'NOUN', 'q0-word': 'римського', 'q0-lemma': 'римський', 'q0-tag': 'ADJ', 'q0-Case': 'Gen', 'q0-Gender': 'Masc', 'q0-Number': 'Sing', 'q1-word': 'патриція', 'q1-tag': 'NOUN', 'q2-tag': 'PROPN', 'q3-tag': 'VERB', 'distance': 1}\n",
      "{'s0-word': 'римського', 's0-lemma': 'римський', 's0-tag': 'ADJ', 's0-Case': 'Gen', 's0-Gender': 'Masc', 's0-Number': 'Sing', 's1-tag': 'ADJ', 'q0-word': 'патриція', 'q0-lemma': 'патрицій', 'q0-tag': 'NOUN', 'q0-Animacy': 'Anim', 'q0-Case': 'Gen', 'q0-Gender': 'Masc', 'q0-Number': 'Sing', 'q1-word': 'Руфіна', 'q1-tag': 'PROPN', 'q2-tag': 'VERB', 'q3-tag': 'ADJ', 'distance': 1}\n",
      "{'s0-word': 'домі', 's0-lemma': 'дім', 's0-tag': 'NOUN', 's0-Animacy': 'Inan', 's0-Case': 'Loc', 's0-Gender': 'Masc', 's0-Number': 'Sing', 's1-tag': 'NOUN', 'q0-word': 'патриція', 'q0-lemma': 'патрицій', 'q0-tag': 'NOUN', 'q0-Animacy': 'Anim', 'q0-Case': 'Gen', 'q0-Gender': 'Masc', 'q0-Number': 'Sing', 'q1-word': 'Руфіна', 'q1-tag': 'PROPN', 'q2-tag': 'VERB', 'q3-tag': 'ADJ', 'distance': 2}\n",
      "{'s0-word': 'патриція', 's0-lemma': 'патрицій', 's0-tag': 'NOUN', 's0-Animacy': 'Anim', 's0-Case': 'Gen', 's0-Gender': 'Masc', 's0-Number': 'Sing', 's1-tag': 'NOUN', 'q0-word': 'Руфіна', 'q0-lemma': 'Руфін', 'q0-tag': 'PROPN', 'q0-Animacy': 'Anim', 'q0-Case': 'Gen', 'q0-Gender': 'Masc', 'q0-NameType': 'Giv', 'q0-Number': 'Sing', 'q1-word': 'була', 'q1-tag': 'VERB', 'q2-tag': 'ADJ', 'q3-tag': 'NOUN', 'distance': 1}\n",
      "{'s0-word': 'Руфіна', 's0-lemma': 'Руфін', 's0-tag': 'PROPN', 's0-Animacy': 'Anim', 's0-Case': 'Gen', 's0-Gender': 'Masc', 's0-NameType': 'Giv', 's0-Number': 'Sing', 's1-tag': 'PROPN', 'q0-word': 'була', 'q0-lemma': 'бути', 'q0-tag': 'VERB', 'q0-Aspect': 'Imp', 'q0-Gender': 'Fem', 'q0-Mood': 'Ind', 'q0-Number': 'Sing', 'q0-Tense': 'Past', 'q0-VerbForm': 'Fin', 'q1-word': 'прегарна', 'q1-tag': 'ADJ', 'q2-tag': 'NOUN', 'q3-tag': 'PUNCT', 'distance': 1}\n",
      "{'s0-word': 'патриція', 's0-lemma': 'патрицій', 's0-tag': 'NOUN', 's0-Animacy': 'Anim', 's0-Case': 'Gen', 's0-Gender': 'Masc', 's0-Number': 'Sing', 's1-tag': 'NOUN', 'q0-word': 'була', 'q0-lemma': 'бути', 'q0-tag': 'VERB', 'q0-Aspect': 'Imp', 'q0-Gender': 'Fem', 'q0-Mood': 'Ind', 'q0-Number': 'Sing', 'q0-Tense': 'Past', 'q0-VerbForm': 'Fin', 'q1-word': 'прегарна', 'q1-tag': 'ADJ', 'q2-tag': 'NOUN', 'q3-tag': 'PUNCT', 'distance': 2}\n",
      "{'s0-word': 'домі', 's0-lemma': 'дім', 's0-tag': 'NOUN', 's0-Animacy': 'Inan', 's0-Case': 'Loc', 's0-Gender': 'Masc', 's0-Number': 'Sing', 's1-tag': 'NOUN', 'q0-word': 'була', 'q0-lemma': 'бути', 'q0-tag': 'VERB', 'q0-Aspect': 'Imp', 'q0-Gender': 'Fem', 'q0-Mood': 'Ind', 'q0-Number': 'Sing', 'q0-Tense': 'Past', 'q0-VerbForm': 'Fin', 'q1-word': 'прегарна', 'q1-tag': 'ADJ', 'q2-tag': 'NOUN', 'q3-tag': 'PUNCT', 'distance': 4}\n",
      "{'s0-word': 'ROOT', 's0-lemma': 'ROOT', 's0-tag': 'ROOT', 'q0-word': 'була', 'q0-lemma': 'бути', 'q0-tag': 'VERB', 'q0-Aspect': 'Imp', 'q0-Gender': 'Fem', 'q0-Mood': 'Ind', 'q0-Number': 'Sing', 'q0-Tense': 'Past', 'q0-VerbForm': 'Fin', 'q1-word': 'прегарна', 'q1-tag': 'ADJ', 'q2-tag': 'NOUN', 'q3-tag': 'PUNCT', 'distance': 6}\n",
      "{'s0-word': 'була', 's0-lemma': 'бути', 's0-tag': 'VERB', 's0-Aspect': 'Imp', 's0-Gender': 'Fem', 's0-Mood': 'Ind', 's0-Number': 'Sing', 's0-Tense': 'Past', 's0-VerbForm': 'Fin', 's1-tag': 'VERB', 'q0-word': 'прегарна', 'q0-lemma': 'прегарний', 'q0-tag': 'ADJ', 'q0-Case': 'Nom', 'q0-Gender': 'Fem', 'q0-Number': 'Sing', 'q1-word': 'фреска', 'q1-tag': 'NOUN', 'q2-tag': 'PUNCT', 'q3-tag': 'NOUN', 'distance': 1}\n",
      "{'s0-word': 'прегарна', 's0-lemma': 'прегарний', 's0-tag': 'ADJ', 's0-Case': 'Nom', 's0-Gender': 'Fem', 's0-Number': 'Sing', 's1-tag': 'ADJ', 'q0-word': 'фреска', 'q0-lemma': 'фреска', 'q0-tag': 'NOUN', 'q0-Animacy': 'Inan', 'q0-Case': 'Nom', 'q0-Gender': 'Fem', 'q0-Number': 'Sing', 'q1-word': ',', 'q1-tag': 'PUNCT', 'q2-tag': 'NOUN', 'q3-tag': 'PROPN', 'distance': 1}\n",
      "{'s0-word': 'була', 's0-lemma': 'бути', 's0-tag': 'VERB', 's0-Aspect': 'Imp', 's0-Gender': 'Fem', 's0-Mood': 'Ind', 's0-Number': 'Sing', 's0-Tense': 'Past', 's0-VerbForm': 'Fin', 's1-tag': 'VERB', 'q0-word': 'фреска', 'q0-lemma': 'фреска', 'q0-tag': 'NOUN', 'q0-Animacy': 'Inan', 'q0-Case': 'Nom', 'q0-Gender': 'Fem', 'q0-Number': 'Sing', 'q1-word': ',', 'q1-tag': 'PUNCT', 'q2-tag': 'NOUN', 'q3-tag': 'PROPN', 'distance': 2}\n",
      "{'s0-word': 'фреска', 's0-lemma': 'фреска', 's0-tag': 'NOUN', 's0-Animacy': 'Inan', 's0-Case': 'Nom', 's0-Gender': 'Fem', 's0-Number': 'Sing', 's1-tag': 'NOUN', 'q0-word': ',', 'q0-lemma': ',', 'q0-tag': 'PUNCT', 'q1-word': 'зображення', 'q1-tag': 'NOUN', 'q2-tag': 'PROPN', 'q3-tag': 'CCONJ', 'distance': 1}\n",
      "{'s0-word': ',', 's0-lemma': ',', 's0-tag': 'PUNCT', 's1-tag': 'PUNCT', 'q0-word': 'зображення', 'q0-lemma': 'зображення', 'q0-tag': 'NOUN', 'q0-Animacy': 'Inan', 'q0-Case': 'Nom', 'q0-Gender': 'Neut', 'q0-Number': 'Sing', 'q1-word': 'Венери', 'q1-tag': 'PROPN', 'q2-tag': 'CCONJ', 'q3-tag': 'PROPN', 'distance': 1}\n",
      "{'s0-word': 'фреска', 's0-lemma': 'фреска', 's0-tag': 'NOUN', 's0-Animacy': 'Inan', 's0-Case': 'Nom', 's0-Gender': 'Fem', 's0-Number': 'Sing', 's1-tag': 'NOUN', 'q0-word': 'зображення', 'q0-lemma': 'зображення', 'q0-tag': 'NOUN', 'q0-Animacy': 'Inan', 'q0-Case': 'Nom', 'q0-Gender': 'Neut', 'q0-Number': 'Sing', 'q1-word': 'Венери', 'q1-tag': 'PROPN', 'q2-tag': 'CCONJ', 'q3-tag': 'PROPN', 'distance': 2}\n",
      "{'s0-word': 'зображення', 's0-lemma': 'зображення', 's0-tag': 'NOUN', 's0-Animacy': 'Inan', 's0-Case': 'Nom', 's0-Gender': 'Neut', 's0-Number': 'Sing', 's1-tag': 'NOUN', 'q0-word': 'Венери', 'q0-lemma': 'Венера', 'q0-tag': 'PROPN', 'q0-Animacy': 'Anim', 'q0-Case': 'Gen', 'q0-Gender': 'Fem', 'q0-NameType': 'Giv', 'q0-Number': 'Sing', 'q1-word': 'та', 'q1-tag': 'CCONJ', 'q2-tag': 'PROPN', 'q3-tag': 'PUNCT', 'distance': 1}\n",
      "{'s0-word': 'Венери', 's0-lemma': 'Венера', 's0-tag': 'PROPN', 's0-Animacy': 'Anim', 's0-Case': 'Gen', 's0-Gender': 'Fem', 's0-NameType': 'Giv', 's0-Number': 'Sing', 's1-tag': 'PROPN', 'q0-word': 'та', 'q0-lemma': 'та', 'q0-tag': 'CCONJ', 'q1-word': 'Адоніса', 'q1-tag': 'PROPN', 'q2-tag': 'PUNCT', 'distance': 1}\n",
      "{'s0-word': 'та', 's0-lemma': 'та', 's0-tag': 'CCONJ', 's1-tag': 'CCONJ', 'q0-word': 'Адоніса', 'q0-lemma': 'Адоніс', 'q0-tag': 'PROPN', 'q0-Animacy': 'Anim', 'q0-Case': 'Gen', 'q0-Gender': 'Masc', 'q0-NameType': 'Giv', 'q0-Number': 'Sing', 'q1-word': '.', 'q1-tag': 'PUNCT', 'distance': 1}\n",
      "{'s0-word': 'Венери', 's0-lemma': 'Венера', 's0-tag': 'PROPN', 's0-Animacy': 'Anim', 's0-Case': 'Gen', 's0-Gender': 'Fem', 's0-NameType': 'Giv', 's0-Number': 'Sing', 's1-tag': 'PROPN', 'q0-word': 'Адоніса', 'q0-lemma': 'Адоніс', 'q0-tag': 'PROPN', 'q0-Animacy': 'Anim', 'q0-Case': 'Gen', 'q0-Gender': 'Masc', 'q0-NameType': 'Giv', 'q0-Number': 'Sing', 'q1-word': '.', 'q1-tag': 'PUNCT', 'distance': 2}\n",
      "{'s0-word': 'Адоніса', 's0-lemma': 'Адоніс', 's0-tag': 'PROPN', 's0-Animacy': 'Anim', 's0-Case': 'Gen', 's0-Gender': 'Masc', 's0-NameType': 'Giv', 's0-Number': 'Sing', 's1-tag': 'PROPN', 'q0-word': '.', 'q0-lemma': '.', 'q0-tag': 'PUNCT', 'distance': 1}\n",
      "{'s0-word': 'Венери', 's0-lemma': 'Венера', 's0-tag': 'PROPN', 's0-Animacy': 'Anim', 's0-Case': 'Gen', 's0-Gender': 'Fem', 's0-NameType': 'Giv', 's0-Number': 'Sing', 's1-tag': 'PROPN', 'q0-word': '.', 'q0-lemma': '.', 'q0-tag': 'PUNCT', 'distance': 3}\n",
      "{'s0-word': 'зображення', 's0-lemma': 'зображення', 's0-tag': 'NOUN', 's0-Animacy': 'Inan', 's0-Case': 'Nom', 's0-Gender': 'Neut', 's0-Number': 'Sing', 's1-tag': 'NOUN', 'q0-word': '.', 'q0-lemma': '.', 'q0-tag': 'PUNCT', 'distance': 4}\n",
      "{'s0-word': 'фреска', 's0-lemma': 'фреска', 's0-tag': 'NOUN', 's0-Animacy': 'Inan', 's0-Case': 'Nom', 's0-Gender': 'Fem', 's0-Number': 'Sing', 's1-tag': 'NOUN', 'q0-word': '.', 'q0-lemma': '.', 'q0-tag': 'PUNCT', 'distance': 6}\n",
      "{'s0-word': 'була', 's0-lemma': 'бути', 's0-tag': 'VERB', 's0-Aspect': 'Imp', 's0-Gender': 'Fem', 's0-Mood': 'Ind', 's0-Number': 'Sing', 's0-Tense': 'Past', 's0-VerbForm': 'Fin', 's1-tag': 'VERB', 'q0-word': '.', 'q0-lemma': '.', 'q0-tag': 'PUNCT', 'distance': 8}\n",
      "{'s0-word': '.', 's0-lemma': '.', 's0-tag': 'PUNCT', 's1-tag': 'PUNCT'}\n",
      "{'s0-word': 'була', 's0-lemma': 'бути', 's0-tag': 'VERB', 's0-Aspect': 'Imp', 's0-Gender': 'Fem', 's0-Mood': 'Ind', 's0-Number': 'Sing', 's0-Tense': 'Past', 's0-VerbForm': 'Fin', 's1-tag': 'VERB'}\n",
      "{'s0-word': 'ROOT', 's0-lemma': 'ROOT', 's0-tag': 'ROOT'}\n"
     ]
    }
   ],
   "source": [
    "features, labels = get_data(tree)\n",
    "print(\"Number of words:\", len(tree))\n",
    "print(\"Number of actions:\", len(labels))\n",
    "print(\"List of actions taken:\", labels)\n",
    "print(\"Features:\")\n",
    "for word in features:\n",
    "    print(word)"
   ]
  },
  {
   "cell_type": "code",
   "execution_count": 12,
   "metadata": {},
   "outputs": [
    {
     "name": "stdout",
     "output_type": "stream",
     "text": [
      "181376 181376\n"
     ]
    }
   ],
   "source": [
    "train_features, train_labels = [], []\n",
    "for tree in trees:\n",
    "    tree_features, tree_labels = get_data([t for t in tree if type(t[\"id\"])==int])\n",
    "    train_features += tree_features\n",
    "    train_labels += tree_labels\n",
    "\n",
    "print(len(train_features), len(train_labels))"
   ]
  },
  {
   "cell_type": "code",
   "execution_count": 14,
   "metadata": {},
   "outputs": [
    {
     "name": "stdout",
     "output_type": "stream",
     "text": [
      "33406 33406\n"
     ]
    }
   ],
   "source": [
    "# Test data\n",
    "\n",
    "test_trees = load_trees(TEST_FILENAME)\n",
    "\n",
    "test_features, test_labels = [], []\n",
    "for tree in test_trees:\n",
    "    tree_features, tree_labels = get_data([t for t in tree if type(t[\"id\"])==int])\n",
    "    test_features += tree_features\n",
    "    test_labels += tree_labels\n",
    "\n",
    "print(len(test_features), len(test_labels))"
   ]
  },
  {
   "cell_type": "markdown",
   "metadata": {},
   "source": [
    "## Train a classifier"
   ]
  },
  {
   "cell_type": "code",
   "execution_count": 15,
   "metadata": {},
   "outputs": [],
   "source": [
    "from sklearn.feature_extraction import DictVectorizer\n",
    "from sklearn.linear_model import LogisticRegression\n",
    "from sklearn.metrics import classification_report"
   ]
  },
  {
   "cell_type": "code",
   "execution_count": 16,
   "metadata": {},
   "outputs": [
    {
     "name": "stdout",
     "output_type": "stream",
     "text": [
      "\n",
      "Total number of features:  107993\n"
     ]
    }
   ],
   "source": [
    "vectorizer = DictVectorizer()\n",
    "vec = vectorizer.fit(train_features)\n",
    "\n",
    "print(\"\\nTotal number of features: \", len(vec.get_feature_names()))"
   ]
  },
  {
   "cell_type": "code",
   "execution_count": 24,
   "metadata": {},
   "outputs": [
    {
     "name": "stdout",
     "output_type": "stream",
     "text": [
      "(181376, 107993)\n",
      "(33406, 107993)\n"
     ]
    }
   ],
   "source": [
    "train_features_vectorized = vec.transform(train_features)\n",
    "test_features_vectorized = vec.transform(test_features)\n",
    "\n",
    "print(train_features_vectorized.shape)\n",
    "print(test_features_vectorized.shape)"
   ]
  },
  {
   "cell_type": "code",
   "execution_count": 33,
   "metadata": {},
   "outputs": [
    {
     "name": "stderr",
     "output_type": "stream",
     "text": [
      "[Parallel(n_jobs=4)]: Using backend ThreadingBackend with 4 concurrent workers.\n"
     ]
    },
    {
     "name": "stdout",
     "output_type": "stream",
     "text": [
      "convergence after 1997 epochs took 364 seconds\n"
     ]
    },
    {
     "name": "stderr",
     "output_type": "stream",
     "text": [
      "[Parallel(n_jobs=4)]: Done   1 out of   1 | elapsed:  6.1min finished\n"
     ]
    },
    {
     "data": {
      "text/plain": [
       "LogisticRegression(C=1.0, class_weight=None, dual=False, fit_intercept=True,\n",
       "          intercept_scaling=1, max_iter=2000, multi_class='multinomial',\n",
       "          n_jobs=4, penalty='l2', random_state=42, solver='sag',\n",
       "          tol=0.0001, verbose=1, warm_start=False)"
      ]
     },
     "execution_count": 33,
     "metadata": {},
     "output_type": "execute_result"
    }
   ],
   "source": [
    "lrc = LogisticRegression(random_state=42, n_jobs=4, \n",
    "                         solver=\"sag\", multi_class=\"multinomial\", max_iter=2000, verbose=1)\n",
    "lrc.fit(train_features_vectorized, train_labels)"
   ]
  },
  {
   "cell_type": "code",
   "execution_count": 34,
   "metadata": {},
   "outputs": [
    {
     "name": "stdout",
     "output_type": "stream",
     "text": [
      "              precision    recall  f1-score   support\n",
      "\n",
      "        left       0.85      0.87      0.86      8222\n",
      "      reduce       0.81      0.72      0.76      8913\n",
      "       right       0.74      0.80      0.77      7897\n",
      "       shift       0.88      0.89      0.88      8374\n",
      "\n",
      "   micro avg       0.82      0.82      0.82     33406\n",
      "   macro avg       0.82      0.82      0.82     33406\n",
      "weighted avg       0.82      0.82      0.82     33406\n",
      "\n"
     ]
    }
   ],
   "source": [
    "predicted = lrc.predict(test_features_vectorized)\n",
    "print(classification_report(test_labels, predicted))"
   ]
  },
  {
   "cell_type": "markdown",
   "metadata": {},
   "source": [
    "## Calculate the unlabeled attachment score\n",
    "UAS - the percentage of words in an input that are assigned the correct head."
   ]
  },
  {
   "cell_type": "code",
   "execution_count": 96,
   "metadata": {},
   "outputs": [],
   "source": [
    "def dep_parse(sentence, oracle, vectorizer, log=True):\n",
    "    stack, queue, relations = [ROOT], sentence[:], []\n",
    "    while queue or stack:\n",
    "        if stack and not queue:\n",
    "            stack.pop()\n",
    "        else:\n",
    "            features = extract_features(stack, queue)\n",
    "            action = oracle.predict(vectorizer.transform([features]))[0]\n",
    "            if log:\n",
    "                print(\"Stack:\", [i[\"form\"]+\"_\"+str(i[\"id\"]) for i in stack])\n",
    "                print(\"Queue:\", [i[\"form\"]+\"_\"+str(i[\"id\"]) for i in queue])\n",
    "                print(\"Relations:\", relations)\n",
    "                print(action)\n",
    "                print(\"========================\")\n",
    "            # actual parsing\n",
    "            if action == Actions.SHIFT:\n",
    "                stack.append(queue.pop(0))\n",
    "            elif action == Actions.REDUCE:\n",
    "                stack.pop()\n",
    "            elif action == Actions.LEFT:\n",
    "                relations.append((stack[-1][\"id\"], queue[0][\"id\"]))\n",
    "                stack.pop()\n",
    "            elif action == Actions.RIGHT:\n",
    "                relations.append((queue[0][\"id\"], stack[-1][\"id\"]))\n",
    "                stack.append(queue.pop(0))\n",
    "            else:\n",
    "                print(f\"Unknown action '{action}'.\")\n",
    "    return sorted(relations)"
   ]
  },
  {
   "cell_type": "code",
   "execution_count": 37,
   "metadata": {},
   "outputs": [
    {
     "name": "stdout",
     "output_type": "stream",
     "text": [
      "Total: 16271\n",
      "Correctly defined: 11520\n",
      "UAS: 0.71\n"
     ]
    }
   ],
   "source": [
    "total, tp = 0, 0\n",
    "for tree in test_trees:\n",
    "    tree = [t for t in tree if type(t[\"id\"])==int]\n",
    "    golden = [(node[\"id\"], node[\"head\"]) for node in tree]\n",
    "    predicted = dep_parse(tree, lrc, vec, log=False)\n",
    "    total += len(tree)\n",
    "    tp += len(set(golden).intersection(set(predicted)))\n",
    "\n",
    "print(\"Total:\", total)\n",
    "print(\"Correctly defined:\", tp)\n",
    "print(\"UAS:\", round(tp/total, 2))"
   ]
  },
  {
   "cell_type": "markdown",
   "metadata": {},
   "source": [
    "## Train a NN classifier"
   ]
  },
  {
   "cell_type": "code",
   "execution_count": 38,
   "metadata": {},
   "outputs": [
    {
     "name": "stdout",
     "output_type": "stream",
     "text": [
      "[name: \"/device:CPU:0\"\n",
      "device_type: \"CPU\"\n",
      "memory_limit: 268435456\n",
      "locality {\n",
      "}\n",
      "incarnation: 12832507016126037028\n",
      "]\n"
     ]
    }
   ],
   "source": [
    "from tensorflow.python.client import device_lib\n",
    "print(device_lib.list_local_devices())"
   ]
  },
  {
   "cell_type": "code",
   "execution_count": 123,
   "metadata": {},
   "outputs": [],
   "source": [
    "from tensorflow.keras import layers, models\n",
    "from tensorflow.keras.utils import to_categorical\n",
    "from tensorflow.keras.callbacks import EarlyStopping, ReduceLROnPlateau, ModelCheckpoint\n",
    "from tensorflow.keras.optimizers import Adam\n",
    "from tensorflow.keras import regularizers\n",
    "import numpy as np"
   ]
  },
  {
   "cell_type": "code",
   "execution_count": 124,
   "metadata": {},
   "outputs": [],
   "source": [
    "early_stopping=EarlyStopping(monitor='val_loss', patience=10)\n",
    "reduce_lr = ReduceLROnPlateau(monitor='val_loss', factor=0.2,\n",
    "                              patience=5, min_lr=0.00001)\n",
    "checkpoint = ModelCheckpoint('data/weights.best.hdf5', monitor='val_acc', verbose=1, save_best_only=True, mode='max')"
   ]
  },
  {
   "cell_type": "code",
   "execution_count": 99,
   "metadata": {},
   "outputs": [
    {
     "name": "stdout",
     "output_type": "stream",
     "text": [
      "['reduce', 'left', 'right', 'shift']\n",
      "{'reduce': 0, 'left': 1, 'right': 2, 'shift': 3}\n"
     ]
    }
   ],
   "source": [
    "labels_list = list(set(train_labels))\n",
    "print(labels_list)\n",
    "labels_dict = {name:i for i, name in enumerate(labels_list)}\n",
    "print(labels_dict)"
   ]
  },
  {
   "cell_type": "code",
   "execution_count": 52,
   "metadata": {},
   "outputs": [],
   "source": [
    "def labels_to_ind(y: np.array)->np.array:\n",
    "    return np.array([labels_dict[name] for name in y])"
   ]
  },
  {
   "cell_type": "code",
   "execution_count": 55,
   "metadata": {},
   "outputs": [],
   "source": [
    "train_labels_idx = labels_to_ind(train_labels)\n",
    "one_hot_train_labels = to_categorical(train_labels_idx)\n",
    "test_labels_idx = labels_to_ind(test_labels)\n",
    "one_hot_test_labels = to_categorical(test_labels_idx)"
   ]
  },
  {
   "cell_type": "code",
   "execution_count": 60,
   "metadata": {},
   "outputs": [
    {
     "name": "stdout",
     "output_type": "stream",
     "text": [
      "(181376, 107993)\n",
      "90688\n"
     ]
    }
   ],
   "source": [
    "print(train_features_vectorized.shape)\n",
    "threshold = train_features_vectorized.shape[0] // 2\n",
    "print(threshold)\n",
    "x_val = train_features_vectorized[:threshold]\n",
    "partial_x_train = train_features_vectorized[threshold:]\n",
    "y_val = one_hot_train_labels[:threshold]\n",
    "partial_y_train = one_hot_train_labels[threshold:]"
   ]
  },
  {
   "cell_type": "code",
   "execution_count": 127,
   "metadata": {},
   "outputs": [],
   "source": [
    "def construct_model():\n",
    "    dim = train_features_vectorized.shape[1]\n",
    "    model = models.Sequential()\n",
    "    model.add(layers.Dense(16, activation='relu', \n",
    "                           kernel_regularizer=regularizers.l1_l2(0.00, 0.005), \n",
    "                           input_shape=(dim,)))\n",
    "    model.add(layers.Dense(32, activation='relu', kernel_regularizer=regularizers.l1_l2(0.00, 0.005)))\n",
    "    model.add(layers.Dense(len(labels_dict), activation='softmax'))\n",
    "    return model"
   ]
  },
  {
   "cell_type": "code",
   "execution_count": 128,
   "metadata": {},
   "outputs": [],
   "source": [
    "model = construct_model()\n",
    "model.compile(optimizer=Adam(lr=0.002),\n",
    "              #optimizer='rmsprop',\n",
    "              loss='categorical_crossentropy',\n",
    "              metrics=['accuracy'])"
   ]
  },
  {
   "cell_type": "code",
   "execution_count": 129,
   "metadata": {},
   "outputs": [
    {
     "name": "stdout",
     "output_type": "stream",
     "text": [
      "Train on 90688 samples, validate on 90688 samples\n",
      "Epoch 1/100\n",
      "90624/90688 [============================>.] - ETA: 0s - loss: 0.8358 - acc: 0.7688\n",
      "Epoch 00001: val_acc improved from -inf to 0.82077, saving model to data/weights.best.hdf5\n",
      "90688/90688 [==============================] - 188s 2ms/sample - loss: 0.8358 - acc: 0.7688 - val_loss: 0.6868 - val_acc: 0.8208\n",
      "Epoch 2/100\n",
      "90624/90688 [============================>.] - ETA: 0s - loss: 0.6985 - acc: 0.8097\n",
      "Epoch 00002: val_acc improved from 0.82077 to 0.82987, saving model to data/weights.best.hdf5\n",
      "90688/90688 [==============================] - 182s 2ms/sample - loss: 0.6984 - acc: 0.8097 - val_loss: 0.6538 - val_acc: 0.8299\n",
      "Epoch 3/100\n",
      "90624/90688 [============================>.] - ETA: 0s - loss: 0.6687 - acc: 0.8183\n",
      "Epoch 00003: val_acc improved from 0.82987 to 0.83711, saving model to data/weights.best.hdf5\n",
      "90688/90688 [==============================] - 181s 2ms/sample - loss: 0.6688 - acc: 0.8183 - val_loss: 0.6341 - val_acc: 0.8371\n",
      "Epoch 4/100\n",
      "90624/90688 [============================>.] - ETA: 0s - loss: 0.6568 - acc: 0.8209\n",
      "Epoch 00004: val_acc improved from 0.83711 to 0.83985, saving model to data/weights.best.hdf5\n",
      "90688/90688 [==============================] - 181s 2ms/sample - loss: 0.6568 - acc: 0.8209 - val_loss: 0.6187 - val_acc: 0.8398\n",
      "Epoch 5/100\n",
      "90624/90688 [============================>.] - ETA: 0s - loss: 0.6441 - acc: 0.8235\n",
      "Epoch 00005: val_acc improved from 0.83985 to 0.84582, saving model to data/weights.best.hdf5\n",
      "90688/90688 [==============================] - 181s 2ms/sample - loss: 0.6442 - acc: 0.8235 - val_loss: 0.6018 - val_acc: 0.8458\n",
      "Epoch 6/100\n",
      "90624/90688 [============================>.] - ETA: 0s - loss: 0.6344 - acc: 0.8259\n",
      "Epoch 00006: val_acc did not improve from 0.84582\n",
      "90688/90688 [==============================] - 182s 2ms/sample - loss: 0.6344 - acc: 0.8259 - val_loss: 0.6009 - val_acc: 0.8452\n",
      "Epoch 7/100\n",
      "90624/90688 [============================>.] - ETA: 0s - loss: 0.6245 - acc: 0.8278\n",
      "Epoch 00007: val_acc improved from 0.84582 to 0.84737, saving model to data/weights.best.hdf5\n",
      "90688/90688 [==============================] - 181s 2ms/sample - loss: 0.6245 - acc: 0.8278 - val_loss: 0.5901 - val_acc: 0.8474\n",
      "Epoch 8/100\n",
      "90624/90688 [============================>.] - ETA: 0s - loss: 0.6167 - acc: 0.8296\n",
      "Epoch 00008: val_acc did not improve from 0.84737\n",
      "90688/90688 [==============================] - 182s 2ms/sample - loss: 0.6166 - acc: 0.8297 - val_loss: 0.5851 - val_acc: 0.8450\n",
      "Epoch 9/100\n",
      "90624/90688 [============================>.] - ETA: 0s - loss: 0.6108 - acc: 0.8319\n",
      "Epoch 00009: val_acc did not improve from 0.84737\n",
      "90688/90688 [==============================] - 181s 2ms/sample - loss: 0.6107 - acc: 0.8319 - val_loss: 0.5906 - val_acc: 0.8462\n",
      "Epoch 10/100\n",
      "90624/90688 [============================>.] - ETA: 0s - loss: 0.6046 - acc: 0.8334\n",
      "Epoch 00010: val_acc improved from 0.84737 to 0.85160, saving model to data/weights.best.hdf5\n",
      "90688/90688 [==============================] - 182s 2ms/sample - loss: 0.6046 - acc: 0.8333 - val_loss: 0.5764 - val_acc: 0.8516\n",
      "Epoch 11/100\n",
      "90624/90688 [============================>.] - ETA: 0s - loss: 0.5986 - acc: 0.8350\n",
      "Epoch 00011: val_acc did not improve from 0.85160\n",
      "90688/90688 [==============================] - 181s 2ms/sample - loss: 0.5985 - acc: 0.8350 - val_loss: 0.5779 - val_acc: 0.8481\n",
      "Epoch 12/100\n",
      "90624/90688 [============================>.] - ETA: 0s - loss: 0.5922 - acc: 0.8361\n",
      "Epoch 00012: val_acc did not improve from 0.85160\n",
      "90688/90688 [==============================] - 183s 2ms/sample - loss: 0.5921 - acc: 0.8362 - val_loss: 0.5669 - val_acc: 0.8504\n",
      "Epoch 13/100\n",
      "90624/90688 [============================>.] - ETA: 0s - loss: 0.5873 - acc: 0.8384\n",
      "Epoch 00013: val_acc did not improve from 0.85160\n",
      "90688/90688 [==============================] - 181s 2ms/sample - loss: 0.5873 - acc: 0.8384 - val_loss: 0.5676 - val_acc: 0.8498\n",
      "Epoch 14/100\n",
      "90624/90688 [============================>.] - ETA: 0s - loss: 0.5857 - acc: 0.8369\n",
      "Epoch 00014: val_acc did not improve from 0.85160\n",
      "90688/90688 [==============================] - 183s 2ms/sample - loss: 0.5857 - acc: 0.8369 - val_loss: 0.5608 - val_acc: 0.8507\n",
      "Epoch 15/100\n",
      "90624/90688 [============================>.] - ETA: 0s - loss: 0.5797 - acc: 0.8389\n",
      "Epoch 00015: val_acc did not improve from 0.85160\n",
      "90688/90688 [==============================] - 181s 2ms/sample - loss: 0.5797 - acc: 0.8389 - val_loss: 0.5619 - val_acc: 0.8496\n",
      "Epoch 16/100\n",
      "90624/90688 [============================>.] - ETA: 0s - loss: 0.5827 - acc: 0.8372\n",
      "Epoch 00016: val_acc improved from 0.85160 to 0.85238, saving model to data/weights.best.hdf5\n",
      "90688/90688 [==============================] - 183s 2ms/sample - loss: 0.5827 - acc: 0.8371 - val_loss: 0.5617 - val_acc: 0.8524\n",
      "Epoch 17/100\n",
      "90624/90688 [============================>.] - ETA: 0s - loss: 0.5766 - acc: 0.8388\n",
      "Epoch 00017: val_acc did not improve from 0.85238\n",
      "90688/90688 [==============================] - 180s 2ms/sample - loss: 0.5768 - acc: 0.8388 - val_loss: 0.5618 - val_acc: 0.8510\n",
      "Epoch 18/100\n",
      "90624/90688 [============================>.] - ETA: 0s - loss: 0.5767 - acc: 0.8393\n",
      "Epoch 00018: val_acc improved from 0.85238 to 0.85255, saving model to data/weights.best.hdf5\n",
      "90688/90688 [==============================] - 183s 2ms/sample - loss: 0.5767 - acc: 0.8393 - val_loss: 0.5508 - val_acc: 0.8525\n",
      "Epoch 19/100\n",
      "90624/90688 [============================>.] - ETA: 0s - loss: 0.5737 - acc: 0.8402\n",
      "Epoch 00019: val_acc improved from 0.85255 to 0.85290, saving model to data/weights.best.hdf5\n",
      "90688/90688 [==============================] - 182s 2ms/sample - loss: 0.5738 - acc: 0.8401 - val_loss: 0.5507 - val_acc: 0.8529\n",
      "Epoch 20/100\n",
      "90624/90688 [============================>.] - ETA: 0s - loss: 0.5739 - acc: 0.8410\n",
      "Epoch 00020: val_acc did not improve from 0.85290\n",
      "90688/90688 [==============================] - 187s 2ms/sample - loss: 0.5739 - acc: 0.8410 - val_loss: 0.5565 - val_acc: 0.8514\n",
      "Epoch 21/100\n",
      "90624/90688 [============================>.] - ETA: 0s - loss: 0.5725 - acc: 0.8403\n",
      "Epoch 00021: val_acc did not improve from 0.85290\n",
      "90688/90688 [==============================] - 185s 2ms/sample - loss: 0.5725 - acc: 0.8403 - val_loss: 0.5575 - val_acc: 0.8482\n",
      "Epoch 22/100\n",
      "90624/90688 [============================>.] - ETA: 0s - loss: 0.5717 - acc: 0.8412\n",
      "Epoch 00022: val_acc did not improve from 0.85290\n",
      "90688/90688 [==============================] - 182s 2ms/sample - loss: 0.5717 - acc: 0.8413 - val_loss: 0.5464 - val_acc: 0.8527\n",
      "Epoch 23/100\n",
      "90624/90688 [============================>.] - ETA: 0s - loss: 0.5708 - acc: 0.8412\n",
      "Epoch 00023: val_acc did not improve from 0.85290\n",
      "90688/90688 [==============================] - 180s 2ms/sample - loss: 0.5708 - acc: 0.8412 - val_loss: 0.5472 - val_acc: 0.8512\n",
      "Epoch 24/100\n",
      "90624/90688 [============================>.] - ETA: 0s - loss: 0.5690 - acc: 0.8419\n",
      "Epoch 00024: val_acc did not improve from 0.85290\n",
      "90688/90688 [==============================] - 183s 2ms/sample - loss: 0.5689 - acc: 0.8419 - val_loss: 0.5624 - val_acc: 0.8454\n",
      "Epoch 25/100\n",
      "90624/90688 [============================>.] - ETA: 0s - loss: 0.5672 - acc: 0.8431\n",
      "Epoch 00025: val_acc improved from 0.85290 to 0.85337, saving model to data/weights.best.hdf5\n",
      "90688/90688 [==============================] - 186s 2ms/sample - loss: 0.5672 - acc: 0.8431 - val_loss: 0.5511 - val_acc: 0.8534\n",
      "Epoch 26/100\n",
      "90624/90688 [============================>.] - ETA: 0s - loss: 0.5684 - acc: 0.8424\n",
      "Epoch 00026: val_acc did not improve from 0.85337\n",
      "90688/90688 [==============================] - 187s 2ms/sample - loss: 0.5685 - acc: 0.8424 - val_loss: 0.5515 - val_acc: 0.8495\n",
      "Epoch 27/100\n",
      "90624/90688 [============================>.] - ETA: 0s - loss: 0.5672 - acc: 0.8427\n",
      "Epoch 00027: val_acc improved from 0.85337 to 0.85409, saving model to data/weights.best.hdf5\n",
      "90688/90688 [==============================] - 186s 2ms/sample - loss: 0.5671 - acc: 0.8427 - val_loss: 0.5511 - val_acc: 0.8541\n",
      "Epoch 28/100\n",
      "90624/90688 [============================>.] - ETA: 0s - loss: 0.4705 - acc: 0.8601\n",
      "Epoch 00028: val_acc improved from 0.85409 to 0.86065, saving model to data/weights.best.hdf5\n",
      "90688/90688 [==============================] - 184s 2ms/sample - loss: 0.4704 - acc: 0.8601 - val_loss: 0.4569 - val_acc: 0.8607\n"
     ]
    },
    {
     "name": "stdout",
     "output_type": "stream",
     "text": [
      "Epoch 29/100\n",
      "90624/90688 [============================>.] - ETA: 0s - loss: 0.4449 - acc: 0.8647\n",
      "Epoch 00029: val_acc improved from 0.86065 to 0.86224, saving model to data/weights.best.hdf5\n",
      "90688/90688 [==============================] - 185s 2ms/sample - loss: 0.4448 - acc: 0.8647 - val_loss: 0.4555 - val_acc: 0.8622\n",
      "Epoch 30/100\n",
      "90624/90688 [============================>.] - ETA: 0s - loss: 0.4407 - acc: 0.8670\n",
      "Epoch 00030: val_acc did not improve from 0.86224\n",
      "90688/90688 [==============================] - 184s 2ms/sample - loss: 0.4407 - acc: 0.8670 - val_loss: 0.4594 - val_acc: 0.8614\n",
      "Epoch 31/100\n",
      "90624/90688 [============================>.] - ETA: 0s - loss: 0.4392 - acc: 0.8683\n",
      "Epoch 00031: val_acc did not improve from 0.86224\n",
      "90688/90688 [==============================] - 184s 2ms/sample - loss: 0.4392 - acc: 0.8684 - val_loss: 0.4619 - val_acc: 0.8621\n",
      "Epoch 32/100\n",
      "90624/90688 [============================>.] - ETA: 0s - loss: 0.4372 - acc: 0.8720\n",
      "Epoch 00032: val_acc did not improve from 0.86224\n",
      "90688/90688 [==============================] - 186s 2ms/sample - loss: 0.4373 - acc: 0.8719 - val_loss: 0.4629 - val_acc: 0.8616\n",
      "Epoch 33/100\n",
      "90624/90688 [============================>.] - ETA: 0s - loss: 0.4352 - acc: 0.8729\n",
      "Epoch 00033: val_acc did not improve from 0.86224\n",
      "90688/90688 [==============================] - 189s 2ms/sample - loss: 0.4352 - acc: 0.8729 - val_loss: 0.4667 - val_acc: 0.8614\n",
      "Epoch 34/100\n",
      "90624/90688 [============================>.] - ETA: 0s - loss: 0.4324 - acc: 0.8761\n",
      "Epoch 00034: val_acc did not improve from 0.86224\n",
      "90688/90688 [==============================] - 175s 2ms/sample - loss: 0.4325 - acc: 0.8761 - val_loss: 0.4675 - val_acc: 0.8621\n",
      "Epoch 35/100\n",
      "90624/90688 [============================>.] - ETA: 0s - loss: 0.3946 - acc: 0.8930\n",
      "Epoch 00035: val_acc improved from 0.86224 to 0.86329, saving model to data/weights.best.hdf5\n",
      "90688/90688 [==============================] - 175s 2ms/sample - loss: 0.3947 - acc: 0.8930 - val_loss: 0.4568 - val_acc: 0.8633\n",
      "Epoch 36/100\n",
      "90624/90688 [============================>.] - ETA: 0s - loss: 0.3879 - acc: 0.8939\n",
      "Epoch 00036: val_acc did not improve from 0.86329\n",
      "90688/90688 [==============================] - 178s 2ms/sample - loss: 0.3879 - acc: 0.8939 - val_loss: 0.4550 - val_acc: 0.8630\n",
      "Epoch 37/100\n",
      "90624/90688 [============================>.] - ETA: 0s - loss: 0.3853 - acc: 0.8951\n",
      "Epoch 00037: val_acc did not improve from 0.86329\n",
      "90688/90688 [==============================] - 179s 2ms/sample - loss: 0.3853 - acc: 0.8951 - val_loss: 0.4551 - val_acc: 0.8626\n",
      "Epoch 38/100\n",
      "90624/90688 [============================>.] - ETA: 0s - loss: 0.3837 - acc: 0.8953\n",
      "Epoch 00038: val_acc did not improve from 0.86329\n",
      "90688/90688 [==============================] - 179s 2ms/sample - loss: 0.3837 - acc: 0.8953 - val_loss: 0.4555 - val_acc: 0.8624\n",
      "Epoch 39/100\n",
      "90624/90688 [============================>.] - ETA: 0s - loss: 0.3824 - acc: 0.8961\n",
      "Epoch 00039: val_acc did not improve from 0.86329\n",
      "90688/90688 [==============================] - 179s 2ms/sample - loss: 0.3824 - acc: 0.8961 - val_loss: 0.4565 - val_acc: 0.8623\n",
      "Epoch 40/100\n",
      "90624/90688 [============================>.] - ETA: 0s - loss: 0.3810 - acc: 0.8976\n",
      "Epoch 00040: val_acc improved from 0.86329 to 0.86331, saving model to data/weights.best.hdf5\n",
      "90688/90688 [==============================] - 179s 2ms/sample - loss: 0.3810 - acc: 0.8977 - val_loss: 0.4571 - val_acc: 0.8633\n",
      "Epoch 41/100\n",
      "90624/90688 [============================>.] - ETA: 0s - loss: 0.3798 - acc: 0.8980\n",
      "Epoch 00041: val_acc did not improve from 0.86331\n",
      "90688/90688 [==============================] - 179s 2ms/sample - loss: 0.3798 - acc: 0.8980 - val_loss: 0.4577 - val_acc: 0.8629\n",
      "Epoch 42/100\n",
      "90624/90688 [============================>.] - ETA: 0s - loss: 0.3691 - acc: 0.9041\n",
      "Epoch 00042: val_acc did not improve from 0.86331\n",
      "90688/90688 [==============================] - 180s 2ms/sample - loss: 0.3691 - acc: 0.9042 - val_loss: 0.4573 - val_acc: 0.8629\n",
      "Epoch 43/100\n",
      "90624/90688 [============================>.] - ETA: 0s - loss: 0.3686 - acc: 0.9047\n",
      "Epoch 00043: val_acc did not improve from 0.86331\n",
      "90688/90688 [==============================] - 179s 2ms/sample - loss: 0.3686 - acc: 0.9047 - val_loss: 0.4574 - val_acc: 0.8629\n",
      "Epoch 44/100\n",
      "90624/90688 [============================>.] - ETA: 0s - loss: 0.3682 - acc: 0.9054\n",
      "Epoch 00044: val_acc did not improve from 0.86331\n",
      "90688/90688 [==============================] - 182s 2ms/sample - loss: 0.3682 - acc: 0.9054 - val_loss: 0.4575 - val_acc: 0.8630\n",
      "Epoch 45/100\n",
      "90624/90688 [============================>.] - ETA: 0s - loss: 0.3678 - acc: 0.9055\n",
      "Epoch 00045: val_acc did not improve from 0.86331\n",
      "90688/90688 [==============================] - 181s 2ms/sample - loss: 0.3678 - acc: 0.9055 - val_loss: 0.4577 - val_acc: 0.8628\n",
      "Epoch 46/100\n",
      "90624/90688 [============================>.] - ETA: 0s - loss: 0.3676 - acc: 0.9058\n",
      "Epoch 00046: val_acc did not improve from 0.86331\n",
      "90688/90688 [==============================] - 181s 2ms/sample - loss: 0.3675 - acc: 0.9058 - val_loss: 0.4578 - val_acc: 0.8631\n"
     ]
    }
   ],
   "source": [
    "history = model.fit(\n",
    "            partial_x_train,\n",
    "            partial_y_train,\n",
    "            epochs=100,\n",
    "            batch_size=256,\n",
    "            validation_data=(x_val, y_val),\n",
    "            callbacks=[early_stopping, reduce_lr, checkpoint]\n",
    "          )"
   ]
  },
  {
   "cell_type": "code",
   "execution_count": 130,
   "metadata": {},
   "outputs": [],
   "source": [
    "import matplotlib.pyplot as plt\n",
    "%matplotlib inline"
   ]
  },
  {
   "cell_type": "code",
   "execution_count": 131,
   "metadata": {},
   "outputs": [
    {
     "data": {
      "image/png": "[encoded data removed]",
      "text/plain": [
       "<Figure size 432x288 with 1 Axes>"
      ]
     },
     "metadata": {
      "needs_background": "light"
     },
     "output_type": "display_data"
    }
   ],
   "source": [
    "plt.clf()\n",
    "loss = history.history['loss']\n",
    "val_loss = history.history['val_loss']\n",
    "epochs = range(1, len(loss) + 1)\n",
    "plt.plot(epochs, loss, 'bo', label='Training loss')\n",
    "plt.plot(epochs, val_loss, 'b', label='Validation loss')\n",
    "plt.title('Training and validation loss')\n",
    "plt.xlabel('Epochs')\n",
    "plt.ylabel('Loss')\n",
    "plt.legend()\n",
    "plt.show()"
   ]
  },
  {
   "cell_type": "code",
   "execution_count": 133,
   "metadata": {},
   "outputs": [
    {
     "data": {
      "image/png": "[encoded data removed]",
      "text/plain": [
       "<Figure size 432x288 with 1 Axes>"
      ]
     },
     "metadata": {
      "needs_background": "light"
     },
     "output_type": "display_data"
    }
   ],
   "source": [
    "plt.clf()\n",
    "acc = history.history['acc']\n",
    "val_acc = history.history['val_acc']\n",
    "plt.plot(epochs, acc, 'bo', label='Training acc')\n",
    "plt.plot(epochs, val_acc, 'b', label='Validation acc')\n",
    "plt.title('Training and validation accuracy')\n",
    "plt.xlabel('Epochs')\n",
    "plt.ylabel('Accuracy')\n",
    "plt.legend()\n",
    "plt.show()"
   ]
  },
  {
   "cell_type": "code",
   "execution_count": 134,
   "metadata": {},
   "outputs": [],
   "source": [
    "model = construct_model()\n",
    "model.load_weights(\"data/weights.best.hdf5\")\n",
    "model.compile(optimizer=Adam(lr=0.002),\n",
    "              #optimizer='rmsprop',\n",
    "              loss='categorical_crossentropy',\n",
    "              metrics=['accuracy'])"
   ]
  },
  {
   "cell_type": "code",
   "execution_count": 135,
   "metadata": {},
   "outputs": [
    {
     "name": "stdout",
     "output_type": "stream",
     "text": [
      "33406/33406 [==============================] - 45s 1ms/sample - loss: 0.4724 - acc: 0.8534\n"
     ]
    },
    {
     "data": {
      "text/plain": [
       "[0.472417678382235, 0.8534395]"
      ]
     },
     "execution_count": 135,
     "metadata": {},
     "output_type": "execute_result"
    }
   ],
   "source": [
    "results = model.evaluate(test_features_vectorized, one_hot_test_labels)\n",
    "results"
   ]
  },
  {
   "cell_type": "code",
   "execution_count": 136,
   "metadata": {},
   "outputs": [
    {
     "name": "stdout",
     "output_type": "stream",
     "text": [
      "              precision    recall  f1-score   support\n",
      "\n",
      "           0       0.84      0.74      0.79      8913\n",
      "           1       0.88      0.90      0.89      8222\n",
      "           2       0.78      0.84      0.81      7897\n",
      "           3       0.91      0.93      0.92      8374\n",
      "\n",
      "   micro avg       0.85      0.85      0.85     33406\n",
      "   macro avg       0.85      0.86      0.85     33406\n",
      "weighted avg       0.85      0.85      0.85     33406\n",
      "\n"
     ]
    }
   ],
   "source": [
    "y_pred_one_hot = model.predict(test_features_vectorized)\n",
    "y_pred = np.argmax(y_pred_one_hot, axis=1)\n",
    "print(classification_report(test_labels_idx, y_pred))"
   ]
  },
  {
   "cell_type": "code",
   "execution_count": 137,
   "metadata": {},
   "outputs": [],
   "source": [
    "class OneHotWrapper:\n",
    "    def __init__(self, oracle):\n",
    "        self._oracle = oracle\n",
    "    \n",
    "    def predict(self, features):\n",
    "        y_pred_one_hot = self._oracle.predict(features)\n",
    "        y_pred = [labels_list[i] for i in np.argmax(y_pred_one_hot, axis=1)]\n",
    "        #print(y_pred, y_pred_one_hot, features[0][:5])\n",
    "        return y_pred"
   ]
  },
  {
   "cell_type": "code",
   "execution_count": 138,
   "metadata": {},
   "outputs": [
    {
     "name": "stdout",
     "output_type": "stream",
     "text": [
      "Total: 16271\n",
      "Correctly defined: 12230\n",
      "UAS: 0.75\n"
     ]
    }
   ],
   "source": [
    "oracle = OneHotWrapper(model)\n",
    "\n",
    "total, tp = 0, 0\n",
    "for tree in test_trees:\n",
    "    tree = [t for t in tree if type(t[\"id\"])==int]\n",
    "    golden = [(node[\"id\"], node[\"head\"]) for node in tree]\n",
    "    predicted = dep_parse(tree, oracle, vec, log=False)\n",
    "    total += len(tree)\n",
    "    tp += len(set(golden).intersection(set(predicted)))\n",
    "\n",
    "print(\"Total:\", total)\n",
    "print(\"Correctly defined:\", tp)\n",
    "print(\"UAS:\", round(tp/total, 2))"
   ]
  },
  {
   "cell_type": "code",
   "execution_count": null,
   "metadata": {},
   "outputs": [],
   "source": []
  }
 ],
 "metadata": {
  "kernelspec": {
   "display_name": "nlp",
   "language": "python",
   "name": "nlp"
  },
  "language_info": {
   "codemirror_mode": {
    "name": "ipython",
    "version": 3
   },
   "file_extension": ".py",
   "mimetype": "text/x-python",
   "name": "python",
   "nbconvert_exporter": "python",
   "pygments_lexer": "ipython3",
   "version": "3.6.8"
  }
 },
 "nbformat": 4,
 "nbformat_minor": 2
}
