{
 "cells": [
  {
   "cell_type": "code",
   "execution_count": 1,
   "metadata": {},
   "outputs": [],
   "source": [
    "try:\n",
    "    import google.colab\n",
    "    IN_COLAB = True\n",
    "except:\n",
    "    IN_COLAB = False\n",
    "\n",
    "if IN_COLAB:    \n",
    "    !pip install bpemb\n",
    "    !pip install git+https://github.com/kmike/pymorphy2.git pymorphy2-dicts-uk\n",
    "\n",
    "import os\n",
    "if not os.path.isdir('data'):\n",
    "    os.mkdir('data')"
   ]
  },
  {
   "cell_type": "code",
   "execution_count": 82,
   "metadata": {
    "pycharm": {
     "is_executing": false,
     "name": "#%%import utils\n"
    }
   },
   "outputs": [],
   "source": [
    "import pandas as pd\n",
    "import numpy as np\n",
    "from typing import List\n",
    "%matplotlib inline\n",
    "import matplotlib.pyplot as plt"
   ]
  },
  {
   "cell_type": "markdown",
   "metadata": {
    "pycharm": {}
   },
   "source": [
    "# Download CSV files"
   ]
  },
  {
   "cell_type": "code",
   "execution_count": 3,
   "metadata": {
    "pycharm": {
     "is_executing": false
    }
   },
   "outputs": [],
   "source": [
    "df_learn = pd.read_csv('data/rozetka_learn.csv')\n",
    "df_test = pd.read_csv('data/rozetka_test.csv')"
   ]
  },
  {
   "cell_type": "markdown",
   "metadata": {
    "pycharm": {}
   },
   "source": [
    "# Look on the data"
   ]
  },
  {
   "cell_type": "code",
   "execution_count": 4,
   "metadata": {
    "pycharm": {}
   },
   "outputs": [
    {
     "name": "stdout",
     "output_type": "stream",
     "text": [
      "Learn set shape: (3800, 5)\n",
      "Test set shape: (1629, 5)\n"
     ]
    }
   ],
   "source": [
    "print(f\"Learn set shape: {df_learn.shape}\")\n",
    "print(f\"Test set shape: {df_test.shape}\")"
   ]
  },
  {
   "cell_type": "code",
   "execution_count": 5,
   "metadata": {
    "pycharm": {}
   },
   "outputs": [
    {
     "data": {
      "text/html": [
       "<div>\n",
       "<style scoped>\n",
       "    .dataframe tbody tr th:only-of-type {\n",
       "        vertical-align: middle;\n",
       "    }\n",
       "\n",
       "    .dataframe tbody tr th {\n",
       "        vertical-align: top;\n",
       "    }\n",
       "\n",
       "    .dataframe thead th {\n",
       "        text-align: right;\n",
       "    }\n",
       "</style>\n",
       "<table border=\"1\" class=\"dataframe\">\n",
       "  <thead>\n",
       "    <tr style=\"text-align: right;\">\n",
       "      <th></th>\n",
       "      <th>goods_code</th>\n",
       "      <th>stars</th>\n",
       "      <th>review</th>\n",
       "      <th>author</th>\n",
       "      <th>permalink</th>\n",
       "    </tr>\n",
       "  </thead>\n",
       "  <tbody>\n",
       "    <tr>\n",
       "      <th>0</th>\n",
       "      <td>13252316</td>\n",
       "      <td>1</td>\n",
       "      <td>Шановні! Де обіцяна знижка 5% при оплаті карто...</td>\n",
       "      <td>Андрей Дмитриев</td>\n",
       "      <td>#tab=comments;id=34200034</td>\n",
       "    </tr>\n",
       "    <tr>\n",
       "      <th>1</th>\n",
       "      <td>61270053</td>\n",
       "      <td>5</td>\n",
       "      <td>Дизайн зайде не кожному, но є аналог Xiaomi Re...</td>\n",
       "      <td>Виталий Александрович</td>\n",
       "      <td>#tab=comments;id=35938497</td>\n",
       "    </tr>\n",
       "    <tr>\n",
       "      <th>2</th>\n",
       "      <td>45499672</td>\n",
       "      <td>5</td>\n",
       "      <td>колір тільки синій чи чорний теж є?</td>\n",
       "      <td>Арт Лаз</td>\n",
       "      <td>#tab=comments;id=30229184</td>\n",
       "    </tr>\n",
       "    <tr>\n",
       "      <th>3</th>\n",
       "      <td>48116526</td>\n",
       "      <td>4</td>\n",
       "      <td>Швидкий та зручний телефон, має презентабельни...</td>\n",
       "      <td>Дима Лисунов</td>\n",
       "      <td>#tab=comments;id=36726816</td>\n",
       "    </tr>\n",
       "    <tr>\n",
       "      <th>4</th>\n",
       "      <td>55379058</td>\n",
       "      <td>5</td>\n",
       "      <td>Купувався мамі на подарунок. Дуже задоволена. ...</td>\n",
       "      <td>Микола</td>\n",
       "      <td>#tab=comments;id=38966133</td>\n",
       "    </tr>\n",
       "  </tbody>\n",
       "</table>\n",
       "</div>"
      ],
      "text/plain": [
       "   goods_code  stars                                             review  \\\n",
       "0    13252316      1  Шановні! Де обіцяна знижка 5% при оплаті карто...   \n",
       "1    61270053      5  Дизайн зайде не кожному, но є аналог Xiaomi Re...   \n",
       "2    45499672      5                колір тільки синій чи чорний теж є?   \n",
       "3    48116526      4  Швидкий та зручний телефон, має презентабельни...   \n",
       "4    55379058      5  Купувався мамі на подарунок. Дуже задоволена. ...   \n",
       "\n",
       "                  author                  permalink  \n",
       "0        Андрей Дмитриев  #tab=comments;id=34200034  \n",
       "1  Виталий Александрович  #tab=comments;id=35938497  \n",
       "2                Арт Лаз  #tab=comments;id=30229184  \n",
       "3           Дима Лисунов  #tab=comments;id=36726816  \n",
       "4                 Микола  #tab=comments;id=38966133  "
      ]
     },
     "execution_count": 5,
     "metadata": {},
     "output_type": "execute_result"
    }
   ],
   "source": [
    "df_learn.head()"
   ]
  },
  {
   "cell_type": "code",
   "execution_count": 6,
   "metadata": {
    "pycharm": {}
   },
   "outputs": [
    {
     "data": {
      "text/html": [
       "<div>\n",
       "<style scoped>\n",
       "    .dataframe tbody tr th:only-of-type {\n",
       "        vertical-align: middle;\n",
       "    }\n",
       "\n",
       "    .dataframe tbody tr th {\n",
       "        vertical-align: top;\n",
       "    }\n",
       "\n",
       "    .dataframe thead th {\n",
       "        text-align: right;\n",
       "    }\n",
       "</style>\n",
       "<table border=\"1\" class=\"dataframe\">\n",
       "  <thead>\n",
       "    <tr style=\"text-align: right;\">\n",
       "      <th></th>\n",
       "      <th>goods_code</th>\n",
       "      <th>review</th>\n",
       "      <th>author</th>\n",
       "      <th>permalink</th>\n",
       "    </tr>\n",
       "    <tr>\n",
       "      <th>stars</th>\n",
       "      <th></th>\n",
       "      <th></th>\n",
       "      <th></th>\n",
       "      <th></th>\n",
       "    </tr>\n",
       "  </thead>\n",
       "  <tbody>\n",
       "    <tr>\n",
       "      <th>1</th>\n",
       "      <td>173</td>\n",
       "      <td>173</td>\n",
       "      <td>173</td>\n",
       "      <td>173</td>\n",
       "    </tr>\n",
       "    <tr>\n",
       "      <th>2</th>\n",
       "      <td>122</td>\n",
       "      <td>122</td>\n",
       "      <td>122</td>\n",
       "      <td>122</td>\n",
       "    </tr>\n",
       "    <tr>\n",
       "      <th>3</th>\n",
       "      <td>222</td>\n",
       "      <td>222</td>\n",
       "      <td>222</td>\n",
       "      <td>222</td>\n",
       "    </tr>\n",
       "    <tr>\n",
       "      <th>4</th>\n",
       "      <td>746</td>\n",
       "      <td>746</td>\n",
       "      <td>746</td>\n",
       "      <td>746</td>\n",
       "    </tr>\n",
       "    <tr>\n",
       "      <th>5</th>\n",
       "      <td>2537</td>\n",
       "      <td>2537</td>\n",
       "      <td>2537</td>\n",
       "      <td>2537</td>\n",
       "    </tr>\n",
       "  </tbody>\n",
       "</table>\n",
       "</div>"
      ],
      "text/plain": [
       "       goods_code  review  author  permalink\n",
       "stars                                       \n",
       "1             173     173     173        173\n",
       "2             122     122     122        122\n",
       "3             222     222     222        222\n",
       "4             746     746     746        746\n",
       "5            2537    2537    2537       2537"
      ]
     },
     "execution_count": 6,
     "metadata": {},
     "output_type": "execute_result"
    }
   ],
   "source": [
    "df_learn.groupby('stars').count()"
   ]
  },
  {
   "cell_type": "code",
   "execution_count": 7,
   "metadata": {
    "pycharm": {}
   },
   "outputs": [
    {
     "data": {
      "text/html": [
       "<div>\n",
       "<style scoped>\n",
       "    .dataframe tbody tr th:only-of-type {\n",
       "        vertical-align: middle;\n",
       "    }\n",
       "\n",
       "    .dataframe tbody tr th {\n",
       "        vertical-align: top;\n",
       "    }\n",
       "\n",
       "    .dataframe thead th {\n",
       "        text-align: right;\n",
       "    }\n",
       "</style>\n",
       "<table border=\"1\" class=\"dataframe\">\n",
       "  <thead>\n",
       "    <tr style=\"text-align: right;\">\n",
       "      <th></th>\n",
       "      <th>goods_code</th>\n",
       "      <th>review</th>\n",
       "      <th>author</th>\n",
       "      <th>permalink</th>\n",
       "    </tr>\n",
       "    <tr>\n",
       "      <th>stars</th>\n",
       "      <th></th>\n",
       "      <th></th>\n",
       "      <th></th>\n",
       "      <th></th>\n",
       "    </tr>\n",
       "  </thead>\n",
       "  <tbody>\n",
       "    <tr>\n",
       "      <th>1</th>\n",
       "      <td>93</td>\n",
       "      <td>93</td>\n",
       "      <td>93</td>\n",
       "      <td>93</td>\n",
       "    </tr>\n",
       "    <tr>\n",
       "      <th>2</th>\n",
       "      <td>59</td>\n",
       "      <td>59</td>\n",
       "      <td>59</td>\n",
       "      <td>59</td>\n",
       "    </tr>\n",
       "    <tr>\n",
       "      <th>3</th>\n",
       "      <td>101</td>\n",
       "      <td>101</td>\n",
       "      <td>101</td>\n",
       "      <td>101</td>\n",
       "    </tr>\n",
       "    <tr>\n",
       "      <th>4</th>\n",
       "      <td>316</td>\n",
       "      <td>316</td>\n",
       "      <td>316</td>\n",
       "      <td>316</td>\n",
       "    </tr>\n",
       "    <tr>\n",
       "      <th>5</th>\n",
       "      <td>1060</td>\n",
       "      <td>1060</td>\n",
       "      <td>1060</td>\n",
       "      <td>1060</td>\n",
       "    </tr>\n",
       "  </tbody>\n",
       "</table>\n",
       "</div>"
      ],
      "text/plain": [
       "       goods_code  review  author  permalink\n",
       "stars                                       \n",
       "1              93      93      93         93\n",
       "2              59      59      59         59\n",
       "3             101     101     101        101\n",
       "4             316     316     316        316\n",
       "5            1060    1060    1060       1060"
      ]
     },
     "execution_count": 7,
     "metadata": {},
     "output_type": "execute_result"
    }
   ],
   "source": [
    "df_test.groupby('stars').count()"
   ]
  },
  {
   "cell_type": "markdown",
   "metadata": {
    "pycharm": {}
   },
   "source": [
    "# Sentiment analizer - baseline"
   ]
  },
  {
   "cell_type": "code",
   "execution_count": 8,
   "metadata": {
    "pycharm": {}
   },
   "outputs": [
    {
     "name": "stdout",
     "output_type": "stream",
     "text": [
      "['neg', 'neg', 'ind', 'ind', 'pos']\n",
      "[False, False, True, True, False]\n"
     ]
    }
   ],
   "source": [
    "def stars_to_sentiment(stars):\n",
    "    res = []\n",
    "    for s in stars:\n",
    "        if s<3:\n",
    "            res.append('neg')\n",
    "        elif s<5:\n",
    "            res.append('ind') # indifferent\n",
    "        else:\n",
    "            res.append('pos')\n",
    "    return res\n",
    "\n",
    "def find_classes(label: str, sentiments: List[str])->List[bool]:\n",
    "    return [s==label for s in sentiments]\n",
    "\n",
    "print(stars_to_sentiment([1,2,3,4,5]))\n",
    "print(find_classes('ind', stars_to_sentiment([1,2,3,4,5])))"
   ]
  },
  {
   "cell_type": "code",
   "execution_count": 9,
   "metadata": {
    "pycharm": {}
   },
   "outputs": [],
   "source": [
    "X_learn = df_learn['review'].values\n",
    "X_test = df_test['review'].values\n",
    "y_learn = stars_to_sentiment(df_learn['stars'].values)\n",
    "y_test = stars_to_sentiment(df_test['stars'].values)"
   ]
  },
  {
   "cell_type": "code",
   "execution_count": 10,
   "metadata": {
    "pycharm": {}
   },
   "outputs": [],
   "source": [
    "from sklearn.feature_extraction.text import TfidfVectorizer, CountVectorizer\n",
    "from sklearn.naive_bayes import BernoulliNB, MultinomialNB\n",
    "from sklearn.linear_model import SGDClassifier"
   ]
  },
  {
   "cell_type": "code",
   "execution_count": 11,
   "metadata": {},
   "outputs": [
    {
     "name": "stdout",
     "output_type": "stream",
     "text": [
      "['говорить', 'ним', 'моє', 'нас', 'посеред', 'біля', \"дев'ятнадцять\", 'буде', 'лише', 'наших']\n"
     ]
    }
   ],
   "source": [
    "UK_STOP_WORDS = set(\n",
    "    \"\"\"\n",
    "а або адже аж але алло \n",
    "б багато без безперервно би більш більше біля близько бо був буває буде будемо\n",
    "будете будеш буду будуть будь була були було бути \n",
    "в вам вами вас ваш ваша ваше вашим вашими ваших ваші вашій вашого вашої вашому\n",
    "вашою вашу вгорі вгору вдалині весь вже ви від відсотків він вісім вісімнадцятий\n",
    "вісімнадцять вниз внизу вона вони воно восьмий все всею всі всім всіх всього\n",
    "всьому всю вся втім\n",
    "г геть говорив говорить \n",
    "давно далеко далі дарма два двадцятий двадцять дванадцятий дванадцять дві двох\n",
    "де дев'ятий дев'ятнадцятий дев'ятнадцять дев'ять декілька день десятий десять\n",
    "дійсно для дня до добре довго доки досить другий дуже дякую\n",
    "е\n",
    "є\n",
    "ж же\n",
    "з за завжди зазвичай занадто зараз зате звичайно звідси звідусіль здається\n",
    "зі значить знову зовсім\n",
    "і із іноді інша інше інший інших інші\n",
    "її їй їм їх\n",
    "й його йому\n",
    "каже ким кілька кого кожен кожна кожне кожні коли кому краще крім куди \n",
    "ласка ледве лише\n",
    "м має майже мало мати мене мені менш менше ми мимо міг між мій мільйонів мною\n",
    "мого могти моє моєї моєму моєю може можна можно можуть мої моїй моїм моїми моїх\n",
    "мою моя\n",
    "на навіть навіщо навколо навкруги нагорі над назад найбільш нам нами нарешті нас\n",
    "наш наша наше нашим нашими наших наші нашій нашого нашої нашому нашою нашу не\n",
    "небагато небудь недалеко неї немає нерідко нещодавно нею нибудь нижче низько ним\n",
    "ними них ні ніби ніж ній ніколи нікуди нім нічого ну нього ньому\n",
    "о обидва обоє один одинадцятий одинадцять однак однієї одній одного означає\n",
    "окрім он особливо ось\n",
    "п'ятий п'ятнадцятий п'ятнадцять п'ять перед перший під пізніше пір після по \n",
    "повинно подів поки пора поруч посеред потім потрібно почала початку при про \n",
    "просто проте проти \n",
    "раз разу раніше рано раптом рік роки років року році\n",
    "сам сама саме самим самими самих самі самій само самого самому саму свого своє\n",
    "своєї свої своїй своїх свою себе сих сім сімнадцятий сімнадцять сказав сказала\n",
    "сказати скільки скрізь собі собою спасибі спочатку справ став суть сьогодні \n",
    "сьомий \n",
    "т та так така таке такий такі також там твій твого твоє твоєї твоєму твоєю твої\n",
    "твоїй твоїм твоїми твоїх твою твоя те тебе теж тепер ти тим тими тисяч тих ті\n",
    "тієї тією тій тільки тім то тобі тобою того тоді той тому тою треба третій три\n",
    "тринадцятий тринадцять трохи ту туди тут \n",
    "у увесь уміти усе усі усім усіма усіх усього усьому усю усюди уся \n",
    "хіба хотіти хоч хоча хочеш хто\n",
    "це цей цим цими цих ці цієї цій цього цьому цю ця \n",
    "час частіше часто часу через четвертий чи чиє чиєї чиєму чиї чиїй чиїм чиїми \n",
    "чиїх чий чийого чийому чим численна численне численний численні чию чия чого\n",
    "чому чотири чотирнадцятий чотирнадцять\n",
    "шістнадцятий шістнадцять шість шостий\n",
    "ще що щоб щодо щось \n",
    "я як яка який яких які якій якого якої якщо\"\"\".split()\n",
    ")\n",
    "\n",
    "print(list(UK_STOP_WORDS)[:10])"
   ]
  },
  {
   "cell_type": "code",
   "execution_count": 12,
   "metadata": {
    "pycharm": {}
   },
   "outputs": [
    {
     "name": "stdout",
     "output_type": "stream",
     "text": [
      "такий\n",
      "['говорить', 'ним', 'моє', 'нас', 'посеред', 'біля', \"дев'ятнадцять\", 'буде', 'лише', 'наших']\n"
     ]
    }
   ],
   "source": [
    "# pip install git+https://github.com/kmike/pymorphy2.git pymorphy2-dicts-uk\n",
    "import pymorphy2\n",
    "morph = pymorphy2.MorphAnalyzer(lang='uk')\n",
    "norm = morph.parse('таку')[0].normal_form\n",
    "print(norm)\n",
    "\n",
    "print(list(UK_STOP_WORDS)[:10])\n",
    "\n"
   ]
  },
  {
   "cell_type": "code",
   "execution_count": 13,
   "metadata": {
    "pycharm": {}
   },
   "outputs": [],
   "source": [
    "from nltk import word_tokenize\n",
    "\n",
    "def tokenize_lemmatize_filter(text: str, trace: False)->List[str]:\n",
    "    if trace:\n",
    "        print(text)\n",
    "    tokens = word_tokenize(text)\n",
    "    if trace:\n",
    "        print(tokens)\n",
    "    #tokens = [t for t in tokens if t.lower() not in UK_STOP_WORDS]\n",
    "    #tokens = [t for t in tokens if t.isalpha()]\n",
    "    if trace:\n",
    "        print(tokens)\n",
    "    result = [morph.parse(t)[0].normal_form for t in tokens]\n",
    "    if trace:\n",
    "        print(result)\n",
    "    return result"
   ]
  },
  {
   "cell_type": "code",
   "execution_count": 14,
   "metadata": {
    "pycharm": {}
   },
   "outputs": [
    {
     "name": "stdout",
     "output_type": "stream",
     "text": [
      "Шановні! Де обіцяна знижка 5% при оплаті картою МастерКард? Раніше була а тепер зникла. Перевірте будь ласка - коли додаєш товар у кошик і обираєш \"Акція! Знижка 5% при оплаті карткою Mastercard через Masterpass!\" то ціна не змінюється.\n",
      "['Шановні', '!', 'Де', 'обіцяна', 'знижка', '5', '%', 'при', 'оплаті', 'картою', 'МастерКард', '?', 'Раніше', 'була', 'а', 'тепер', 'зникла', '.', 'Перевірте', 'будь', 'ласка', '-', 'коли', 'додаєш', 'товар', 'у', 'кошик', 'і', 'обираєш', '``', 'Акція', '!', 'Знижка', '5', '%', 'при', 'оплаті', 'карткою', 'Mastercard', 'через', 'Masterpass', '!', \"''\", 'то', 'ціна', 'не', 'змінюється', '.']\n",
      "['Шановні', '!', 'Де', 'обіцяна', 'знижка', '5', '%', 'при', 'оплаті', 'картою', 'МастерКард', '?', 'Раніше', 'була', 'а', 'тепер', 'зникла', '.', 'Перевірте', 'будь', 'ласка', '-', 'коли', 'додаєш', 'товар', 'у', 'кошик', 'і', 'обираєш', '``', 'Акція', '!', 'Знижка', '5', '%', 'при', 'оплаті', 'карткою', 'Mastercard', 'через', 'Masterpass', '!', \"''\", 'то', 'ціна', 'не', 'змінюється', '.']\n",
      "['шановний', '!', 'де', 'обіцяний', 'знижка', '5', '%', 'перти', 'оплата', 'карта', 'мастеркард', '?', 'раніший', 'булий', 'а', 'тепер', 'зниклий', '.', 'перевірити', 'бути', 'ласка', '-', 'коли', 'додавати', 'товар', 'у', 'кошик', 'і', 'обирати', '``', 'акція', '!', 'знижка', '5', '%', 'перти', 'оплата', 'картка', 'mastercard', 'через', 'masterpass', '!', \"''\", 'то', 'ціна', 'не', 'змінюватися', '.']\n"
     ]
    },
    {
     "data": {
      "text/plain": [
       "['шановний',\n",
       " '!',\n",
       " 'де',\n",
       " 'обіцяний',\n",
       " 'знижка',\n",
       " '5',\n",
       " '%',\n",
       " 'перти',\n",
       " 'оплата',\n",
       " 'карта',\n",
       " 'мастеркард',\n",
       " '?',\n",
       " 'раніший',\n",
       " 'булий',\n",
       " 'а',\n",
       " 'тепер',\n",
       " 'зниклий',\n",
       " '.',\n",
       " 'перевірити',\n",
       " 'бути',\n",
       " 'ласка',\n",
       " '-',\n",
       " 'коли',\n",
       " 'додавати',\n",
       " 'товар',\n",
       " 'у',\n",
       " 'кошик',\n",
       " 'і',\n",
       " 'обирати',\n",
       " '``',\n",
       " 'акція',\n",
       " '!',\n",
       " 'знижка',\n",
       " '5',\n",
       " '%',\n",
       " 'перти',\n",
       " 'оплата',\n",
       " 'картка',\n",
       " 'mastercard',\n",
       " 'через',\n",
       " 'masterpass',\n",
       " '!',\n",
       " \"''\",\n",
       " 'то',\n",
       " 'ціна',\n",
       " 'не',\n",
       " 'змінюватися',\n",
       " '.']"
      ]
     },
     "execution_count": 14,
     "metadata": {},
     "output_type": "execute_result"
    }
   ],
   "source": [
    "tokenize_lemmatize_filter(X_learn[0], trace=True)"
   ]
  },
  {
   "cell_type": "code",
   "execution_count": 15,
   "metadata": {
    "pycharm": {}
   },
   "outputs": [],
   "source": [
    "def show_most_freq_terms(features, vocab):\n",
    "    # https://medium.com/@cristhianboujon/how-to-list-the-most-common-words-from-text-corpus-using-scikit-learn-dad4d0cab41d\n",
    "    sum_words = features.sum(axis=0)\n",
    "    words_freq = [(word, sum_words[0, idx]) for word, idx in vocab.items()]\n",
    "    words_freq = sorted(words_freq, key = lambda x: x[1], reverse=True)\n",
    "    print(words_freq[:100])\n",
    "\n",
    "def classifier_nb_tfidf(X_learn, y_learn, X_test, y_test, \n",
    "                        trace = False):\n",
    "    def tokenizer(text):\n",
    "        return tokenize_lemmatize_filter(text, trace=False)\n",
    "    featurizer = CountVectorizer(\n",
    "        tokenizer=tokenizer,\n",
    "        min_df = 10, max_df = 0.1\n",
    "                    ) \n",
    "    features_learn = featurizer.fit_transform(X_learn)\n",
    "    if trace:\n",
    "        show_most_freq_terms(features_learn, featurizer.vocabulary_)\n",
    "    features_test = featurizer.transform(X_test)\n",
    "    if trace:\n",
    "        print(f\"Dictionary size = {len(featurizer.vocabulary_)}\")\n",
    "        #print(sorted([(v, k) for k, v in featurizer.vocabulary_.items()], reverse=True)[:100])\n",
    "    clf = BernoulliNB() # SGDClassifier()\n",
    "    clf.fit(features_learn, y_learn)\n",
    "    y_predicted = clf.predict(features_test)\n",
    "    return y_predicted"
   ]
  },
  {
   "cell_type": "code",
   "execution_count": 16,
   "metadata": {
    "pycharm": {}
   },
   "outputs": [],
   "source": [
    "from sklearn import metrics\n",
    "from scipy import stats\n",
    "\n",
    "def show_metrics_one_label(label: str, y_pred: List[bool], y_test: List[bool]):\n",
    "    print(f'Metrics for {label}:')\n",
    "    # print(y_pred[:20])\n",
    "    # print(y_test[:20])\n",
    "    print(f\"  Accuracy:  {metrics.accuracy_score(y_test, y_pred)}\")\n",
    "    print(f\"  Precision: {metrics.precision_score(y_test, y_pred)}\")\n",
    "    print(f\"  Recall:    {metrics.recall_score(y_test, y_pred)}\")\n",
    "    f1 = metrics.f1_score(y_test, y_pred)\n",
    "    print(f\"  F1:        {f1}\")\n",
    "    return f1\n",
    "\n",
    "def harmonic_mean_f1(y_pred: List[str], y_test: List[str])->float:\n",
    "    f1 = metrics.f1_score(y_test, y_pred)\n",
    "    hmean_f1 = stats.hmean(f1)\n",
    "    \n",
    "def show_metrics(y_pred: List[str], y_test: List[str]):\n",
    "    f1s = []\n",
    "    for label in ['neg', 'ind', 'pos']:\n",
    "        f1s.append(show_metrics_one_label(label, find_classes(label, y_pred), find_classes(label, y_test)))\n",
    "    print(f\"Mean F1 = {np.mean(f1s)}\")\n",
    "\n"
   ]
  },
  {
   "cell_type": "code",
   "execution_count": 17,
   "metadata": {
    "pycharm": {}
   },
   "outputs": [
    {
     "name": "stdout",
     "output_type": "stream",
     "text": [
      "[('смартфон', 492), (':', 476), (\"''\", 471), ('то', 463), ('...', 449), ('ще', 421), ('без', 414), ('від', 412), ('просто', 404), ('йога', 399), ('``', 393), ('можна', 391), ('проблема', 383), ('той', 381), ('якщо', 380), ('після', 372), ('один', 371), ('том', 367), ('через', 360), ('час', 357), ('2', 357), ('розетка', 355), ('чудовий', 339), ('швидко', 335), ('супер', 327), ('звук', 325), ('тримати', 321), ('коли', 315), ('даний', 315), ('користування', 314), ('скло', 313), ('якість', 312), ('мати', 311), ('немає', 309), ('модель', 306), ('добре', 301), ('навіть', 297), ('тільки', 296), ('інший', 294), ('два', 291), ('доставка', 290), ('мій', 288), ('рекомендувати', 287), ('фото', 283), ('раз', 283), ('прийти', 276), ('рука', 270), ('робот', 264), ('швидкий', 261), ('тиждень', 260), ('гріш', 256), ('про', 255), ('перший', 255), ('тут', 249), ('також', 244), ('гарний', 241), ('чохол', 235), ('дніти', 235), ('купувати', 234), ('дно', 232), ('дякувати', 230), ('%', 228), ('більше', 228), ('сказати', 224), ('отримати', 224), ('гра', 223), ('подарунок', 218), ('інтернет', 218), ('відео', 216), ('вистачати', 216), ('бо', 215), ('ви', 211), ('багато', 209), ('колір', 208), ('динамік', 208), ('5', 206), ('хто', 206), ('програма', 206), ('3', 205), ('могти', 197), ('апарат', 194), ('зарядка', 194), ('поки', 192), ('новий', 192), (\"пам'ять\", 191), ('замовити', 187), ('захисний', 185), ('досить', 183), ('версія', 183), ('кращий', 180), ('хотіти', 180), ('вона', 179), ('може', 178), ('великий', 177), ('ж', 177), ('недолік', 177), ('робити', 177), ('майже', 176), ('сподобатися', 175), ('хоча', 174)]\n",
      "Dictionary size = 1552\n",
      "Metrics for neg:\n",
      "  Accuracy:  0.8974831184775937\n",
      "  Precision: 0.43478260869565216\n",
      "  Recall:    0.32894736842105265\n",
      "  F1:        0.37453183520599254\n",
      "Metrics for ind:\n",
      "  Accuracy:  0.7157765500306936\n",
      "  Precision: 0.4172661870503597\n",
      "  Recall:    0.27817745803357313\n",
      "  F1:        0.3338129496402878\n",
      "Metrics for pos:\n",
      "  Accuracy:  0.6881522406384285\n",
      "  Precision: 0.7233009708737864\n",
      "  Recall:    0.8433962264150944\n",
      "  F1:        0.7787456445993032\n",
      "Mean F1 = 0.49569680981519443\n"
     ]
    }
   ],
   "source": [
    "predictions = classifier_nb_tfidf(X_learn, y_learn, X_test, y_test, trace=True)\n",
    "show_metrics(list(predictions), list(y_test))\n"
   ]
  },
  {
   "cell_type": "markdown",
   "metadata": {
    "pycharm": {}
   },
   "source": [
    "Я трохи погрався із параметрами, серед яких:\n",
    "\n",
    "* Чи відфільтровувати стоп-слова\n",
    "* Чи відфільтровувати токени з \"небуквами\"\n",
    "* Параметри min_df та max_df в CountVectorizer\n",
    "\n",
    "Найкраще значення гармонічного середнього F1 одержано при таких параметрах:\n",
    "\n",
    "Не відфільтровуємо стоп-слова та пропускаємо всі типи токенів\n",
    "\n",
    "min_df = 10, max_df = 0.15\n",
    "\n",
    "Mean F1 = 0.49569680981519443"
   ]
  },
  {
   "cell_type": "markdown",
   "metadata": {},
   "source": [
    "# CNN"
   ]
  },
  {
   "cell_type": "code",
   "execution_count": 18,
   "metadata": {},
   "outputs": [],
   "source": [
    "from bpemb import BPEmb"
   ]
  },
  {
   "cell_type": "code",
   "execution_count": 19,
   "metadata": {},
   "outputs": [],
   "source": [
    "emb = BPEmb(lang='uk', dim=300)"
   ]
  },
  {
   "cell_type": "code",
   "execution_count": 20,
   "metadata": {},
   "outputs": [
    {
     "name": "stdout",
     "output_type": "stream",
     "text": [
      "(7, 300)\n"
     ]
    }
   ],
   "source": [
    "e = emb.embed('словотворення, сполучники')\n",
    "print(e.shape)"
   ]
  },
  {
   "cell_type": "code",
   "execution_count": 21,
   "metadata": {},
   "outputs": [
    {
     "name": "stdout",
     "output_type": "stream",
     "text": [
      "Цікаво, що нам дасть цей спосіб ембедінга?\n",
      "(15, 300)\n"
     ]
    },
    {
     "data": {
      "text/plain": [
       "array([[ 0.18526 ,  0.020145,  0.18307 , ...,  0.066738,  0.223291,\n",
       "         0.25658 ],\n",
       "       [ 0.252238,  0.023855, -0.019895, ...,  0.228245, -0.313883,\n",
       "         0.168077],\n",
       "       [-0.024104,  0.387407, -0.22626 , ...,  0.196852,  0.102134,\n",
       "        -0.206396],\n",
       "       ...,\n",
       "       [ 0.207108,  0.306064,  0.135806, ..., -0.373194,  0.666558,\n",
       "        -0.238359],\n",
       "       [ 0.087427, -0.224826, -0.151333, ...,  0.034885, -0.172667,\n",
       "         0.032706],\n",
       "       [ 0.13943 ,  0.008205, -0.025675, ..., -0.110246,  0.33713 ,\n",
       "         0.371534]], dtype=float32)"
      ]
     },
     "execution_count": 21,
     "metadata": {},
     "output_type": "execute_result"
    }
   ],
   "source": [
    "def uk_embed(text: str, trace: bool=False)->List[str]:\n",
    "    if trace:\n",
    "        print(text)\n",
    "    e = emb.embed(text.casefold())\n",
    "    if trace:\n",
    "        print(e.shape)\n",
    "    return e\n",
    "\n",
    "uk_embed('Цікаво, що нам дасть цей спосіб ембедінга?', True)"
   ]
  },
  {
   "cell_type": "code",
   "execution_count": 23,
   "metadata": {},
   "outputs": [
    {
     "name": "stdout",
     "output_type": "stream",
     "text": [
      "Шановні! Де обіцяна знижка 5% при оплаті картою МастерКард? Раніше була а тепер зникла. Перевірте будь ласка - коли додаєш товар у кошик і обираєш \"Акція! Знижка 5% при оплаті карткою Mastercard через Masterpass!\" то ціна не змінюється. neg\n",
      "3800\n"
     ]
    }
   ],
   "source": [
    "maxlen = 500 \n",
    "\n",
    "print(X_learn[0], y_learn[0])\n",
    "X_learn_embs = [uk_embed(x) for x in X_learn]\n",
    "X_test_embs = [uk_embed(x) for x in X_test]\n",
    "print(len(X_learn_embs))"
   ]
  },
  {
   "cell_type": "code",
   "execution_count": 68,
   "metadata": {},
   "outputs": [],
   "source": [
    "def pad_seq(embs, maxlen):\n",
    "    total_samples = embs.shape[0]\n",
    "    res = np.zeros(shape=(total_samples, maxlen, dim))\n",
    "    for sample in range(total_samples):\n",
    "        smp = embs[sample]\n",
    "        for token_num in range(maxlen):\n",
    "            leave_pad = smp.shape[0]<=token_num\n",
    "            if not leave_pad:\n",
    "                res[sample, token_num, :] = smp[token_num,:]\n",
    "    return res\n",
    "\n",
    "print()"
   ]
  },
  {
   "cell_type": "code",
   "execution_count": 69,
   "metadata": {},
   "outputs": [
    {
     "name": "stdout",
     "output_type": "stream",
     "text": [
      "Pad sequences (samples x time x embeddings)\n",
      "X_learn_embs shape: (3800, 500, 300) int32\n",
      "X_test_embs shape: (1629, 500, 300) int32\n",
      "(84, 300)\n"
     ]
    }
   ],
   "source": [
    "from keras.preprocessing import sequence\n",
    "\n",
    "print('Pad sequences (samples x time x embeddings)')\n",
    "input_train = sequence.pad_sequences(X_learn_embs, maxlen=maxlen)\n",
    "input_test = sequence.pad_sequences(X_test_embs, maxlen=maxlen)\n",
    "print('input_train shape:', input_train.shape, input_train.dtype)\n",
    "print('input_test shape:', input_test.shape, input_test.dtype)\n",
    "print(X_learn_embs[0].shape)\n"
   ]
  },
  {
   "cell_type": "code",
   "execution_count": 57,
   "metadata": {},
   "outputs": [
    {
     "name": "stdout",
     "output_type": "stream",
     "text": [
      "[[0. 1. 0.]\n",
      " [0. 0. 1.]\n",
      " [0. 0. 1.]\n",
      " ...\n",
      " [0. 0. 1.]\n",
      " [1. 0. 0.]\n",
      " [1. 0. 0.]]\n"
     ]
    },
    {
     "name": "stderr",
     "output_type": "stream",
     "text": [
      "C:\\Users\\ssotn\\Anaconda3\\envs\\nlp\\lib\\site-packages\\sklearn\\preprocessing\\_encoders.py:371: FutureWarning: The handling of integer data will change in version 0.22. Currently, the categories are determined based on the range [0, max(values)], while in the future they will be determined based on the unique values.\n",
      "If you want the future behaviour and silence this warning, you can specify \"categories='auto'\".\n",
      "In case you used a LabelEncoder before this OneHotEncoder to convert the categories to integers, then you can now use the OneHotEncoder directly.\n",
      "  warnings.warn(msg, FutureWarning)\n"
     ]
    }
   ],
   "source": [
    "from numpy import argmax\n",
    "from sklearn.preprocessing import LabelEncoder\n",
    "from sklearn.preprocessing import OneHotEncoder\n",
    "\n",
    "label_encoder = LabelEncoder()\n",
    "y_learn_enc = label_encoder.fit_transform(y_learn)\n",
    "y_test_enc = label_encoder.transform(y_test)\n",
    "\n",
    "y_learn_enc = y_learn_enc.reshape(len(y_learn_enc), 1)\n",
    "y_test_enc = y_test_enc.reshape(len(y_test_enc), 1)\n",
    "\n",
    "one_hot_encoder = OneHotEncoder(sparse=False)\n",
    "y_learn_one_hot = one_hot_encoder.fit_transform(y_learn_enc)\n",
    "y_test_one_hot = one_hot_encoder.transform(y_test_enc)\n",
    "\n",
    "print(y_learn_one_hot)\n"
   ]
  },
  {
   "cell_type": "markdown",
   "metadata": {},
   "source": [
    "X_learn_embs = np.array(X_learn_embs)\n",
    "X_test_embs = np.array(X_test_embs)\n",
    "y_learn_one_hot = np.array(y_learn_one_hot)\n",
    "y_test_one_hot = np.array(y_test_one_hot)\n",
    "print('X_learn_embs shape:', X_learn_embs.shape, X_learn_embs.dtype)\n",
    "print('X_test_embs shape:', X_test_embs.shape, X_test_embs.dtype)"
   ]
  },
  {
   "cell_type": "code",
   "execution_count": 54,
   "metadata": {},
   "outputs": [],
   "source": [
    "from keras.models import Sequential\n",
    "from keras import layers\n",
    "from keras.optimizers import RMSprop, Adam\n",
    "from keras.callbacks import EarlyStopping, ReduceLROnPlateau, ModelCheckpoint\n",
    "from keras import regularizers"
   ]
  },
  {
   "cell_type": "code",
   "execution_count": 91,
   "metadata": {},
   "outputs": [
    {
     "name": "stdout",
     "output_type": "stream",
     "text": [
      "_________________________________________________________________\n",
      "Layer (type)                 Output Shape              Param #   \n",
      "=================================================================\n",
      "conv1d_33 (Conv1D)           (None, 494, 61)           128161    \n",
      "_________________________________________________________________\n",
      "max_pooling1d_16 (MaxPooling (None, 98, 61)            0         \n",
      "_________________________________________________________________\n",
      "dropout_31 (Dropout)         (None, 98, 61)            0         \n",
      "_________________________________________________________________\n",
      "conv1d_34 (Conv1D)           (None, 92, 32)            13696     \n",
      "_________________________________________________________________\n",
      "global_max_pooling1d_16 (Glo (None, 32)                0         \n",
      "_________________________________________________________________\n",
      "dropout_32 (Dropout)         (None, 32)                0         \n",
      "_________________________________________________________________\n",
      "dense_18 (Dense)             (None, 3)                 99        \n",
      "=================================================================\n",
      "Total params: 141,956\n",
      "Trainable params: 141,956\n",
      "Non-trainable params: 0\n",
      "_________________________________________________________________\n"
     ]
    }
   ],
   "source": [
    "l2 = 0.001\n",
    "dout = 0.1\n",
    "max_features = 300\n",
    "\n",
    "model = Sequential()\n",
    "#model.add(layers.Embedding(max_features, 64, input_length=maxlen, embeddings_regularizer=regularizers.l2(l2)))\n",
    "#model.add(layers.Dropout(dout))\n",
    "model.add(layers.Conv1D(61, 7, activation='relu', input_shape=(500,300),\n",
    "                        kernel_regularizer=regularizers.l2(l2)))\n",
    "model.add(layers.MaxPooling1D(5))\n",
    "model.add(layers.Dropout(dout))\n",
    "model.add(layers.Conv1D(32, 7, activation='relu', kernel_regularizer=regularizers.l2(l2)))\n",
    "model.add(layers.GlobalMaxPooling1D())\n",
    "model.add(layers.Dropout(dout))\n",
    "model.add(layers.Dense(3, activation='softmax', kernel_regularizer=regularizers.l2(l2)))\n",
    "\n",
    "model.compile(optimizer=Adam(lr=1e-3),\n",
    "                #loss='binary_crossentropy',\n",
    "                #loss='mean_squared_error',\n",
    "                loss='categorical_crossentropy',\n",
    "                metrics=['acc'])\n",
    "\n",
    "model.summary()\n"
   ]
  },
  {
   "cell_type": "code",
   "execution_count": 92,
   "metadata": {},
   "outputs": [
    {
     "name": "stdout",
     "output_type": "stream",
     "text": [
      "Train on 3040 samples, validate on 760 samples\n",
      "Epoch 1/100\n",
      "3040/3040 [==============================] - 32s 11ms/step - loss: 0.9202 - acc: 0.6668 - val_loss: 0.8850 - val_acc: 0.6671\n",
      "\n",
      "Epoch 00001: val_acc improved from -inf to 0.66711, saving model to data/r.weights.cnn.best.hdf5\n",
      "Epoch 2/100\n",
      "3040/3040 [==============================] - 32s 11ms/step - loss: 0.8496 - acc: 0.6678 - val_loss: 0.8659 - val_acc: 0.6671\n",
      "\n",
      "Epoch 00002: val_acc did not improve from 0.66711\n",
      "Epoch 3/100\n",
      "3040/3040 [==============================] - 32s 11ms/step - loss: 0.8266 - acc: 0.6684 - val_loss: 0.8633 - val_acc: 0.6737\n",
      "\n",
      "Epoch 00003: val_acc improved from 0.66711 to 0.67368, saving model to data/r.weights.cnn.best.hdf5\n",
      "Epoch 4/100\n",
      "3040/3040 [==============================] - 32s 11ms/step - loss: 0.8095 - acc: 0.6707 - val_loss: 0.8672 - val_acc: 0.6684\n",
      "\n",
      "Epoch 00004: val_acc did not improve from 0.67368\n",
      "Epoch 5/100\n",
      "3040/3040 [==============================] - 32s 11ms/step - loss: 0.7888 - acc: 0.6803 - val_loss: 0.8768 - val_acc: 0.6697\n",
      "\n",
      "Epoch 00005: val_acc did not improve from 0.67368\n",
      "Epoch 6/100\n",
      "3040/3040 [==============================] - 32s 11ms/step - loss: 0.7683 - acc: 0.7039 - val_loss: 0.8901 - val_acc: 0.6553\n",
      "\n",
      "Epoch 00006: val_acc did not improve from 0.67368\n",
      "Epoch 7/100\n",
      "3040/3040 [==============================] - 32s 11ms/step - loss: 0.7419 - acc: 0.7270 - val_loss: 0.9247 - val_acc: 0.6737\n",
      "\n",
      "Epoch 00007: val_acc did not improve from 0.67368\n",
      "Epoch 8/100\n",
      "3040/3040 [==============================] - 32s 11ms/step - loss: 0.7219 - acc: 0.7414 - val_loss: 0.9540 - val_acc: 0.6776\n",
      "\n",
      "Epoch 00008: val_acc improved from 0.67368 to 0.67763, saving model to data/r.weights.cnn.best.hdf5\n",
      "Epoch 9/100\n",
      "3040/3040 [==============================] - 32s 11ms/step - loss: 0.6822 - acc: 0.7701 - val_loss: 0.9805 - val_acc: 0.6737\n",
      "\n",
      "Epoch 00009: val_acc did not improve from 0.67763\n",
      "Epoch 10/100\n",
      "3040/3040 [==============================] - 32s 10ms/step - loss: 0.6499 - acc: 0.7961 - val_loss: 1.0072 - val_acc: 0.6711\n",
      "\n",
      "Epoch 00010: val_acc did not improve from 0.67763\n",
      "Epoch 11/100\n",
      "3040/3040 [==============================] - 32s 11ms/step - loss: 0.6283 - acc: 0.8155 - val_loss: 1.0530 - val_acc: 0.6500\n",
      "\n",
      "Epoch 00011: val_acc did not improve from 0.67763\n",
      "Epoch 12/100\n",
      "3040/3040 [==============================] - 32s 11ms/step - loss: 0.6106 - acc: 0.8319 - val_loss: 1.0771 - val_acc: 0.6645\n",
      "\n",
      "Epoch 00012: val_acc did not improve from 0.67763\n",
      "Epoch 13/100\n",
      "3040/3040 [==============================] - 32s 10ms/step - loss: 0.5791 - acc: 0.8438 - val_loss: 1.1427 - val_acc: 0.6395\n",
      "\n",
      "Epoch 00013: val_acc did not improve from 0.67763\n",
      "Epoch 14/100\n",
      "3040/3040 [==============================] - 32s 11ms/step - loss: 0.5713 - acc: 0.8592 - val_loss: 1.1404 - val_acc: 0.6645\n",
      "\n",
      "Epoch 00014: val_acc did not improve from 0.67763\n",
      "Epoch 15/100\n",
      "3040/3040 [==============================] - 32s 11ms/step - loss: 0.5492 - acc: 0.8628 - val_loss: 1.1624 - val_acc: 0.6605\n",
      "\n",
      "Epoch 00015: val_acc did not improve from 0.67763\n",
      "Epoch 16/100\n",
      "3040/3040 [==============================] - 32s 11ms/step - loss: 0.5377 - acc: 0.8783 - val_loss: 1.1876 - val_acc: 0.6526\n",
      "\n",
      "Epoch 00016: val_acc did not improve from 0.67763\n",
      "Epoch 17/100\n",
      "3040/3040 [==============================] - 32s 10ms/step - loss: 0.5366 - acc: 0.8803 - val_loss: 1.1910 - val_acc: 0.6395\n",
      "\n",
      "Epoch 00017: val_acc did not improve from 0.67763\n",
      "Epoch 18/100\n",
      "3040/3040 [==============================] - 32s 11ms/step - loss: 0.5156 - acc: 0.8914 - val_loss: 1.2053 - val_acc: 0.6553\n",
      "\n",
      "Epoch 00018: val_acc did not improve from 0.67763\n",
      "Epoch 19/100\n",
      "3040/3040 [==============================] - 32s 11ms/step - loss: 0.4949 - acc: 0.9053 - val_loss: 1.2663 - val_acc: 0.6618\n",
      "\n",
      "Epoch 00019: val_acc did not improve from 0.67763\n",
      "Epoch 20/100\n",
      "3040/3040 [==============================] - 32s 11ms/step - loss: 0.5082 - acc: 0.9000 - val_loss: 1.2519 - val_acc: 0.6513\n",
      "\n",
      "Epoch 00020: val_acc did not improve from 0.67763\n",
      "Epoch 21/100\n",
      "3040/3040 [==============================] - 32s 11ms/step - loss: 0.5052 - acc: 0.8977 - val_loss: 1.3285 - val_acc: 0.6684\n",
      "\n",
      "Epoch 00021: val_acc did not improve from 0.67763\n",
      "Epoch 22/100\n",
      "3040/3040 [==============================] - 32s 11ms/step - loss: 0.4782 - acc: 0.9151 - val_loss: 1.3000 - val_acc: 0.6513\n",
      "\n",
      "Epoch 00022: val_acc did not improve from 0.67763\n",
      "Epoch 23/100\n",
      "3040/3040 [==============================] - 32s 11ms/step - loss: 0.4625 - acc: 0.9250 - val_loss: 1.3027 - val_acc: 0.6355\n",
      "\n",
      "Epoch 00023: val_acc did not improve from 0.67763\n"
     ]
    }
   ],
   "source": [
    "early_stopping=EarlyStopping(monitor='val_acc', patience=15)\n",
    "reduce_lr = ReduceLROnPlateau(monitor='acc', factor=0.2,\n",
    "                              patience=5, min_lr=0.000001,\n",
    "                              verbose=True)\n",
    "checkpoint = ModelCheckpoint('data/r.weights.cnn.best.hdf5', monitor='val_acc', verbose=1, save_best_only=True, mode='max')\n",
    "\n",
    "\n",
    "history = model.fit(input_train, y_learn_one_hot,\n",
    "            epochs=100,\n",
    "            batch_size=16,\n",
    "            validation_split=0.2,\n",
    "            callbacks=[early_stopping, reduce_lr, checkpoint])"
   ]
  },
  {
   "cell_type": "code",
   "execution_count": 83,
   "metadata": {},
   "outputs": [
    {
     "data": {
      "image/png": "[encoded data removed]",
      "text/plain": [
       "<Figure size 432x288 with 1 Axes>"
      ]
     },
     "metadata": {
      "needs_background": "light"
     },
     "output_type": "display_data"
    },
    {
     "data": {
      "image/png": "[encoded data removed]",
      "text/plain": [
       "<Figure size 432x288 with 1 Axes>"
      ]
     },
     "metadata": {
      "needs_background": "light"
     },
     "output_type": "display_data"
    }
   ],
   "source": [
    "acc = history.history['acc']\n",
    "val_acc = history.history['val_acc']\n",
    "loss = history.history['loss']\n",
    "val_loss = history.history['val_loss']\n",
    "epochs = range(1, len(acc) + 1)\n",
    "plt.plot(epochs, acc, 'bo', label='Training acc')\n",
    "plt.plot(epochs, val_acc, 'b', label='Validation acc')\n",
    "plt.title('Training and validation accuracy')\n",
    "plt.legend()\n",
    "plt.figure()\n",
    "plt.plot(epochs, loss, 'bo', label='Training loss')\n",
    "plt.plot(epochs, val_loss, 'b', label='Validation loss')\n",
    "plt.title('Training and validation loss')\n",
    "plt.legend()\n",
    "plt.show()"
   ]
  },
  {
   "cell_type": "code",
   "execution_count": null,
   "metadata": {},
   "outputs": [],
   "source": []
  }
 ],
 "metadata": {
  "kernelspec": {
   "display_name": "nlp",
   "language": "python",
   "name": "nlp"
  },
  "language_info": {
   "codemirror_mode": {
    "name": "ipython",
    "version": 3
   },
   "file_extension": ".py",
   "mimetype": "text/x-python",
   "name": "python",
   "nbconvert_exporter": "python",
   "pygments_lexer": "ipython3",
   "version": "3.6.8"
  }
 },
 "nbformat": 4,
 "nbformat_minor": 1
}
